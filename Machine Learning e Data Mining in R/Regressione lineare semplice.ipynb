{
 "cells": [
  {
   "cell_type": "markdown",
   "metadata": {},
   "source": [
    "# Analisi della regressione lineare semplice\n",
    "\n",
    "Disponiamo dell'età e della pressione arteriosa di 36 uomini ritenuti in buone\n",
    "condizioni di salute. I dati, ordinati per età crescente, sono disponibili nel file \"pressione_arteriosa.csv\", che possiamo importare in una variabile della classe *data frame* denominata `pressione_df`."
   ]
  },
  {
   "cell_type": "code",
   "execution_count": 1,
   "metadata": {},
   "outputs": [
    {
     "name": "stderr",
     "output_type": "stream",
     "text": [
      "── \u001b[1mAttaching packages\u001b[22m ─────────────────────────────────────── tidyverse 1.3.0 ──\n",
      "\n",
      "\u001b[32m✔\u001b[39m \u001b[34mggplot2\u001b[39m 3.3.0     \u001b[32m✔\u001b[39m \u001b[34mpurrr  \u001b[39m 0.3.4\n",
      "\u001b[32m✔\u001b[39m \u001b[34mtibble \u001b[39m 3.0.1     \u001b[32m✔\u001b[39m \u001b[34mdplyr  \u001b[39m 0.8.5\n",
      "\u001b[32m✔\u001b[39m \u001b[34mtidyr  \u001b[39m 1.0.2     \u001b[32m✔\u001b[39m \u001b[34mstringr\u001b[39m 1.4.0\n",
      "\u001b[32m✔\u001b[39m \u001b[34mreadr  \u001b[39m 1.3.1     \u001b[32m✔\u001b[39m \u001b[34mforcats\u001b[39m 0.5.0\n",
      "\n",
      "── \u001b[1mConflicts\u001b[22m ────────────────────────────────────────── tidyverse_conflicts() ──\n",
      "\u001b[31m✖\u001b[39m \u001b[34mdplyr\u001b[39m::\u001b[32mfilter()\u001b[39m masks \u001b[34mstats\u001b[39m::filter()\n",
      "\u001b[31m✖\u001b[39m \u001b[34mdplyr\u001b[39m::\u001b[32mlag()\u001b[39m    masks \u001b[34mstats\u001b[39m::lag()\n",
      "\n"
     ]
    },
    {
     "data": {
      "text/html": [
       "'data.frame'"
      ],
      "text/latex": [
       "'data.frame'"
      ],
      "text/markdown": [
       "'data.frame'"
      ],
      "text/plain": [
       "[1] \"data.frame\""
      ]
     },
     "metadata": {},
     "output_type": "display_data"
    }
   ],
   "source": [
    "library(tidyverse)\n",
    "pressione_df <- read.csv(\"data/pressione_arteriosa.csv\")\n",
    "class(pressione_df)"
   ]
  },
  {
   "cell_type": "markdown",
   "metadata": {},
   "source": [
    "Un *data frame* ricordiamo che è una tabella di dati, in cui  ogni colonna può essere di un tipo diverso. \n",
    "In questo caso, abbiamo solo due colonne numeriche. \n",
    "Visualizza \n",
    "* le prime righe del *data frame* `pressione_df` "
   ]
  },
  {
   "cell_type": "code",
   "execution_count": 2,
   "metadata": {},
   "outputs": [
    {
     "data": {
      "text/html": [
       "<table>\n",
       "<caption>A data.frame: 6 × 3</caption>\n",
       "<thead>\n",
       "\t<tr><th></th><th scope=col>id_paziente</th><th scope=col>eta</th><th scope=col>pressione_arteriosa_mmHg</th></tr>\n",
       "\t<tr><th></th><th scope=col>&lt;fct&gt;</th><th scope=col>&lt;int&gt;</th><th scope=col>&lt;int&gt;</th></tr>\n",
       "</thead>\n",
       "<tbody>\n",
       "\t<tr><th scope=row>1</th><td>paziente_01</td><td>33</td><td>127</td></tr>\n",
       "\t<tr><th scope=row>2</th><td>paziente_02</td><td>37</td><td>126</td></tr>\n",
       "\t<tr><th scope=row>3</th><td>paziente_03</td><td>38</td><td>118</td></tr>\n",
       "\t<tr><th scope=row>4</th><td>paziente_04</td><td>39</td><td>113</td></tr>\n",
       "\t<tr><th scope=row>5</th><td>paziente_05</td><td>39</td><td>126</td></tr>\n",
       "\t<tr><th scope=row>6</th><td>paziente_06</td><td>40</td><td>120</td></tr>\n",
       "</tbody>\n",
       "</table>\n"
      ],
      "text/latex": [
       "A data.frame: 6 × 3\n",
       "\\begin{tabular}{r|lll}\n",
       "  & id\\_paziente & eta & pressione\\_arteriosa\\_mmHg\\\\\n",
       "  & <fct> & <int> & <int>\\\\\n",
       "\\hline\n",
       "\t1 & paziente\\_01 & 33 & 127\\\\\n",
       "\t2 & paziente\\_02 & 37 & 126\\\\\n",
       "\t3 & paziente\\_03 & 38 & 118\\\\\n",
       "\t4 & paziente\\_04 & 39 & 113\\\\\n",
       "\t5 & paziente\\_05 & 39 & 126\\\\\n",
       "\t6 & paziente\\_06 & 40 & 120\\\\\n",
       "\\end{tabular}\n"
      ],
      "text/markdown": [
       "\n",
       "A data.frame: 6 × 3\n",
       "\n",
       "| <!--/--> | id_paziente &lt;fct&gt; | eta &lt;int&gt; | pressione_arteriosa_mmHg &lt;int&gt; |\n",
       "|---|---|---|---|\n",
       "| 1 | paziente_01 | 33 | 127 |\n",
       "| 2 | paziente_02 | 37 | 126 |\n",
       "| 3 | paziente_03 | 38 | 118 |\n",
       "| 4 | paziente_04 | 39 | 113 |\n",
       "| 5 | paziente_05 | 39 | 126 |\n",
       "| 6 | paziente_06 | 40 | 120 |\n",
       "\n"
      ],
      "text/plain": [
       "  id_paziente eta pressione_arteriosa_mmHg\n",
       "1 paziente_01 33  127                     \n",
       "2 paziente_02 37  126                     \n",
       "3 paziente_03 38  118                     \n",
       "4 paziente_04 39  113                     \n",
       "5 paziente_05 39  126                     \n",
       "6 paziente_06 40  120                     "
      ]
     },
     "metadata": {},
     "output_type": "display_data"
    }
   ],
   "source": [
    "head(pressione_df)"
   ]
  },
  {
   "cell_type": "markdown",
   "metadata": {},
   "source": [
    "* informazioni sul tipo di variabili per ogni colonna del *data frame* con la funzione `str()`"
   ]
  },
  {
   "cell_type": "code",
   "execution_count": 3,
   "metadata": {},
   "outputs": [
    {
     "name": "stdout",
     "output_type": "stream",
     "text": [
      "'data.frame':\t36 obs. of  3 variables:\n",
      " $ id_paziente             : Factor w/ 36 levels \"paziente_01\",..: 1 2 3 4 5 6 7 8 9 10 ...\n",
      " $ eta                     : int  33 37 38 39 39 40 42 43 44 47 ...\n",
      " $ pressione_arteriosa_mmHg: int  127 126 118 113 126 120 132 122 134 147 ...\n"
     ]
    }
   ],
   "source": [
    "str(pressione_df)"
   ]
  },
  {
   "cell_type": "markdown",
   "metadata": {},
   "source": [
    "* statistiche descrittive delle due variabili in gioco, usando la funzione `summary()`"
   ]
  },
  {
   "cell_type": "code",
   "execution_count": 4,
   "metadata": {},
   "outputs": [
    {
     "data": {
      "text/plain": [
       "      id_paziente      eta        pressione_arteriosa_mmHg\n",
       " paziente_01: 1   Min.   :33.00   Min.   :113.0           \n",
       " paziente_02: 1   1st Qu.:46.25   1st Qu.:126.8           \n",
       " paziente_03: 1   Median :51.50   Median :135.5           \n",
       " paziente_04: 1   Mean   :51.89   Mean   :138.1           \n",
       " paziente_05: 1   3rd Qu.:57.25   3rd Qu.:148.0           \n",
       " paziente_06: 1   Max.   :75.00   Max.   :172.0           \n",
       " (Other)    :30                                           "
      ]
     },
     "metadata": {},
     "output_type": "display_data"
    }
   ],
   "source": [
    "summary(pressione_df)"
   ]
  },
  {
   "cell_type": "markdown",
   "metadata": {},
   "source": [
    "Per comodità, assegna ai vettori `x_eta` e `y_pressione` le colonne/variabili che intendi utilizzare, rispettivamente, come *variabile indipendente* (detta anche *regressore*, *covariata* o *predittore*) e come *variabile dipendente* (o di risposta) nell'analisi della regressione lineare semplice. "
   ]
  },
  {
   "cell_type": "code",
   "execution_count": 5,
   "metadata": {},
   "outputs": [],
   "source": [
    "x_eta <- pressione_df$eta\n",
    "y_pressione <- pressione_df$pressione_arteriosa_mmHg"
   ]
  },
  {
   "cell_type": "markdown",
   "metadata": {},
   "source": [
    "Esplora graficamente l'associazione lineare della variabile `y_pressione` con la variabile `x_eta`, attraverso un grafico a dispersione, ed osserva come i punti tendono ad allinearsi o comunque ad essere positivamente correlati."
   ]
  },
  {
   "cell_type": "code",
   "execution_count": 6,
   "metadata": {
    "scrolled": true
   },
   "outputs": [
    {
     "data": {
      "image/png": "[encoded data removed]",
      "text/plain": [
       "plot without title"
      ]
     },
     "metadata": {
      "image/png": {
       "height": 420,
       "width": 420
      },
      "text/plain": {
       "height": 420,
       "width": 420
      }
     },
     "output_type": "display_data"
    }
   ],
   "source": [
    "plot(y_pressione, x_eta)"
   ]
  },
  {
   "cell_type": "markdown",
   "metadata": {},
   "source": [
    "## Analisi della regressione con la funzione `lm()` (linear model)\n",
    "\n",
    "Ipotizza quindi un modello di regressione lineare semplice tra le variabili, ossia $$y = \\beta_0 + \\beta_1 x + \\varepsilon$$ che puoi stimare in `R` attraverso la funzione `lm()` (ossia puoi stimarne i coefficienti di regressione o i parametri $\\hat{\\beta_1}$ di $\\beta_1$ e $\\hat\\beta_0$ di $\\beta_0$).\n",
    "La funzione `lm()` consente di lavorare direttamente sui *data frame*, oltreché ovviamente, come in questo caso, sui vettori colonna `x _eta` e `y_pressione`.\n",
    "\n",
    "La sintassi di `lm()` è\n",
    "`lm(variabile_di_risposta ~ variabile indipendente)`\n",
    "\n",
    "Suggerimento: il carattere `~` si può ottenere con la combinazione di tasti ALT+5 (utenti MAC) o ALT+126 (utenti Windows).\n",
    "\n",
    "L'oggetto restituito dalla funzione `lm()` è di classe `'lm'` e deve, come per ogni funzione, essere memorizzato in una variabile definita da te. Nel seguente esempio la chiamiamo `modello_regressione`. "
   ]
  },
  {
   "cell_type": "code",
   "execution_count": 7,
   "metadata": {},
   "outputs": [
    {
     "data": {
      "text/html": [
       "'lm'"
      ],
      "text/latex": [
       "'lm'"
      ],
      "text/markdown": [
       "'lm'"
      ],
      "text/plain": [
       "[1] \"lm\""
      ]
     },
     "metadata": {},
     "output_type": "display_data"
    }
   ],
   "source": [
    "modello_regressione <- lm(y_pressione ~ x_eta)\n",
    "modello_regressione <- lm(pressione_arteriosa_mmHg ~ eta, data=pressione_df) #equivalente\n",
    "class(modello_regressione)"
   ]
  },
  {
   "cell_type": "markdown",
   "metadata": {},
   "source": [
    "Nella variabile `modello_regressione` sono conservate tutte le informazioni dell'analisi di regressione lineare semplice, che puoi visualizzare sinteticamente attraverso il comando `summary()` e salvarlo per comodità nella variabile `reg.summary`. Nel seguito proveremo ad interpretare tale output e ricavarne informazioni per l'interpretazione del modello. "
   ]
  },
  {
   "cell_type": "code",
   "execution_count": 8,
   "metadata": {},
   "outputs": [
    {
     "data": {
      "text/plain": [
       "\n",
       "Call:\n",
       "lm(formula = pressione_arteriosa_mmHg ~ eta, data = pressione_df)\n",
       "\n",
       "Residuals:\n",
       "    Min      1Q  Median      3Q     Max \n",
       "-18.462  -5.343  -0.678   5.714  19.424 \n",
       "\n",
       "Coefficients:\n",
       "            Estimate Std. Error t value Pr(>|t|)    \n",
       "(Intercept)  80.3267     8.1486   9.858 1.68e-11 ***\n",
       "eta           1.1136     0.1544   7.214 2.40e-08 ***\n",
       "---\n",
       "Signif. codes:  0 ‘***’ 0.001 ‘**’ 0.01 ‘*’ 0.05 ‘.’ 0.1 ‘ ’ 1\n",
       "\n",
       "Residual standard error: 8.984 on 34 degrees of freedom\n",
       "Multiple R-squared:  0.6049,\tAdjusted R-squared:  0.5932 \n",
       "F-statistic: 52.04 on 1 and 34 DF,  p-value: 2.396e-08\n"
      ]
     },
     "metadata": {},
     "output_type": "display_data"
    }
   ],
   "source": [
    "reg.summary <- summary(modello_regressione)\n",
    "reg.summary"
   ]
  },
  {
   "cell_type": "markdown",
   "metadata": {},
   "source": [
    "Le stime $\\hat \\beta_0$ e $\\hat \\beta_1$ dei coefficienti di regressione $\\beta_0$ e $\\beta_1$ sono contenuti in `modello_regressione$coefficients` e possono essere assegnate alle variabili `beta1_hat` e `beta0_hat` tramite le istruzioni seguenti."
   ]
  },
  {
   "cell_type": "code",
   "execution_count": 9,
   "metadata": {},
   "outputs": [
    {
     "data": {
      "text/html": [
       "<style>\n",
       ".dl-inline {width: auto; margin:0; padding: 0}\n",
       ".dl-inline>dt, .dl-inline>dd {float: none; width: auto; display: inline-block}\n",
       ".dl-inline>dt::after {content: \":\\0020\"; padding-right: .5ex}\n",
       ".dl-inline>dt:not(:first-of-type) {padding-left: .5ex}\n",
       "</style><dl class=dl-inline><dt>(Intercept)</dt><dd>80.3266859092102</dd><dt>eta</dt><dd>1.11361847284177</dd></dl>\n"
      ],
      "text/latex": [
       "\\begin{description*}\n",
       "\\item[(Intercept)] 80.3266859092102\n",
       "\\item[eta] 1.11361847284177\n",
       "\\end{description*}\n"
      ],
      "text/markdown": [
       "(Intercept)\n",
       ":   80.3266859092102eta\n",
       ":   1.11361847284177\n",
       "\n"
      ],
      "text/plain": [
       "(Intercept)         eta \n",
       "  80.326686    1.113618 "
      ]
     },
     "metadata": {},
     "output_type": "display_data"
    }
   ],
   "source": [
    "modello_regressione$coefficients\n",
    "beta0_hat <- modello_regressione$coefficients[[1]]\n",
    "beta1_hat <-modello_regressione$coefficients[[2]]"
   ]
  },
  {
   "cell_type": "markdown",
   "metadata": {},
   "source": [
    "Puoi quindi disegnare la retta di regressione"
   ]
  },
  {
   "cell_type": "code",
   "execution_count": 10,
   "metadata": {},
   "outputs": [
    {
     "data": {
      "image/png": "[encoded data removed]",
      "text/plain": [
       "plot without title"
      ]
     },
     "metadata": {
      "image/png": {
       "height": 420,
       "width": 420
      },
      "text/plain": {
       "height": 420,
       "width": 420
      }
     },
     "output_type": "display_data"
    }
   ],
   "source": [
    "plot(x_eta, y_pressione, \n",
    "     xlab = \"Età [anni]\", ylab = \"Pressione arteriosa [mmHg]\")\n",
    "abline(a = beta0_hat, #intercetta\n",
    "       b = beta1_hat, #coefficiente angolare\n",
    "        col = \"blue\") "
   ]
  },
  {
   "cell_type": "markdown",
   "metadata": {},
   "source": [
    "## Intervalli di confidenza su intercetta e coefficiente angolare della retta di regressione\n",
    "Analogamente all'intervallo di confidenza per la media della variabile di risposta, introdotto nel video \"Descrizione, inferenza, previsione\", l'intervallo di confidenza al livello di fiducia $1-\\alpha$ per $\\beta_0$ (risp. $\\beta_1$) è l'intervallo, calcolato sulla base del campione sperimentale, che contiene, con fiducia pari ad $1-\\alpha$, il valore vero di $\\beta_0$ (risp. $\\beta_1$). $\\alpha$ è un valore compreso tra 0 e 1, tipicamente posto pari a 0.05. \n",
    "\n"
   ]
  },
  {
   "cell_type": "markdown",
   "metadata": {},
   "source": [
    "Ricorda che l'intervallo di confidenza al livello di fiducia $1-\\alpha=0.95$ per la media $\\mu$ della variabile di risposta, è pari a\n",
    "\n",
    "$$\\left( \\bar y - t_{0.975,n-1} \\hat \\sigma_{\\bar y}, \\bar y + t_{0.975,n-1} \\hat \\sigma_{\\bar y} \\right)$$\n",
    "\n",
    "dove $t_{0.975,\\nu}$ indica il quantile 0.975 della distribuzione $t$ di Student, con $\\nu$ gradi di libertà,\n",
    "e $\\hat \\sigma_{\\bar y}=\\frac{s}{\\sqrt{n}}$.\n",
    "\n",
    "In analogia, anche gli intervalli di confidenza per $\\beta_0$ e $\\beta_1$ al livello di fiducia $1-\\alpha$ sono centrati sulle stime $\\hat \\beta_0$ e $\\hat \\beta_1$ ed hanno  semiampiezza pari al prodotto della deviazione standard stimata di $\\hat \\beta_0$ e $\\hat \\beta_1$ per il quantile $t_{1-\\alpha/2,\\nu}$. Ossia \n",
    "\n",
    "$$\\left( \\hat \\beta_0 - t_{1-\\alpha/2,n-2} \\hat \\sigma_{\\hat \\beta_0}, \\hat \\beta_0 + t_{1-\\alpha/2,n-2} \\hat \\sigma_{\\hat \\beta_0} \\right)$$\n",
    "\n",
    "e\n",
    "\n",
    "$$\\left( \\hat \\beta_1 - t_{1-\\alpha/2,n-2} \\hat \\sigma_{\\hat \\beta_1}, \\hat \\beta_0 + t_{1-\\alpha/2,n-2} \\hat \\sigma_{\\hat \\beta_1} \\right).$$\n",
    "\n",
    "Le stime $\\hat \\sigma_{\\hat \\beta_0}$ e $\\hat \\sigma_{\\hat \\beta_1}$ sono disponibili in `summary(modello_regressione)$coefficients[, \"Std. Error\"]` e puoi, per comodità di calcolo, assegnarle alle variabili `sigma_hat_beta0` e `sigma_hat_beta1`."
   ]
  },
  {
   "cell_type": "code",
   "execution_count": 11,
   "metadata": {},
   "outputs": [
    {
     "data": {
      "text/html": [
       "8.149"
      ],
      "text/latex": [
       "8.149"
      ],
      "text/markdown": [
       "8.149"
      ],
      "text/plain": [
       "[1] 8.149"
      ]
     },
     "metadata": {},
     "output_type": "display_data"
    },
    {
     "data": {
      "text/html": [
       "0.154"
      ],
      "text/latex": [
       "0.154"
      ],
      "text/markdown": [
       "0.154"
      ],
      "text/plain": [
       "[1] 0.154"
      ]
     },
     "metadata": {},
     "output_type": "display_data"
    }
   ],
   "source": [
    "sigma_hat_beta0 <- summary(modello_regressione)$coefficients[, \"Std. Error\"][[1]]\n",
    "sigma_hat_beta1 <- summary(modello_regressione)$coefficients[, \"Std. Error\"][[2]]\n",
    "sigma_hat_beta0  %>% round(3)\n",
    "sigma_hat_beta1  %>% round(3)"
   ]
  },
  {
   "cell_type": "markdown",
   "metadata": {},
   "source": [
    "A questo punto, puoi finalmente calcolare gli intervalli richiesti, attraverso il seguente codice."
   ]
  },
  {
   "cell_type": "code",
   "execution_count": 12,
   "metadata": {},
   "outputs": [
    {
     "data": {
      "text/html": [
       "<style>\n",
       ".list-inline {list-style: none; margin:0; padding: 0}\n",
       ".list-inline>li {display: inline-block}\n",
       ".list-inline>li:not(:last-child)::after {content: \"\\00b7\"; padding: 0 .5ex}\n",
       "</style>\n",
       "<ol class=list-inline><li>0.8</li><li>1.43</li></ol>\n"
      ],
      "text/latex": [
       "\\begin{enumerate*}\n",
       "\\item 0.8\n",
       "\\item 1.43\n",
       "\\end{enumerate*}\n"
      ],
      "text/markdown": [
       "1. 0.8\n",
       "2. 1.43\n",
       "\n",
       "\n"
      ],
      "text/plain": [
       "[1] 0.80 1.43"
      ]
     },
     "metadata": {},
     "output_type": "display_data"
    },
    {
     "data": {
      "text/html": [
       "<style>\n",
       ".list-inline {list-style: none; margin:0; padding: 0}\n",
       ".list-inline>li {display: inline-block}\n",
       ".list-inline>li:not(:last-child)::after {content: \"\\00b7\"; padding: 0 .5ex}\n",
       "</style>\n",
       "<ol class=list-inline><li>63.77</li><li>96.89</li></ol>\n"
      ],
      "text/latex": [
       "\\begin{enumerate*}\n",
       "\\item 63.77\n",
       "\\item 96.89\n",
       "\\end{enumerate*}\n"
      ],
      "text/markdown": [
       "1. 63.77\n",
       "2. 96.89\n",
       "\n",
       "\n"
      ],
      "text/plain": [
       "[1] 63.77 96.89"
      ]
     },
     "metadata": {},
     "output_type": "display_data"
    }
   ],
   "source": [
    "n <- length(y_pressione) #ampiezza campionaria\n",
    "df <- modello_regressione$df.residual #ossia n-2\n",
    "alfa <- 0.05\n",
    "t_0975 <- qt(1-alfa/2, df)\n",
    "I_beta1_sup <- beta1_hat + t_0975 * sigma_hat_beta1 #estremo superiore\n",
    "I_beta1_inf <- beta1_hat - t_0975 * sigma_hat_beta1 #estremo inferiore\n",
    "c(I_beta1_inf,I_beta1_sup) %>% round(2)\n",
    "\n",
    "I_beta0_sup <- beta0_hat + t_0975 * sigma_hat_beta0 #estremo superiore\n",
    "I_beta0_inf <- beta0_hat - t_0975 * sigma_hat_beta0 #estremo inferiore\n",
    "c(I_beta0_inf,I_beta0_sup) %>% round(2)"
   ]
  },
  {
   "cell_type": "markdown",
   "metadata": {},
   "source": [
    "Si può dimostrare che l'ampiezza di tali intervalli è direttamente proporzionale alla varianza dell'errore $\\sigma_{\\varepsilon}^2$ introdotto nel precedente video, che si dimostra essere pari a $\\hat \\sigma_{\\varepsilon}^2 = \\frac{1}{n - 2} \\sum_{i=1}^n (y_i - \\hat y_i)^2$. In `R` puoi calcolarlo come "
   ]
  },
  {
   "cell_type": "code",
   "execution_count": 13,
   "metadata": {},
   "outputs": [
    {
     "data": {
      "text/html": [
       "34"
      ],
      "text/latex": [
       "34"
      ],
      "text/markdown": [
       "34"
      ],
      "text/plain": [
       "[1] 34"
      ]
     },
     "metadata": {},
     "output_type": "display_data"
    },
    {
     "data": {
      "text/html": [
       "80.72"
      ],
      "text/latex": [
       "80.72"
      ],
      "text/markdown": [
       "80.72"
      ],
      "text/plain": [
       "[1] 80.72"
      ]
     },
     "metadata": {},
     "output_type": "display_data"
    }
   ],
   "source": [
    "modello_regressione$df.residual #pari ad n-2 nel caso della regressione lineare semplice\n",
    "eps <- modello_regressione$residuals %>% as.vector\n",
    "sigma_eps_hat_squared <- sum(eps^2)/modello_regressione$df.residual\n",
    "sigma_eps_hat_squared  %>% round(2)"
   ]
  },
  {
   "cell_type": "markdown",
   "metadata": {},
   "source": [
    "Come hai appreso nel video precedente, la radice quadrata di $\\hat \\sigma_{\\varepsilon}^2$, ossia la stima della deviazione standard dei residui, coincide con l'output `\"Residual standard error\"` di `summary(modello_regressione)`."
   ]
  },
  {
   "cell_type": "code",
   "execution_count": 14,
   "metadata": {},
   "outputs": [
    {
     "data": {
      "text/html": [
       "8.984"
      ],
      "text/latex": [
       "8.984"
      ],
      "text/markdown": [
       "8.984"
      ],
      "text/plain": [
       "[1] 8.984"
      ]
     },
     "metadata": {},
     "output_type": "display_data"
    }
   ],
   "source": [
    "sqrt(sigma_eps_hat_squared)%>% round(3)"
   ]
  },
  {
   "cell_type": "markdown",
   "metadata": {},
   "source": [
    "## Test di dipendenza lineare\n",
    "\n",
    "Dovresti ricordare, dal video \"Regressione lineare semplice - Interpretazione grafica\", il significato di coefficiente di determinazione \"R-squared\" che nel caso della regressione semplice coincide con (`\"Multiple R-squared\"`) e di coefficiente di determinazione corretto o `\"Adjusted R-squared\"`. In particolare, quest'ultimo rappresenta la stima della frazione di varianza campionaria della variabile di risposta spiegata dal modello di regressione, e quindi in questo caso dalla sola variabile età. In `R `, nel caso della regressione semplice, sia `\"Multiple R-squared\"` che `\"Adjusted R-squared\"` possono essere calcolati in modo equivalente mediante le seguenti istruzioni."
   ]
  },
  {
   "cell_type": "code",
   "execution_count": 15,
   "metadata": {},
   "outputs": [
    {
     "data": {
      "text/html": [
       "0.604856413212668"
      ],
      "text/latex": [
       "0.604856413212668"
      ],
      "text/markdown": [
       "0.604856413212668"
      ],
      "text/plain": [
       "[1] 0.6048564"
      ]
     },
     "metadata": {},
     "output_type": "display_data"
    },
    {
     "data": {
      "text/html": [
       "0.604856413212668"
      ],
      "text/latex": [
       "0.604856413212668"
      ],
      "text/markdown": [
       "0.604856413212668"
      ],
      "text/plain": [
       "[1] 0.6048564"
      ]
     },
     "metadata": {},
     "output_type": "display_data"
    },
    {
     "data": {
      "text/html": [
       "0.593234543013041"
      ],
      "text/latex": [
       "0.593234543013041"
      ],
      "text/markdown": [
       "0.593234543013041"
      ],
      "text/plain": [
       "[1] 0.5932345"
      ]
     },
     "metadata": {},
     "output_type": "display_data"
    },
    {
     "data": {
      "text/html": [
       "0.593234543013041"
      ],
      "text/latex": [
       "0.593234543013041"
      ],
      "text/markdown": [
       "0.593234543013041"
      ],
      "text/plain": [
       "[1] 0.5932345"
      ]
     },
     "metadata": {},
     "output_type": "display_data"
    }
   ],
   "source": [
    "#R-squared\n",
    "cor(y_pressione,x_eta)^2\n",
    "reg.summary$r.squared\n",
    "\n",
    "#Adjusted R-squared\n",
    "1-(reg.summary$sigma/sd(y_pressione))^2\n",
    "reg.summary$adj.r.squared"
   ]
  },
  {
   "cell_type": "markdown",
   "metadata": {},
   "source": [
    "Puoi dedurre che l'età spieghi circa il 60% della varianza della pressione arteriosa degli $n=36$ individui. \n",
    "\n",
    "Tuttavia, prima di prendere in considerazione tale valore, è buona norma verificare, attraverso un formale test, l'ipotesi di dipendenza lineare tra le variabili pressione arteriosa ed età sulla base delle osservazioni contenute in `y_pressione` e `x_eta`.\n",
    "\n",
    "In particolare, vorremmo, sulla base dei dati in nostro possesso, poter rigettare l'ipotesi (detta nulla o predefinita) che non ci sia alcun legame lineare tra le variabili in esame (assenza di dipendenza lineare). \n",
    "\n",
    "In termini operativi, questo si traduce nel testare l'ipotesi, $H_0$: $\\beta_1=0$ contro l'ipotesi alternativa $\\beta_1\\neq0$. Se $\\beta_1$ risultasse nullo, come osservato nel video precedente, la vera retta di regressione sarebbe orizzontale e non ci sarebbe alcun vantaggio, in termini di incertezza (varianza), nell'utilizzo di un modello lineare tra pressione ed età, rispetto all'utilizzo della media $\\mu$ della varibile di risposta.\n",
    "\n",
    "Il modo più semplice per implementare questo test, è fissare un rischio di prima specie $\\alpha$ (detto anche rischio di falso allarme o di falso positivo) che siamo disposti a correre di rigettare erroneamente l'ipotesi nulla. Quindi, rigettiamo l'ipotesi nulla, se l'intervallo di confidenza per $\\beta_1$, al livello di fiducia $1-\\alpha$ non include lo zero.\n",
    "\n",
    "Nel nostro caso l'intervallo $(63.77,96.89)$ è ben lontano dall'includere lo zero e quindi possiamo concludere che \n",
    "*si può rigettare l'ipotesi di assenza di dipendenza lineare a favore dell'ipotesi alternativa di efficacia del fattore età, nella modellazione della pressione arteriosa, con un rischio di prima specie $\\alpha= 0.05$.*\n",
    "\n",
    "Hai quindi imparato come utilizzare formalmente l'intervallo di confidenza sul coefficiente angolare della retta di regressione, anche chiamato coefficiente di regressione della variabile età, per effettuare il test di dipendenza lineare tra le variabili pressione arteriosa ed età.\n",
    "\n",
    "Nota che è possibile confondere (infatti abbiamo utilizzato la stessa lettera) il rischio di prima specie di un test delle ipotesi con la quantità $\\alpha$, che definisce il livello di fiducia ($1-\\alpha$) dell'intervallo di confidenza utilizzato per implementare tale test.\n",
    "\n",
    "Un modo alternativo per formulare lo stesso test è utilizzare il valore in corrispondenza della riga `x_eta` e dell'ultima colonna (`Pr(>|t|`) che compare nella seguente tabella"
   ]
  },
  {
   "cell_type": "code",
   "execution_count": 16,
   "metadata": {},
   "outputs": [
    {
     "data": {
      "text/html": [
       "<table>\n",
       "<caption>A matrix: 2 × 4 of type dbl</caption>\n",
       "<thead>\n",
       "\t<tr><th></th><th scope=col>Estimate</th><th scope=col>Std. Error</th><th scope=col>t value</th><th scope=col>Pr(&gt;|t|)</th></tr>\n",
       "</thead>\n",
       "<tbody>\n",
       "\t<tr><th scope=row>(Intercept)</th><td>80.326686</td><td>8.1485840</td><td>9.857748</td><td>1.681472e-11</td></tr>\n",
       "\t<tr><th scope=row>eta</th><td> 1.113618</td><td>0.1543648</td><td>7.214199</td><td>2.395771e-08</td></tr>\n",
       "</tbody>\n",
       "</table>\n"
      ],
      "text/latex": [
       "A matrix: 2 × 4 of type dbl\n",
       "\\begin{tabular}{r|llll}\n",
       "  & Estimate & Std. Error & t value & Pr(>\\textbar{}t\\textbar{})\\\\\n",
       "\\hline\n",
       "\t(Intercept) & 80.326686 & 8.1485840 & 9.857748 & 1.681472e-11\\\\\n",
       "\teta &  1.113618 & 0.1543648 & 7.214199 & 2.395771e-08\\\\\n",
       "\\end{tabular}\n"
      ],
      "text/markdown": [
       "\n",
       "A matrix: 2 × 4 of type dbl\n",
       "\n",
       "| <!--/--> | Estimate | Std. Error | t value | Pr(&gt;|t|) |\n",
       "|---|---|---|---|---|\n",
       "| (Intercept) | 80.326686 | 8.1485840 | 9.857748 | 1.681472e-11 |\n",
       "| eta |  1.113618 | 0.1543648 | 7.214199 | 2.395771e-08 |\n",
       "\n"
      ],
      "text/plain": [
       "            Estimate  Std. Error t value  Pr(>|t|)    \n",
       "(Intercept) 80.326686 8.1485840  9.857748 1.681472e-11\n",
       "eta          1.113618 0.1543648  7.214199 2.395771e-08"
      ]
     },
     "metadata": {},
     "output_type": "display_data"
    }
   ],
   "source": [
    "reg.summary$coefficients"
   ]
  },
  {
   "cell_type": "markdown",
   "metadata": {},
   "source": [
    "ossia il valore "
   ]
  },
  {
   "cell_type": "code",
   "execution_count": 17,
   "metadata": {},
   "outputs": [
    {
     "data": {
      "text/html": [
       "2.396e-08"
      ],
      "text/latex": [
       "2.396e-08"
      ],
      "text/markdown": [
       "2.396e-08"
      ],
      "text/plain": [
       "[1] 2.396e-08"
      ]
     },
     "metadata": {},
     "output_type": "display_data"
    }
   ],
   "source": [
    "reg.summary$coefficients[, \"Pr(>|t|)\"][[2]]  %>% signif(digits = 4)"
   ]
  },
  {
   "cell_type": "markdown",
   "metadata": {},
   "source": [
    "denominato *p-value*. In quest'ottica, per rigettare l'ipotesi nulla $H_0$, bisogna verificare che il p-value sia minore del valore $\\alpha$ prefissato, che nel nostro caso è 0.05. Giungiamo quindi alle stesse conclusioni, anche da quest'altra prospettiva, essendo il p-value minore di 0.05.\n",
    "Diminuendo il rischio di prima specie $\\alpha$, l'intervallo di confidenza corrispondente diventerà più largo, e l'ipotesi nulla tenderà ad essere rigettata più difficilmente. Fissando un rischio di prima specie pari a 0 (caso limite teorico che non ha alcun senso pratico) non potrai mai rigettare l'ipotesi nulla! Fissando un rischio di prima specie superiore al p-value, l'ipotesi nulla sarà rigettata. Ovviamente è buona norma, fissare a priori $\\alpha$ prima di effettuare le analisi e poi confrontarlo con il p-value.\n",
    "Osserva inoltre che questo p-value, coincide con il p-value che compare come ultimo output del summary contenuto in `reg.summary`. Questo accade solo per il modello di regressione lineare semplice."
   ]
  },
  {
   "cell_type": "code",
   "execution_count": 18,
   "metadata": {},
   "outputs": [
    {
     "data": {
      "text/plain": [
       "\n",
       "Call:\n",
       "lm(formula = pressione_arteriosa_mmHg ~ eta, data = pressione_df)\n",
       "\n",
       "Residuals:\n",
       "    Min      1Q  Median      3Q     Max \n",
       "-18.462  -5.343  -0.678   5.714  19.424 \n",
       "\n",
       "Coefficients:\n",
       "            Estimate Std. Error t value Pr(>|t|)    \n",
       "(Intercept)  80.3267     8.1486   9.858 1.68e-11 ***\n",
       "eta           1.1136     0.1544   7.214 2.40e-08 ***\n",
       "---\n",
       "Signif. codes:  0 ‘***’ 0.001 ‘**’ 0.01 ‘*’ 0.05 ‘.’ 0.1 ‘ ’ 1\n",
       "\n",
       "Residual standard error: 8.984 on 34 degrees of freedom\n",
       "Multiple R-squared:  0.6049,\tAdjusted R-squared:  0.5932 \n",
       "F-statistic: 52.04 on 1 and 34 DF,  p-value: 2.396e-08\n"
      ]
     },
     "metadata": {},
     "output_type": "display_data"
    }
   ],
   "source": [
    "reg.summary"
   ]
  },
  {
   "cell_type": "markdown",
   "metadata": {},
   "source": [
    "## Intervallo di confidenza della media della variabile di risposta \n",
    "\n",
    "In analogia all'intervallo di confidenza per la media $\\mu$, che hai visto nel video \"Descrizione, inferenza, predizione\", si può calcolare l'intervallo di confidenza per la media $\\mu_{y|x}=\\beta_0+\\beta_1x$ della variabile di risposta per un prefissato valore della variabile indipendente $x$. \n",
    "\n",
    "In `R` puoi ottenere tale intervallo mediante la funzione `predict()`. Supponiamo di voler calcolare l'intervallo di confidenza al livello di fiducia $1-\\alpha=0.95$ per la media $\\mu_{y|x}$ in corrispondenza di $x=70$ anni di età."
   ]
  },
  {
   "cell_type": "code",
   "execution_count": 19,
   "metadata": {},
   "outputs": [
    {
     "data": {
      "text/html": [
       "<table>\n",
       "<caption>A matrix: 1 × 3 of type dbl</caption>\n",
       "<thead>\n",
       "\t<tr><th></th><th scope=col>fit</th><th scope=col>lwr</th><th scope=col>upr</th></tr>\n",
       "</thead>\n",
       "<tbody>\n",
       "\t<tr><th scope=row>1</th><td>158.28</td><td>151.8348</td><td>164.7252</td></tr>\n",
       "</tbody>\n",
       "</table>\n"
      ],
      "text/latex": [
       "A matrix: 1 × 3 of type dbl\n",
       "\\begin{tabular}{r|lll}\n",
       "  & fit & lwr & upr\\\\\n",
       "\\hline\n",
       "\t1 & 158.28 & 151.8348 & 164.7252\\\\\n",
       "\\end{tabular}\n"
      ],
      "text/markdown": [
       "\n",
       "A matrix: 1 × 3 of type dbl\n",
       "\n",
       "| <!--/--> | fit | lwr | upr |\n",
       "|---|---|---|---|\n",
       "| 1 | 158.28 | 151.8348 | 164.7252 |\n",
       "\n"
      ],
      "text/plain": [
       "  fit    lwr      upr     \n",
       "1 158.28 151.8348 164.7252"
      ]
     },
     "metadata": {},
     "output_type": "display_data"
    }
   ],
   "source": [
    "alfa=0.05\n",
    "predict(modello_regressione, interval = \"confidence\", level=1-alfa,\n",
    "        newdata = data.frame(eta = 70)) #in corrispondenza di eta = 70"
   ]
  },
  {
   "cell_type": "markdown",
   "metadata": {},
   "source": [
    "L'argomento `newdata = data.frame(eta = 70)`, anche se potrebbe sembrare poco intuitivo, serve per specificare il valore della variabile indipendente (età) rispetto a cui calcolare l'intervallo di confidenza. `level=` è il livello di confidenza. Il valore predefinito è proprio 0.05 quindi si potrebbe omettere quando non è necessario modificarlo. Come vedi, la sintassi di questo comando non è comodissima per calcolare l'intervallo di confidenza in corrispondenza di un singolo valore, ma torna utile nel caso volessi considerare più di un valore, come nell'esempio seguente."
   ]
  },
  {
   "cell_type": "code",
   "execution_count": 20,
   "metadata": {},
   "outputs": [
    {
     "data": {
      "text/html": [
       "<table>\n",
       "<caption>A matrix: 5 × 3 of type dbl</caption>\n",
       "<thead>\n",
       "\t<tr><th></th><th scope=col>fit</th><th scope=col>lwr</th><th scope=col>upr</th></tr>\n",
       "</thead>\n",
       "<tbody>\n",
       "\t<tr><th scope=row>1</th><td>147.1438</td><td>143.1771</td><td>151.1105</td></tr>\n",
       "\t<tr><th scope=row>2</th><td>158.2800</td><td>151.8348</td><td>164.7252</td></tr>\n",
       "\t<tr><th scope=row>3</th><td>169.4162</td><td>160.0872</td><td>178.7451</td></tr>\n",
       "\t<tr><th scope=row>4</th><td>180.5523</td><td>168.2154</td><td>192.8893</td></tr>\n",
       "\t<tr><th scope=row>5</th><td>191.6885</td><td>176.2920</td><td>207.0851</td></tr>\n",
       "</tbody>\n",
       "</table>\n"
      ],
      "text/latex": [
       "A matrix: 5 × 3 of type dbl\n",
       "\\begin{tabular}{r|lll}\n",
       "  & fit & lwr & upr\\\\\n",
       "\\hline\n",
       "\t1 & 147.1438 & 143.1771 & 151.1105\\\\\n",
       "\t2 & 158.2800 & 151.8348 & 164.7252\\\\\n",
       "\t3 & 169.4162 & 160.0872 & 178.7451\\\\\n",
       "\t4 & 180.5523 & 168.2154 & 192.8893\\\\\n",
       "\t5 & 191.6885 & 176.2920 & 207.0851\\\\\n",
       "\\end{tabular}\n"
      ],
      "text/markdown": [
       "\n",
       "A matrix: 5 × 3 of type dbl\n",
       "\n",
       "| <!--/--> | fit | lwr | upr |\n",
       "|---|---|---|---|\n",
       "| 1 | 147.1438 | 143.1771 | 151.1105 |\n",
       "| 2 | 158.2800 | 151.8348 | 164.7252 |\n",
       "| 3 | 169.4162 | 160.0872 | 178.7451 |\n",
       "| 4 | 180.5523 | 168.2154 | 192.8893 |\n",
       "| 5 | 191.6885 | 176.2920 | 207.0851 |\n",
       "\n"
      ],
      "text/plain": [
       "  fit      lwr      upr     \n",
       "1 147.1438 143.1771 151.1105\n",
       "2 158.2800 151.8348 164.7252\n",
       "3 169.4162 160.0872 178.7451\n",
       "4 180.5523 168.2154 192.8893\n",
       "5 191.6885 176.2920 207.0851"
      ]
     },
     "metadata": {},
     "output_type": "display_data"
    }
   ],
   "source": [
    "predict(modello_regressione, interval = \"confidence\",\n",
    "        newdata = data.frame(eta = c(60,70,80,90,100)))"
   ]
  },
  {
   "cell_type": "markdown",
   "metadata": {},
   "source": [
    "o in corrispondenza di tutto il training sample"
   ]
  },
  {
   "cell_type": "code",
   "execution_count": 21,
   "metadata": {},
   "outputs": [
    {
     "data": {
      "text/html": [
       "<table>\n",
       "<caption>A matrix: 36 × 3 of type dbl</caption>\n",
       "<thead>\n",
       "\t<tr><th></th><th scope=col>fit</th><th scope=col>lwr</th><th scope=col>upr</th></tr>\n",
       "</thead>\n",
       "<tbody>\n",
       "\t<tr><th scope=row>1</th><td>117.0761</td><td>110.4148</td><td>123.7374</td></tr>\n",
       "\t<tr><th scope=row>2</th><td>121.5306</td><td>115.9560</td><td>127.1052</td></tr>\n",
       "\t<tr><th scope=row>3</th><td>122.6442</td><td>117.3297</td><td>127.9587</td></tr>\n",
       "\t<tr><th scope=row>4</th><td>123.7578</td><td>118.6973</td><td>128.8183</td></tr>\n",
       "\t<tr><th scope=row>5</th><td>123.7578</td><td>118.6973</td><td>128.8183</td></tr>\n",
       "\t<tr><th scope=row>6</th><td>124.8714</td><td>120.0578</td><td>129.6850</td></tr>\n",
       "\t<tr><th scope=row>7</th><td>127.0987</td><td>122.7531</td><td>131.4443</td></tr>\n",
       "\t<tr><th scope=row>8</th><td>128.2123</td><td>124.0848</td><td>132.3398</td></tr>\n",
       "\t<tr><th scope=row>9</th><td>129.3259</td><td>125.4035</td><td>133.2483</td></tr>\n",
       "\t<tr><th scope=row>10</th><td>132.6668</td><td>129.2590</td><td>136.0745</td></tr>\n",
       "\t<tr><th scope=row>11</th><td>132.6668</td><td>129.2590</td><td>136.0745</td></tr>\n",
       "\t<tr><th scope=row>12</th><td>132.6668</td><td>129.2590</td><td>136.0745</td></tr>\n",
       "\t<tr><th scope=row>13</th><td>133.7804</td><td>130.5018</td><td>137.0589</td></tr>\n",
       "\t<tr><th scope=row>14</th><td>133.7804</td><td>130.5018</td><td>137.0589</td></tr>\n",
       "\t<tr><th scope=row>15</th><td>134.8940</td><td>131.7188</td><td>138.0692</td></tr>\n",
       "\t<tr><th scope=row>16</th><td>136.0076</td><td>132.9074</td><td>139.1079</td></tr>\n",
       "\t<tr><th scope=row>17</th><td>136.0076</td><td>132.9074</td><td>139.1079</td></tr>\n",
       "\t<tr><th scope=row>18</th><td>137.1212</td><td>134.0654</td><td>140.1771</td></tr>\n",
       "\t<tr><th scope=row>19</th><td>138.2348</td><td>135.1915</td><td>141.2781</td></tr>\n",
       "\t<tr><th scope=row>20</th><td>139.3485</td><td>136.2855</td><td>142.4115</td></tr>\n",
       "\t<tr><th scope=row>21</th><td>139.3485</td><td>136.2855</td><td>142.4115</td></tr>\n",
       "\t<tr><th scope=row>22</th><td>140.4621</td><td>137.3478</td><td>143.5764</td></tr>\n",
       "\t<tr><th scope=row>23</th><td>141.5757</td><td>138.3799</td><td>144.7715</td></tr>\n",
       "\t<tr><th scope=row>24</th><td>142.6893</td><td>139.3842</td><td>145.9944</td></tr>\n",
       "\t<tr><th scope=row>25</th><td>142.6893</td><td>139.3842</td><td>145.9944</td></tr>\n",
       "\t<tr><th scope=row>26</th><td>143.8029</td><td>140.3633</td><td>147.2426</td></tr>\n",
       "\t<tr><th scope=row>27</th><td>143.8029</td><td>140.3633</td><td>147.2426</td></tr>\n",
       "\t<tr><th scope=row>28</th><td>144.9166</td><td>141.3199</td><td>148.5132</td></tr>\n",
       "\t<tr><th scope=row>29</th><td>148.2574</td><td>144.0825</td><td>152.4323</td></tr>\n",
       "\t<tr><th scope=row>30</th><td>149.3710</td><td>144.9754</td><td>153.7667</td></tr>\n",
       "\t<tr><th scope=row>31</th><td>150.4846</td><td>145.8575</td><td>155.1118</td></tr>\n",
       "\t<tr><th scope=row>32</th><td>152.7119</td><td>147.5955</td><td>157.8283</td></tr>\n",
       "\t<tr><th scope=row>33</th><td>152.7119</td><td>147.5955</td><td>157.8283</td></tr>\n",
       "\t<tr><th scope=row>34</th><td>153.8255</td><td>148.4537</td><td>159.1973</td></tr>\n",
       "\t<tr><th scope=row>35</th><td>156.0527</td><td>150.1532</td><td>161.9523</td></tr>\n",
       "\t<tr><th scope=row>36</th><td>163.8481</td><td>155.9852</td><td>171.7109</td></tr>\n",
       "</tbody>\n",
       "</table>\n"
      ],
      "text/latex": [
       "A matrix: 36 × 3 of type dbl\n",
       "\\begin{tabular}{r|lll}\n",
       "  & fit & lwr & upr\\\\\n",
       "\\hline\n",
       "\t1 & 117.0761 & 110.4148 & 123.7374\\\\\n",
       "\t2 & 121.5306 & 115.9560 & 127.1052\\\\\n",
       "\t3 & 122.6442 & 117.3297 & 127.9587\\\\\n",
       "\t4 & 123.7578 & 118.6973 & 128.8183\\\\\n",
       "\t5 & 123.7578 & 118.6973 & 128.8183\\\\\n",
       "\t6 & 124.8714 & 120.0578 & 129.6850\\\\\n",
       "\t7 & 127.0987 & 122.7531 & 131.4443\\\\\n",
       "\t8 & 128.2123 & 124.0848 & 132.3398\\\\\n",
       "\t9 & 129.3259 & 125.4035 & 133.2483\\\\\n",
       "\t10 & 132.6668 & 129.2590 & 136.0745\\\\\n",
       "\t11 & 132.6668 & 129.2590 & 136.0745\\\\\n",
       "\t12 & 132.6668 & 129.2590 & 136.0745\\\\\n",
       "\t13 & 133.7804 & 130.5018 & 137.0589\\\\\n",
       "\t14 & 133.7804 & 130.5018 & 137.0589\\\\\n",
       "\t15 & 134.8940 & 131.7188 & 138.0692\\\\\n",
       "\t16 & 136.0076 & 132.9074 & 139.1079\\\\\n",
       "\t17 & 136.0076 & 132.9074 & 139.1079\\\\\n",
       "\t18 & 137.1212 & 134.0654 & 140.1771\\\\\n",
       "\t19 & 138.2348 & 135.1915 & 141.2781\\\\\n",
       "\t20 & 139.3485 & 136.2855 & 142.4115\\\\\n",
       "\t21 & 139.3485 & 136.2855 & 142.4115\\\\\n",
       "\t22 & 140.4621 & 137.3478 & 143.5764\\\\\n",
       "\t23 & 141.5757 & 138.3799 & 144.7715\\\\\n",
       "\t24 & 142.6893 & 139.3842 & 145.9944\\\\\n",
       "\t25 & 142.6893 & 139.3842 & 145.9944\\\\\n",
       "\t26 & 143.8029 & 140.3633 & 147.2426\\\\\n",
       "\t27 & 143.8029 & 140.3633 & 147.2426\\\\\n",
       "\t28 & 144.9166 & 141.3199 & 148.5132\\\\\n",
       "\t29 & 148.2574 & 144.0825 & 152.4323\\\\\n",
       "\t30 & 149.3710 & 144.9754 & 153.7667\\\\\n",
       "\t31 & 150.4846 & 145.8575 & 155.1118\\\\\n",
       "\t32 & 152.7119 & 147.5955 & 157.8283\\\\\n",
       "\t33 & 152.7119 & 147.5955 & 157.8283\\\\\n",
       "\t34 & 153.8255 & 148.4537 & 159.1973\\\\\n",
       "\t35 & 156.0527 & 150.1532 & 161.9523\\\\\n",
       "\t36 & 163.8481 & 155.9852 & 171.7109\\\\\n",
       "\\end{tabular}\n"
      ],
      "text/markdown": [
       "\n",
       "A matrix: 36 × 3 of type dbl\n",
       "\n",
       "| <!--/--> | fit | lwr | upr |\n",
       "|---|---|---|---|\n",
       "| 1 | 117.0761 | 110.4148 | 123.7374 |\n",
       "| 2 | 121.5306 | 115.9560 | 127.1052 |\n",
       "| 3 | 122.6442 | 117.3297 | 127.9587 |\n",
       "| 4 | 123.7578 | 118.6973 | 128.8183 |\n",
       "| 5 | 123.7578 | 118.6973 | 128.8183 |\n",
       "| 6 | 124.8714 | 120.0578 | 129.6850 |\n",
       "| 7 | 127.0987 | 122.7531 | 131.4443 |\n",
       "| 8 | 128.2123 | 124.0848 | 132.3398 |\n",
       "| 9 | 129.3259 | 125.4035 | 133.2483 |\n",
       "| 10 | 132.6668 | 129.2590 | 136.0745 |\n",
       "| 11 | 132.6668 | 129.2590 | 136.0745 |\n",
       "| 12 | 132.6668 | 129.2590 | 136.0745 |\n",
       "| 13 | 133.7804 | 130.5018 | 137.0589 |\n",
       "| 14 | 133.7804 | 130.5018 | 137.0589 |\n",
       "| 15 | 134.8940 | 131.7188 | 138.0692 |\n",
       "| 16 | 136.0076 | 132.9074 | 139.1079 |\n",
       "| 17 | 136.0076 | 132.9074 | 139.1079 |\n",
       "| 18 | 137.1212 | 134.0654 | 140.1771 |\n",
       "| 19 | 138.2348 | 135.1915 | 141.2781 |\n",
       "| 20 | 139.3485 | 136.2855 | 142.4115 |\n",
       "| 21 | 139.3485 | 136.2855 | 142.4115 |\n",
       "| 22 | 140.4621 | 137.3478 | 143.5764 |\n",
       "| 23 | 141.5757 | 138.3799 | 144.7715 |\n",
       "| 24 | 142.6893 | 139.3842 | 145.9944 |\n",
       "| 25 | 142.6893 | 139.3842 | 145.9944 |\n",
       "| 26 | 143.8029 | 140.3633 | 147.2426 |\n",
       "| 27 | 143.8029 | 140.3633 | 147.2426 |\n",
       "| 28 | 144.9166 | 141.3199 | 148.5132 |\n",
       "| 29 | 148.2574 | 144.0825 | 152.4323 |\n",
       "| 30 | 149.3710 | 144.9754 | 153.7667 |\n",
       "| 31 | 150.4846 | 145.8575 | 155.1118 |\n",
       "| 32 | 152.7119 | 147.5955 | 157.8283 |\n",
       "| 33 | 152.7119 | 147.5955 | 157.8283 |\n",
       "| 34 | 153.8255 | 148.4537 | 159.1973 |\n",
       "| 35 | 156.0527 | 150.1532 | 161.9523 |\n",
       "| 36 | 163.8481 | 155.9852 | 171.7109 |\n",
       "\n"
      ],
      "text/plain": [
       "   fit      lwr      upr     \n",
       "1  117.0761 110.4148 123.7374\n",
       "2  121.5306 115.9560 127.1052\n",
       "3  122.6442 117.3297 127.9587\n",
       "4  123.7578 118.6973 128.8183\n",
       "5  123.7578 118.6973 128.8183\n",
       "6  124.8714 120.0578 129.6850\n",
       "7  127.0987 122.7531 131.4443\n",
       "8  128.2123 124.0848 132.3398\n",
       "9  129.3259 125.4035 133.2483\n",
       "10 132.6668 129.2590 136.0745\n",
       "11 132.6668 129.2590 136.0745\n",
       "12 132.6668 129.2590 136.0745\n",
       "13 133.7804 130.5018 137.0589\n",
       "14 133.7804 130.5018 137.0589\n",
       "15 134.8940 131.7188 138.0692\n",
       "16 136.0076 132.9074 139.1079\n",
       "17 136.0076 132.9074 139.1079\n",
       "18 137.1212 134.0654 140.1771\n",
       "19 138.2348 135.1915 141.2781\n",
       "20 139.3485 136.2855 142.4115\n",
       "21 139.3485 136.2855 142.4115\n",
       "22 140.4621 137.3478 143.5764\n",
       "23 141.5757 138.3799 144.7715\n",
       "24 142.6893 139.3842 145.9944\n",
       "25 142.6893 139.3842 145.9944\n",
       "26 143.8029 140.3633 147.2426\n",
       "27 143.8029 140.3633 147.2426\n",
       "28 144.9166 141.3199 148.5132\n",
       "29 148.2574 144.0825 152.4323\n",
       "30 149.3710 144.9754 153.7667\n",
       "31 150.4846 145.8575 155.1118\n",
       "32 152.7119 147.5955 157.8283\n",
       "33 152.7119 147.5955 157.8283\n",
       "34 153.8255 148.4537 159.1973\n",
       "35 156.0527 150.1532 161.9523\n",
       "36 163.8481 155.9852 171.7109"
      ]
     },
     "metadata": {},
     "output_type": "display_data"
    }
   ],
   "source": [
    "predict(modello_regressione, interval = \"confidence\")"
   ]
  },
  {
   "cell_type": "markdown",
   "metadata": {},
   "source": [
    "## Intervallo di previsione della variabile di risposta\n",
    "\n",
    "Può essere di interesse valutare anche l'incertezza associata alla previsione di un futuro valore della pressione arteriosa di un nuovo individuo (diverso dai 36 che hanno contribuito alla stima della retta di regressione) avente età=70 anni. Tale incertezza viene calcolata attraverso un intervallo detto *di previsione* della variabile di risposta. La sua ampiezza sappiamo essere maggiore del precedente intervallo di confidenza della media, in quanto contiene oltre all'incertezza nella stima della media della distribuzione della pressione arteriosa ad un dato valore della variabile $x$ (età=70), anche l'incertezza legata alla varianza legata all'estrazione di un singolo valore (futuro) da tale distribuzione (pari a $\\sigma_{\\varepsilon}^2$).\n",
    "\n",
    "Puoi calcolare l'intervallo di previsione in `R`, in analogia a quanto fatto per l'intervallo di confidenza per la $\\mu_{y|x}$, nel modo seguente"
   ]
  },
  {
   "cell_type": "code",
   "execution_count": 22,
   "metadata": {},
   "outputs": [
    {
     "data": {
      "text/html": [
       "<table>\n",
       "<caption>A matrix: 1 × 3 of type dbl</caption>\n",
       "<thead>\n",
       "\t<tr><th></th><th scope=col>fit</th><th scope=col>lwr</th><th scope=col>upr</th></tr>\n",
       "</thead>\n",
       "<tbody>\n",
       "\t<tr><th scope=row>1</th><td>158.28</td><td>138.9172</td><td>177.6428</td></tr>\n",
       "</tbody>\n",
       "</table>\n"
      ],
      "text/latex": [
       "A matrix: 1 × 3 of type dbl\n",
       "\\begin{tabular}{r|lll}\n",
       "  & fit & lwr & upr\\\\\n",
       "\\hline\n",
       "\t1 & 158.28 & 138.9172 & 177.6428\\\\\n",
       "\\end{tabular}\n"
      ],
      "text/markdown": [
       "\n",
       "A matrix: 1 × 3 of type dbl\n",
       "\n",
       "| <!--/--> | fit | lwr | upr |\n",
       "|---|---|---|---|\n",
       "| 1 | 158.28 | 138.9172 | 177.6428 |\n",
       "\n"
      ],
      "text/plain": [
       "  fit    lwr      upr     \n",
       "1 158.28 138.9172 177.6428"
      ]
     },
     "metadata": {},
     "output_type": "display_data"
    }
   ],
   "source": [
    "predict(modello_regressione, interval = \"prediction\",\n",
    "        newdata = data.frame(eta = 70)) #in corrispondenza di eta = 70"
   ]
  },
  {
   "cell_type": "markdown",
   "metadata": {},
   "source": [
    "## Bande di confidenza\n",
    "Più in generale, puoi calcolare, e riportare sul grafico a dispersione, sia gli intervalli di confidenza per la media, che gli intervalli di previsione della variabile di risposta, per un insieme di valori di interesse della variabile $x$, e costruire, rispettivamente, le cosiddette *bande di confidenza* e *bande di previsione*.\n",
    "\n",
    "A tal fine, ricalcola gli intervalli per un intervallo di valori $x$ assegnati ad un vettore `x_eta_new`, e poni l'argomento `newdata = data.frame(eta = x_eta_new))`. Immaginiamo di voler estrapolare previsioni in un intervallo che si estende di $\\pm20$ anni rispetto ai valori contenuti in `x_eta` del training sample."
   ]
  },
  {
   "cell_type": "code",
   "execution_count": 23,
   "metadata": {},
   "outputs": [],
   "source": [
    "x_eta_new <- seq(from = min(x_eta) - 20, to = max(x_eta) + 20, length = 100)\n",
    "y_hat_new <- beta0_hat + beta1_hat * x_eta_new"
   ]
  },
  {
   "cell_type": "markdown",
   "metadata": {},
   "source": [
    "Quindi, calcola le bande di confidenza (il livello di fiducia predefinito è 0.95, altrimenti aggiungi l'argomento `level=`), ossia l'interpolazione degli estremi degli intervalli di confidenza per la media della risposta per ogni valore contenuto in `x_eta_new`."
   ]
  },
  {
   "cell_type": "code",
   "execution_count": 24,
   "metadata": {},
   "outputs": [],
   "source": [
    "conf_interval <- predict(modello_regressione, interval = \"confidence\",\n",
    "                         newdata = data.frame(eta = x_eta_new)) "
   ]
  },
  {
   "cell_type": "markdown",
   "metadata": {},
   "source": [
    "Disegna la retta di regressione, come fatto in precedenza, modificando i limiti `ylim=` e `xlim=`, e sovrapponi su tale grafico le bande di confidenza calcolate e contenute in `conf_interval`, attraverso la funzione `lines()`."
   ]
  },
  {
   "cell_type": "code",
   "execution_count": 25,
   "metadata": {},
   "outputs": [
    {
     "data": {
      "image/png": "[encoded data removed]",
      "text/plain": [
       "plot without title"
      ]
     },
     "metadata": {
      "image/png": {
       "height": 420,
       "width": 420
      },
      "text/plain": {
       "height": 420,
       "width": 420
      }
     },
     "output_type": "display_data"
    }
   ],
   "source": [
    "plot(x_eta, y_pressione, \n",
    "     xlab = \"Età [anni]\", ylab = \"Pressione arteriosa [mmHg]\",\n",
    "     ylim = c(70, 210), xlim = c(25, 85))\n",
    "abline(a = beta0_hat, #intercetta\n",
    "       b = beta1_hat,\n",
    "      col=\"blue\") #coefficiente angolare\n",
    "\n",
    "lines(x_eta_new, conf_interval[, 2], lty = 2, col = \"green\")\n",
    "lines(x_eta_new, conf_interval[, 3], lty = 2, col = \"green\")"
   ]
  },
  {
   "cell_type": "markdown",
   "metadata": {},
   "source": [
    "## Bande di previsione\n",
    "Calcola allo stesso modo le bande di previsioni e sovrapponile al grafico precedente."
   ]
  },
  {
   "cell_type": "code",
   "execution_count": 26,
   "metadata": {},
   "outputs": [
    {
     "data": {
      "image/png": "[encoded data removed]",
      "text/plain": [
       "plot without title"
      ]
     },
     "metadata": {
      "image/png": {
       "height": 420,
       "width": 420
      },
      "text/plain": {
       "height": 420,
       "width": 420
      }
     },
     "output_type": "display_data"
    }
   ],
   "source": [
    "pred_interval <- predict(modello_regressione, interval = \"prediction\",\n",
    "                         newdata = data.frame(eta = x_eta_new))\n",
    "\n",
    "plot(x_eta, y_pressione, \n",
    "     xlab = \"Età [anni]\", ylab = \"Pressione arteriosa [mmHg]\",\n",
    "     ylim = c(70, 210), xlim = c(25, 85))\n",
    "abline(a = beta0_hat, #intercetta\n",
    "       b = beta1_hat,\n",
    "      col=\"blue\") #coefficiente angolare\n",
    "\n",
    "lines(x_eta_new, conf_interval[, 2], lty = 2, col = \"green\")\n",
    "lines(x_eta_new, conf_interval[, 3], lty = 2, col = \"green\")\n",
    "\n",
    "lines(x_eta_new, pred_interval[, 2], lty = 2, col = \"red\")\n",
    "lines(x_eta_new, pred_interval[, 3], lty = 2, col = \"red\")\n",
    "\n",
    "#baricentro\n",
    "mean.x <- mean(x_eta)\n",
    "mean.y <- mean(y_pressione)\n",
    "segments (mean.x, 0, mean.x, mean.y,  lty = 2, col=\"grey\")\n",
    "segments (20, mean.y, mean.x, mean.y,  lty = 2, col=\"grey\")\n",
    "points(mean.x, mean.y, col = \"red\", pch = 16)\n",
    "text(mean.x+1, 67, bquote(bar(x)))\n",
    "text(24,mean.y+3, bquote(bar(y)))"
   ]
  },
  {
   "cell_type": "markdown",
   "metadata": {},
   "source": [
    "Si dimostra, ed è facile osservarlo graficamente, che sia le bande di confidenza, che quelle di previsione, sono più strette intorno al baricentro dei punti, di coordinate $(\\bar x, \\bar y)$ (indicato in rosso), e si allargano man mano che i valori di $x$ si allontanano da $\\bar x$.\n",
    "Il che significa che più i valori di $x$ si allontanano da $\\bar x$ maggiore è l'incertezza sia \n",
    "* nello stimare attraverso $\\hat y=\\hat \\beta_0+ \\hat \\beta_1x$ la media $\\mu_{y|x}=\\beta_0+\\beta_1x$\n",
    "* che nel prevedere attraverso $\\hat y_0=\\hat \\beta_0+ \\hat \\beta_1x_0$ l'osservazione futura $y_0$ conoscendone il corrispondente valore di covariata $x_0$.\n",
    "\n",
    "A differenza degli **errori** $\\varepsilon_i=y_i-(\\beta_0+\\beta_1x_i)$ che sono indipendenti ed hanno tutti stessa varianza pari a $\\sigma_{\\varepsilon}$, per i **residui** $\\hat \\varepsilon_i=y_i-\\hat y_i$ si può dimostrare che \n",
    "* non sono indipendenti, ma correlati dal fatto che devono minimizzare le somme degli scarti al quadrato (come hai visto nei video precedenti)\n",
    "* non hanno la stessa varianza. Se fossi curioso di approfondire (ma non è necessario ricordare la relazione precisa a memoria) potrei dimostrarti che la varianza diminuisce man mano che il valore $x$ corrispondente si allontana da $\\bar x$, secondo la seguente relazione \n",
    "$$ \\sigma_{\\hat \\varepsilon_i}=\\sigma_{\\varepsilon} \\left( 1- \\frac{1}{n}-\\frac{(x_i-\\bar x)^2}{\\sum_{k=1}^n(x_k-\\bar x)^2} \\right)$$\n",
    "Ciò significa che i punti più lontani dal baricentro hanno una \"leva\" (*leverage*) maggiore e pesano maggiormente nella stima (col metodo dei minimi quadrati) del modello di regressione, rispetto ai punti vicini al baricentro. In altre parole, la perturbazione di un punto lontano dal baricentro comporta una variazione maggiore nella retta di regressione stimata rispetto alla perturbazione di un punto vicino al baricentro.\n",
    "\n",
    "* hanno media campionaria nulla, per costruzione. Infatti "
   ]
  },
  {
   "cell_type": "code",
   "execution_count": 27,
   "metadata": {},
   "outputs": [
    {
     "data": {
      "text/html": [
       "0"
      ],
      "text/latex": [
       "0"
      ],
      "text/markdown": [
       "0"
      ],
      "text/plain": [
       "[1] 0"
      ]
     },
     "metadata": {},
     "output_type": "display_data"
    }
   ],
   "source": [
    "mean(modello_regressione$residuals) %>% round"
   ]
  },
  {
   "cell_type": "markdown",
   "metadata": {},
   "source": [
    "Bene, sei pronto per generalizzare questi contenuti al caso della regressione lineare multipla! Alla fine della lezione ho predisposto per te un esempio completo di ricapitolazione sia sui contenuti della regressione lineare semplice che multipla. Lo stesso vale per i quiz.\n",
    "Buon proseguimento!"
   ]
  }
 ],
 "metadata": {
  "kernelspec": {
   "display_name": "R",
   "language": "R",
   "name": "ir"
  }
 },
 "nbformat": 4,
 "nbformat_minor": 4
}
