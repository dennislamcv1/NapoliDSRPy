{
 "cells": [
  {
   "cell_type": "markdown",
   "metadata": {
    "id": "WAE2lxRNFRUy"
   },
   "source": [
    "Questo modulo importa il modulo c\n",
    "e utilizza la funzione stampa definita in c"
   ]
  },
  {
   "cell_type": "code",
   "execution_count": 3,
   "metadata": {
    "id": "sij4cXXzQOHb"
   },
   "outputs": [],
   "source": [
    "import c\n",
    "\n",
    "def stampa():\n",
    "  print(\"questo è il modulo b\")\n"
   ]
  },
  {
   "cell_type": "code",
   "execution_count": 4,
   "metadata": {
    "colab": {
     "base_uri": "https://localhost:8080/"
    },
    "id": "VCPh9NChV5kK",
    "outputId": "9b3b388a-7bd4-40eb-f902-a58919bf54ca"
   },
   "outputs": [
    {
     "name": "stdout",
     "output_type": "stream",
     "text": [
      "questo è il modulo b\n"
     ]
    }
   ],
   "source": [
    "stampa() #senza alcuna specifica del modulo cerca, trova ed esegue la funzione definita nel modulo corrente.\n",
    "#nel caso non la trovasse ricorrerebbe a cercarla negli import"
   ]
  },
  {
   "cell_type": "code",
   "execution_count": 7,
   "metadata": {
    "colab": {
     "base_uri": "https://localhost:8080/"
    },
    "id": "KNl1wibOFoLp",
    "outputId": "9d7de4d5-6581-491f-a8b7-6d6f852da5fd"
   },
   "outputs": [
    {
     "name": "stdout",
     "output_type": "stream",
     "text": [
      "stampa del modulo c\n"
     ]
    }
   ],
   "source": [
    "c.stampa() #specificando il modulo nell'indicatore del namespace, invochiamo stampa definita nel modulo c"
   ]
  }
 ],
 "metadata": {
  "colab": {
   "collapsed_sections": [],
   "name": "b.ipynb",
   "provenance": []
  },
  "kernelspec": {
   "display_name": "Python 3",
   "name": "python3"
  },
  "language_info": {
   "name": "python"
  }
 },
 "nbformat": 4,
 "nbformat_minor": 0
}
