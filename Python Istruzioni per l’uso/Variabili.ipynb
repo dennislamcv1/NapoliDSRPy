{
 "cells": [
  {
   "cell_type": "markdown",
   "metadata": {
    "id": "Z50RwAy33wve"
   },
   "source": [
    "# Variabili in Python"
   ]
  },
  {
   "cell_type": "code",
   "execution_count": 1,
   "metadata": {},
   "outputs": [],
   "source": [
    "a=5\n",
    "#non è necessario dichiarare esplicitamente una variabile\n",
    "#all'atto dell'assegnazione la variabile sarà anche dichiarata"
   ]
  },
  {
   "cell_type": "code",
   "execution_count": 2,
   "metadata": {},
   "outputs": [
    {
     "data": {
      "text/plain": [
       "5"
      ]
     },
     "execution_count": 2,
     "metadata": {},
     "output_type": "execute_result"
    }
   ],
   "source": [
    "a"
   ]
  },
  {
   "cell_type": "markdown",
   "metadata": {
    "id": "xKA0Fj_q3ogV"
   },
   "source": [
    "## Assegnazioni Multiple"
   ]
  },
  {
   "cell_type": "code",
   "execution_count": 1,
   "metadata": {
    "id": "r_RVc3gN3qRO"
   },
   "outputs": [],
   "source": [
    "a,b,c,d,f,g,h,i=1,2,3,4,5,6,7,8"
   ]
  },
  {
   "cell_type": "code",
   "execution_count": 2,
   "metadata": {
    "colab": {
     "base_uri": "https://localhost:8080/"
    },
    "id": "nTaLrA-H3y9m",
    "outputId": "f21a4cf2-35b5-4f83-cae9-a4d8bd7606eb"
   },
   "outputs": [
    {
     "data": {
      "text/plain": [
       "5"
      ]
     },
     "execution_count": 2,
     "metadata": {
      "tags": []
     },
     "output_type": "execute_result"
    }
   ],
   "source": [
    "f"
   ]
  },
  {
   "cell_type": "code",
   "execution_count": 3,
   "metadata": {
    "id": "KtE_LDEL32FV"
   },
   "outputs": [],
   "source": [
    "a,b=b,a"
   ]
  },
  {
   "cell_type": "code",
   "execution_count": 4,
   "metadata": {
    "colab": {
     "base_uri": "https://localhost:8080/"
    },
    "id": "SBQPE-Ao36I-",
    "outputId": "cc670760-ad29-4d14-eb34-8c9f90122856"
   },
   "outputs": [
    {
     "data": {
      "text/plain": [
       "2"
      ]
     },
     "execution_count": 4,
     "metadata": {
      "tags": []
     },
     "output_type": "execute_result"
    }
   ],
   "source": [
    "a"
   ]
  },
  {
   "cell_type": "markdown",
   "metadata": {},
   "source": [
    "# Blocchi in Pyton"
   ]
  },
  {
   "cell_type": "markdown",
   "metadata": {
    "id": "sw3toYrP5OIm"
   },
   "source": [
    "Per delimitare un blocco in Python\n",
    "si utilizza lo spazio o il tab\n",
    "il non rispetto dell'indentazione da origine ad errori di sintassi, in quanto si incoraggia fortemente ( si costringe!) il progettista programmatore a scrivere codice che sia in primis leggibile!\n",
    " "
   ]
  },
  {
   "cell_type": "code",
   "execution_count": 5,
   "metadata": {
    "colab": {
     "base_uri": "https://localhost:8080/"
    },
    "id": "SoqqGArO5ghd",
    "outputId": "d11f76d9-cf07-403a-eb15-fec88f92a6ac"
   },
   "outputs": [
    {
     "name": "stdout",
     "output_type": "stream",
     "text": [
      "1\n",
      "3\n",
      "5\n"
     ]
    }
   ],
   "source": [
    "for x in [1,3,5]:\n",
    "  print(x)"
   ]
  },
  {
   "cell_type": "code",
   "execution_count": 3,
   "metadata": {
    "colab": {
     "base_uri": "https://localhost:8080/",
     "height": 132
    },
    "id": "7sI9Fsu85p5l",
    "outputId": "ba8f3a9c-1f81-4466-86de-bb5722773e12"
   },
   "outputs": [
    {
     "ename": "IndentationError",
     "evalue": "expected an indented block (<ipython-input-3-0807060fce1d>, line 3)",
     "output_type": "error",
     "traceback": [
      "\u001b[0;36m  File \u001b[0;32m\"<ipython-input-3-0807060fce1d>\"\u001b[0;36m, line \u001b[0;32m3\u001b[0m\n\u001b[0;31m    print(x)\u001b[0m\n\u001b[0m        ^\u001b[0m\n\u001b[0;31mIndentationError\u001b[0m\u001b[0;31m:\u001b[0m expected an indented block\n"
     ]
    }
   ],
   "source": [
    "#avremo un errore in quanto i blocchi non sono stati convenientemente indentati\n",
    "for x in [1,3,5]:\n",
    "print(x)"
   ]
  },
  {
   "cell_type": "code",
   "execution_count": 4,
   "metadata": {
    "colab": {
     "base_uri": "https://localhost:8080/"
    },
    "id": "jpcSmy6h51_F",
    "outputId": "1091ccf5-3316-4376-9f6f-253fdcc127c2"
   },
   "outputs": [
    {
     "name": "stdout",
     "output_type": "stream",
     "text": [
      "1\n",
      "3\n",
      "5\n"
     ]
    }
   ],
   "source": [
    "for x in [1,3,5]:\n",
    "  print(x)  #ho inserito un tab"
   ]
  },
  {
   "cell_type": "code",
   "execution_count": 5,
   "metadata": {
    "colab": {
     "base_uri": "https://localhost:8080/"
    },
    "id": "r5fEcwga7X69",
    "outputId": "c4d21659-7e6b-440f-b151-cea86e431ef4"
   },
   "outputs": [
    {
     "name": "stdout",
     "output_type": "stream",
     "text": [
      "45\n",
      "33\n",
      "33\n"
     ]
    }
   ],
   "source": [
    "a=45 \n",
    "if a<60:\n",
    "  b=33\n",
    "  print(a)\n",
    "  print(b) \n",
    "print(b)#non è un esempio di buona programmazione!!!!\n",
    "        #b essendo assegnato E QUINDI DICHIARATO nel blocco interno\n",
    "        #non dovrebbe essere leggibile dal blocco esterno\n",
    "        #di fatti risulta leggibile in quanto l'interprete non ne elimina il valore\n",
    "        # NON FATELO A CASA"
   ]
  }
 ],
 "metadata": {
  "colab": {
   "name": "Variabili in Python.ipynb",
   "provenance": []
  },
  "kernelspec": {
   "display_name": "Python 3",
   "language": "python",
   "name": "python3"
  },
  "language_info": {
   "codemirror_mode": {
    "name": "ipython",
    "version": 3
   },
   "file_extension": ".py",
   "mimetype": "text/x-python",
   "name": "python",
   "nbconvert_exporter": "python",
   "pygments_lexer": "ipython3",
   "version": "3.7.6"
  }
 },
 "nbformat": 4,
 "nbformat_minor": 1
}
