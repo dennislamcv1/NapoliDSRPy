{
 "cells": [
  {
   "cell_type": "markdown",
   "metadata": {
    "id": "6nyByaXmil2z"
   },
   "source": [
    "# Gestione delle Eccezioni  in Python"
   ]
  },
  {
   "cell_type": "markdown",
   "metadata": {
    "id": "Jmq6SX5Fir_A"
   },
   "source": [
    "Vogliamo testare una funzione, per esempio una che effettua divisioni"
   ]
  },
  {
   "cell_type": "code",
   "execution_count": 1,
   "metadata": {
    "id": "X9a7PRLEdM3i"
   },
   "outputs": [],
   "source": [
    "def divisione(a,b):\n",
    "  c=a/b\n",
    "  return c"
   ]
  },
  {
   "cell_type": "markdown",
   "metadata": {
    "id": "5xLFNVQhixOK"
   },
   "source": [
    "E' possibile, in quanto non ci sono controlli sull'input, effettuare una divisione per 0\n",
    "\n",
    "ottenendo l'interruzione dell'esecuzione del programma con relativo codice di errore: ZeroDivisionError e messaggio di errore: division by zero"
   ]
  },
  {
   "cell_type": "code",
   "execution_count": 2,
   "metadata": {
    "colab": {
     "base_uri": "https://localhost:8080/",
     "height": 262
    },
    "id": "2DKPQa-Ld5ri",
    "outputId": "95ba0940-4695-459e-98d9-dc69571c84e2"
   },
   "outputs": [
    {
     "ename": "ZeroDivisionError",
     "evalue": "ignored",
     "output_type": "error",
     "traceback": [
      "\u001b[0;31m---------------------------------------------------------------------------\u001b[0m",
      "\u001b[0;31mZeroDivisionError\u001b[0m                         Traceback (most recent call last)",
      "\u001b[0;32m<ipython-input-2-9dbb8369b1b5>\u001b[0m in \u001b[0;36m<module>\u001b[0;34m()\u001b[0m\n\u001b[0;32m----> 1\u001b[0;31m \u001b[0mx\u001b[0m\u001b[0;34m=\u001b[0m\u001b[0mdivisione\u001b[0m\u001b[0;34m(\u001b[0m\u001b[0;36m22\u001b[0m\u001b[0;34m,\u001b[0m\u001b[0;36m0\u001b[0m\u001b[0;34m)\u001b[0m\u001b[0;34m\u001b[0m\u001b[0;34m\u001b[0m\u001b[0m\n\u001b[0m",
      "\u001b[0;32m<ipython-input-1-80ec7797e345>\u001b[0m in \u001b[0;36mdivisione\u001b[0;34m(a, b)\u001b[0m\n\u001b[1;32m      1\u001b[0m \u001b[0;32mdef\u001b[0m \u001b[0mdivisione\u001b[0m\u001b[0;34m(\u001b[0m\u001b[0ma\u001b[0m\u001b[0;34m,\u001b[0m\u001b[0mb\u001b[0m\u001b[0;34m)\u001b[0m\u001b[0;34m:\u001b[0m\u001b[0;34m\u001b[0m\u001b[0;34m\u001b[0m\u001b[0m\n\u001b[0;32m----> 2\u001b[0;31m   \u001b[0mc\u001b[0m\u001b[0;34m=\u001b[0m\u001b[0ma\u001b[0m\u001b[0;34m/\u001b[0m\u001b[0mb\u001b[0m\u001b[0;34m\u001b[0m\u001b[0;34m\u001b[0m\u001b[0m\n\u001b[0m\u001b[1;32m      3\u001b[0m   \u001b[0;32mreturn\u001b[0m \u001b[0mc\u001b[0m\u001b[0;34m\u001b[0m\u001b[0;34m\u001b[0m\u001b[0m\n",
      "\u001b[0;31mZeroDivisionError\u001b[0m: division by zero"
     ]
    }
   ],
   "source": [
    "x=divisione(22,0)"
   ]
  },
  {
   "cell_type": "markdown",
   "metadata": {
    "id": "QhVFfzRrjKVb"
   },
   "source": [
    "## costrutto Try Except\n",
    "Introduciamo il costrutto Try Except\n",
    "\n",
    "il codice inserito nel blocco indentato Try è sotto osservazione, se una istruzione al suo interno solleva eccezione allora\n",
    "\n",
    "\n",
    "\n",
    "1.   L'istruzione che genera errore non viene eseguita\n",
    "2.  non sono eseguite tutte le istruzioni di seguito a quella che ha generato errore\n",
    "3.   Si esegue il blocco Except relativo al codice di errore sollevato (oppure Except senza nulla per captare qualunque codice di errore\n",
    "\n",
    "\n"
   ]
  },
  {
   "cell_type": "code",
   "execution_count": 39,
   "metadata": {
    "id": "AJ0rrHoqeau7"
   },
   "outputs": [],
   "source": [
    "def divisione(a,b):\n",
    "  c=0\n",
    "  try:\n",
    "    print(\"sto per eseguire una divisione, potrebbe essere per 0?\")\n",
    "    c=a/b  #se genera un errore, invece di fermare l'intero programma, non viene eseguita\n",
    "    print(\"la divisione è stata eseguita, se non ci sono stati errori\") #istruzione eseguita solo se non si sono manifestati errori\n",
    "  except ZeroDivisionError:\n",
    "    print(\"c'è stato un errore di divisione per 0\\n\\n\\n\")\n",
    "  except:\n",
    "    print(\"c'è stato un errore sulla divisione\\n\\n\\n\")\n",
    "  return c"
   ]
  },
  {
   "cell_type": "code",
   "execution_count": 36,
   "metadata": {
    "colab": {
     "base_uri": "https://localhost:8080/"
    },
    "id": "qfk3fWccjhmU",
    "outputId": "ac9f28cb-15d9-423c-d19b-97a0202f7df7"
   },
   "outputs": [
    {
     "name": "stdout",
     "output_type": "stream",
     "text": [
      "sto per eseguire una divisione, potrebbe essere per 0?\n",
      "c'è stato un errore di divisione per 0\n",
      "\n",
      "\n",
      "\n"
     ]
    }
   ],
   "source": [
    "x=divisione(100,0)"
   ]
  },
  {
   "cell_type": "code",
   "execution_count": 41,
   "metadata": {
    "colab": {
     "base_uri": "https://localhost:8080/"
    },
    "id": "Ozf9draQkDml",
    "outputId": "f303ddc3-9105-4fe5-9076-b3c1c34a9450"
   },
   "outputs": [
    {
     "name": "stdout",
     "output_type": "stream",
     "text": [
      "sto per eseguire una divisione, potrebbe essere per 0?\n",
      "la divisione è stata eseguita, se non ci sono stati errori\n"
     ]
    }
   ],
   "source": [
    "x=divisione(100,50)\n"
   ]
  },
  {
   "cell_type": "code",
   "execution_count": 42,
   "metadata": {
    "colab": {
     "base_uri": "https://localhost:8080/"
    },
    "id": "neo9k2jxkIEu",
    "outputId": "2e47b145-a02b-4159-ddb4-ad5fd550d690"
   },
   "outputs": [
    {
     "data": {
      "text/plain": [
       "2.0"
      ]
     },
     "execution_count": 42,
     "metadata": {
      "tags": []
     },
     "output_type": "execute_result"
    }
   ],
   "source": [
    "x\n"
   ]
  },
  {
   "cell_type": "markdown",
   "metadata": {
    "id": "O5qmuKHrkX3j"
   },
   "source": [
    "Gestiamo più tipologie di errori"
   ]
  },
  {
   "cell_type": "code",
   "execution_count": 31,
   "metadata": {
    "id": "EBX1gX2Cf3m8"
   },
   "outputs": [],
   "source": [
    "def diviilista(lista):\n",
    "  c=0\n",
    "  try:\n",
    "    c=lista[0]/lista[1]\n",
    "  except ZeroDivisionError:\n",
    "    print(\"c'è stato un errore di divisione per 0\\n\\n\\n\")\n",
    "  except IndexError:\n",
    "    #print(\"c'è stato un errore di  indice sulla lista\\n\\n\\n\")\n",
    "    pass\n",
    "  except:\n",
    "    print(\"c'è stato un errore sulla divisione\\n\\n\\n\")\n",
    "  else:\n",
    "    print(\"hai visto che scrivo del buon codice? non conteneva errori\")\n",
    "  finally:\n",
    "    return c"
   ]
  },
  {
   "cell_type": "markdown",
   "metadata": {
    "id": "9n1CWb2ykdPC"
   },
   "source": [
    "finally: istruzione facoltativa che viene eseguita sempre alla fine del blocco\n",
    "\n",
    "else : istruzione facoltativa che viene eseguita  alla fine del blocco solo se non sono stati sollevati errori"
   ]
  },
  {
   "cell_type": "code",
   "execution_count": 32,
   "metadata": {
    "id": "30HptH8egBzN"
   },
   "outputs": [],
   "source": [
    "l=[1,2]"
   ]
  },
  {
   "cell_type": "code",
   "execution_count": 21,
   "metadata": {
    "colab": {
     "base_uri": "https://localhost:8080/",
     "height": 171
    },
    "id": "FGRaDO7ygcU7",
    "outputId": "13271f00-95ba-4062-c4ef-242b1114b849"
   },
   "outputs": [
    {
     "ename": "IndexError",
     "evalue": "ignored",
     "output_type": "error",
     "traceback": [
      "\u001b[0;31m---------------------------------------------------------------------------\u001b[0m",
      "\u001b[0;31mIndexError\u001b[0m                                Traceback (most recent call last)",
      "\u001b[0;32m<ipython-input-21-36a5bec3d5e1>\u001b[0m in \u001b[0;36m<module>\u001b[0;34m()\u001b[0m\n\u001b[0;32m----> 1\u001b[0;31m \u001b[0mc\u001b[0m\u001b[0;34m=\u001b[0m\u001b[0ml\u001b[0m\u001b[0;34m[\u001b[0m\u001b[0;36m0\u001b[0m\u001b[0;34m]\u001b[0m\u001b[0;34m/\u001b[0m\u001b[0ml\u001b[0m\u001b[0;34m[\u001b[0m\u001b[0;36m2\u001b[0m\u001b[0;34m]\u001b[0m\u001b[0;34m\u001b[0m\u001b[0;34m\u001b[0m\u001b[0m\n\u001b[0m",
      "\u001b[0;31mIndexError\u001b[0m: list index out of range"
     ]
    }
   ],
   "source": [
    "  c=l[0]/l[2]"
   ]
  },
  {
   "cell_type": "code",
   "execution_count": 33,
   "metadata": {
    "colab": {
     "base_uri": "https://localhost:8080/"
    },
    "id": "4s7o0xYjgERy",
    "outputId": "c4fa395f-2913-4a63-c53f-7863088a89bb"
   },
   "outputs": [
    {
     "name": "stdout",
     "output_type": "stream",
     "text": [
      "hai visto che scrivo del buon codice? non conteneva errori\n"
     ]
    }
   ],
   "source": [
    "x=diviilista(l)"
   ]
  },
  {
   "cell_type": "code",
   "execution_count": 34,
   "metadata": {
    "colab": {
     "base_uri": "https://localhost:8080/"
    },
    "id": "976FYcsIgW9z",
    "outputId": "b78f7ce5-24c0-48ca-ea57-f1628863a5f0"
   },
   "outputs": [
    {
     "data": {
      "text/plain": [
       "0.5"
      ]
     },
     "execution_count": 34,
     "metadata": {
      "tags": []
     },
     "output_type": "execute_result"
    }
   ],
   "source": [
    "x"
   ]
  },
  {
   "cell_type": "code",
   "execution_count": 8,
   "metadata": {
    "colab": {
     "base_uri": "https://localhost:8080/"
    },
    "id": "R6MpclcXe4-T",
    "outputId": "2ef6d04f-6d61-4a05-b687-8451c669e766"
   },
   "outputs": [
    {
     "name": "stdout",
     "output_type": "stream",
     "text": [
      "c'è stato un errore di divisione per 0\n",
      "\n",
      "\n",
      "\n"
     ]
    }
   ],
   "source": [
    "x=divisione(66,0)"
   ]
  },
  {
   "cell_type": "markdown",
   "metadata": {
    "id": "OTLxOioZklzP"
   },
   "source": [
    "#Debug"
   ]
  },
  {
   "cell_type": "code",
   "execution_count": 43,
   "metadata": {
    "colab": {
     "base_uri": "https://localhost:8080/",
     "height": 1000
    },
    "id": "kQagz-NEkoBi",
    "outputId": "f05220a0-3b49-4963-850b-a96649f53e22"
   },
   "outputs": [
    {
     "name": "stderr",
     "output_type": "stream",
     "text": [
      "\n",
      "PYDEV DEBUGGER WARNING:\n",
      "sys.settrace() should not be used when the debugger is being used.\n",
      "This may cause the debugger to stop working correctly.\n",
      "If this is needed, please check: \n",
      "http://pydev.blogspot.com/2007/06/why-cant-pydev-debugger-work-with.html\n",
      "to see how to restore the debug tracing back correctly.\n",
      "Call Location:\n",
      "  File \"/usr/lib/python3.7/bdb.py\", line 332, in set_trace\n",
      "    sys.settrace(self.trace_dispatch)\n",
      "\n"
     ]
    },
    {
     "name": "stdout",
     "output_type": "stream",
     "text": [
      "1  \n",
      "\n",
      "2  \n",
      "\n",
      "3  \n",
      "\n",
      "4  \n",
      "\n",
      "5  \n",
      "\n",
      "> <ipython-input-43-8852a8028bff>(3)<module>()\n",
      "-> for i in range(1,10):\n",
      "(Pdb) list\n",
      "  1  \timport pdb  #libreria necessaria per avviare l'ambiente di debug su shell python\n",
      "  2  \t\n",
      "  3  ->\tfor i in range(1,10):\n",
      "  4  \t  print(i,\" \\n\")\n",
      "  5  \t  if (i==5):\n",
      "  6  \t    pdb.set_trace()  #funzione che ferma il flusso normale di eseczione del programma\n",
      "  7  \t                      # e avvia l'ambiente di debug, a partire da quella istruzione\n",
      "  8  \t\n",
      "  9  \tprint(\"uscita dal programma\")\n",
      "[EOF]\n",
      "(Pdb) i\n",
      "5\n",
      "(Pdb) next\n",
      "> <ipython-input-43-8852a8028bff>(4)<module>()\n",
      "-> print(i,\" \\n\")\n",
      "(Pdb) next\n",
      "6  \n",
      "\n",
      "> <ipython-input-43-8852a8028bff>(5)<module>()\n",
      "-> if (i==5):\n",
      "(Pdb) i\n",
      "6\n",
      "(Pdb) next\n",
      "> <ipython-input-43-8852a8028bff>(3)<module>()\n",
      "-> for i in range(1,10):\n",
      "(Pdb) next\n",
      "> <ipython-input-43-8852a8028bff>(4)<module>()\n",
      "-> print(i,\" \\n\")\n",
      "(Pdb) i\n",
      "7\n",
      "(Pdb) next\n",
      "7  \n",
      "\n",
      "> <ipython-input-43-8852a8028bff>(5)<module>()\n",
      "-> if (i==5):\n",
      "(Pdb) exit\n"
     ]
    },
    {
     "name": "stderr",
     "output_type": "stream",
     "text": [
      "\n",
      "PYDEV DEBUGGER WARNING:\n",
      "sys.settrace() should not be used when the debugger is being used.\n",
      "This may cause the debugger to stop working correctly.\n",
      "If this is needed, please check: \n",
      "http://pydev.blogspot.com/2007/06/why-cant-pydev-debugger-work-with.html\n",
      "to see how to restore the debug tracing back correctly.\n",
      "Call Location:\n",
      "  File \"/usr/lib/python3.7/bdb.py\", line 357, in set_quit\n",
      "    sys.settrace(None)\n",
      "\n"
     ]
    },
    {
     "ename": "BdbQuit",
     "evalue": "ignored",
     "output_type": "error",
     "traceback": [
      "\u001b[0;31m---------------------------------------------------------------------------\u001b[0m",
      "\u001b[0;31mBdbQuit\u001b[0m                                   Traceback (most recent call last)",
      "\u001b[0;32m<ipython-input-43-8852a8028bff>\u001b[0m in \u001b[0;36m<module>\u001b[0;34m()\u001b[0m\n\u001b[1;32m      3\u001b[0m \u001b[0;32mfor\u001b[0m \u001b[0mi\u001b[0m \u001b[0;32min\u001b[0m \u001b[0mrange\u001b[0m\u001b[0;34m(\u001b[0m\u001b[0;36m1\u001b[0m\u001b[0;34m,\u001b[0m\u001b[0;36m10\u001b[0m\u001b[0;34m)\u001b[0m\u001b[0;34m:\u001b[0m\u001b[0;34m\u001b[0m\u001b[0;34m\u001b[0m\u001b[0m\n\u001b[1;32m      4\u001b[0m   \u001b[0mprint\u001b[0m\u001b[0;34m(\u001b[0m\u001b[0mi\u001b[0m\u001b[0;34m,\u001b[0m\u001b[0;34m\" \\n\"\u001b[0m\u001b[0;34m)\u001b[0m\u001b[0;34m\u001b[0m\u001b[0;34m\u001b[0m\u001b[0m\n\u001b[0;32m----> 5\u001b[0;31m   \u001b[0;32mif\u001b[0m \u001b[0;34m(\u001b[0m\u001b[0mi\u001b[0m\u001b[0;34m==\u001b[0m\u001b[0;36m5\u001b[0m\u001b[0;34m)\u001b[0m\u001b[0;34m:\u001b[0m\u001b[0;34m\u001b[0m\u001b[0;34m\u001b[0m\u001b[0m\n\u001b[0m\u001b[1;32m      6\u001b[0m     \u001b[0mpdb\u001b[0m\u001b[0;34m.\u001b[0m\u001b[0mset_trace\u001b[0m\u001b[0;34m(\u001b[0m\u001b[0;34m)\u001b[0m  \u001b[0;31m#funzione che ferma il flusso normale di eseczione del programma\u001b[0m\u001b[0;34m\u001b[0m\u001b[0;34m\u001b[0m\u001b[0m\n\u001b[1;32m      7\u001b[0m                       \u001b[0;31m# e avvia l'ambiente di debug, a partire da quella istruzione\u001b[0m\u001b[0;34m\u001b[0m\u001b[0;34m\u001b[0m\u001b[0;34m\u001b[0m\u001b[0m\n",
      "\u001b[0;32m<ipython-input-43-8852a8028bff>\u001b[0m in \u001b[0;36m<module>\u001b[0;34m()\u001b[0m\n\u001b[1;32m      3\u001b[0m \u001b[0;32mfor\u001b[0m \u001b[0mi\u001b[0m \u001b[0;32min\u001b[0m \u001b[0mrange\u001b[0m\u001b[0;34m(\u001b[0m\u001b[0;36m1\u001b[0m\u001b[0;34m,\u001b[0m\u001b[0;36m10\u001b[0m\u001b[0;34m)\u001b[0m\u001b[0;34m:\u001b[0m\u001b[0;34m\u001b[0m\u001b[0;34m\u001b[0m\u001b[0m\n\u001b[1;32m      4\u001b[0m   \u001b[0mprint\u001b[0m\u001b[0;34m(\u001b[0m\u001b[0mi\u001b[0m\u001b[0;34m,\u001b[0m\u001b[0;34m\" \\n\"\u001b[0m\u001b[0;34m)\u001b[0m\u001b[0;34m\u001b[0m\u001b[0;34m\u001b[0m\u001b[0m\n\u001b[0;32m----> 5\u001b[0;31m   \u001b[0;32mif\u001b[0m \u001b[0;34m(\u001b[0m\u001b[0mi\u001b[0m\u001b[0;34m==\u001b[0m\u001b[0;36m5\u001b[0m\u001b[0;34m)\u001b[0m\u001b[0;34m:\u001b[0m\u001b[0;34m\u001b[0m\u001b[0;34m\u001b[0m\u001b[0m\n\u001b[0m\u001b[1;32m      6\u001b[0m     \u001b[0mpdb\u001b[0m\u001b[0;34m.\u001b[0m\u001b[0mset_trace\u001b[0m\u001b[0;34m(\u001b[0m\u001b[0;34m)\u001b[0m  \u001b[0;31m#funzione che ferma il flusso normale di eseczione del programma\u001b[0m\u001b[0;34m\u001b[0m\u001b[0;34m\u001b[0m\u001b[0m\n\u001b[1;32m      7\u001b[0m                       \u001b[0;31m# e avvia l'ambiente di debug, a partire da quella istruzione\u001b[0m\u001b[0;34m\u001b[0m\u001b[0;34m\u001b[0m\u001b[0;34m\u001b[0m\u001b[0m\n",
      "\u001b[0;32m/usr/lib/python3.7/bdb.py\u001b[0m in \u001b[0;36mtrace_dispatch\u001b[0;34m(self, frame, event, arg)\u001b[0m\n\u001b[1;32m     86\u001b[0m             \u001b[0;32mreturn\u001b[0m \u001b[0;31m# None\u001b[0m\u001b[0;34m\u001b[0m\u001b[0;34m\u001b[0m\u001b[0m\n\u001b[1;32m     87\u001b[0m         \u001b[0;32mif\u001b[0m \u001b[0mevent\u001b[0m \u001b[0;34m==\u001b[0m \u001b[0;34m'line'\u001b[0m\u001b[0;34m:\u001b[0m\u001b[0;34m\u001b[0m\u001b[0;34m\u001b[0m\u001b[0m\n\u001b[0;32m---> 88\u001b[0;31m             \u001b[0;32mreturn\u001b[0m \u001b[0mself\u001b[0m\u001b[0;34m.\u001b[0m\u001b[0mdispatch_line\u001b[0m\u001b[0;34m(\u001b[0m\u001b[0mframe\u001b[0m\u001b[0;34m)\u001b[0m\u001b[0;34m\u001b[0m\u001b[0;34m\u001b[0m\u001b[0m\n\u001b[0m\u001b[1;32m     89\u001b[0m         \u001b[0;32mif\u001b[0m \u001b[0mevent\u001b[0m \u001b[0;34m==\u001b[0m \u001b[0;34m'call'\u001b[0m\u001b[0;34m:\u001b[0m\u001b[0;34m\u001b[0m\u001b[0;34m\u001b[0m\u001b[0m\n\u001b[1;32m     90\u001b[0m             \u001b[0;32mreturn\u001b[0m \u001b[0mself\u001b[0m\u001b[0;34m.\u001b[0m\u001b[0mdispatch_call\u001b[0m\u001b[0;34m(\u001b[0m\u001b[0mframe\u001b[0m\u001b[0;34m,\u001b[0m \u001b[0marg\u001b[0m\u001b[0;34m)\u001b[0m\u001b[0;34m\u001b[0m\u001b[0;34m\u001b[0m\u001b[0m\n",
      "\u001b[0;32m/usr/lib/python3.7/bdb.py\u001b[0m in \u001b[0;36mdispatch_line\u001b[0;34m(self, frame)\u001b[0m\n\u001b[1;32m    111\u001b[0m         \u001b[0;32mif\u001b[0m \u001b[0mself\u001b[0m\u001b[0;34m.\u001b[0m\u001b[0mstop_here\u001b[0m\u001b[0;34m(\u001b[0m\u001b[0mframe\u001b[0m\u001b[0;34m)\u001b[0m \u001b[0;32mor\u001b[0m \u001b[0mself\u001b[0m\u001b[0;34m.\u001b[0m\u001b[0mbreak_here\u001b[0m\u001b[0;34m(\u001b[0m\u001b[0mframe\u001b[0m\u001b[0;34m)\u001b[0m\u001b[0;34m:\u001b[0m\u001b[0;34m\u001b[0m\u001b[0;34m\u001b[0m\u001b[0m\n\u001b[1;32m    112\u001b[0m             \u001b[0mself\u001b[0m\u001b[0;34m.\u001b[0m\u001b[0muser_line\u001b[0m\u001b[0;34m(\u001b[0m\u001b[0mframe\u001b[0m\u001b[0;34m)\u001b[0m\u001b[0;34m\u001b[0m\u001b[0;34m\u001b[0m\u001b[0m\n\u001b[0;32m--> 113\u001b[0;31m             \u001b[0;32mif\u001b[0m \u001b[0mself\u001b[0m\u001b[0;34m.\u001b[0m\u001b[0mquitting\u001b[0m\u001b[0;34m:\u001b[0m \u001b[0;32mraise\u001b[0m \u001b[0mBdbQuit\u001b[0m\u001b[0;34m\u001b[0m\u001b[0;34m\u001b[0m\u001b[0m\n\u001b[0m\u001b[1;32m    114\u001b[0m         \u001b[0;32mreturn\u001b[0m \u001b[0mself\u001b[0m\u001b[0;34m.\u001b[0m\u001b[0mtrace_dispatch\u001b[0m\u001b[0;34m\u001b[0m\u001b[0;34m\u001b[0m\u001b[0m\n\u001b[1;32m    115\u001b[0m \u001b[0;34m\u001b[0m\u001b[0m\n",
      "\u001b[0;31mBdbQuit\u001b[0m: "
     ]
    }
   ],
   "source": [
    "import pdb  #libreria necessaria per avviare l'ambiente di debug su shell python\n",
    "\n",
    "for i in range(1,10):\n",
    "  print(i,\" \\n\")\n",
    "  if (i==5):\n",
    "    pdb.set_trace()  #funzione che ferma il flusso normale di eseczione del programma\n",
    "                      # e avvia l'ambiente di debug, a partire da quella istruzione\n",
    "\n",
    "print(\"uscita dal programma\")"
   ]
  },
  {
   "cell_type": "markdown",
   "metadata": {
    "id": "Cgdr3KVglJTK"
   },
   "source": [
    "All'interno dell'ambiente di Debug si possono utilizzare i seguenti comandi\n",
    "\n",
    "list: stampa tutta la porzione di programma\n",
    "\n",
    "next: va all'istruzione successiva\n",
    "\n",
    "nome variabile: stampa il contenuto in quella istruzione eseguita in quel momento della variabile"
   ]
  }
 ],
 "metadata": {
  "colab": {
   "collapsed_sections": [],
   "name": "Eccezioni_Debug.ipynb",
   "provenance": []
  },
  "kernelspec": {
   "display_name": "Python 3",
   "language": "python",
   "name": "python3"
  },
  "language_info": {
   "codemirror_mode": {
    "name": "ipython",
    "version": 3
   },
   "file_extension": ".py",
   "mimetype": "text/x-python",
   "name": "python",
   "nbconvert_exporter": "python",
   "pygments_lexer": "ipython3",
   "version": "3.7.6"
  }
 },
 "nbformat": 4,
 "nbformat_minor": 1
}
