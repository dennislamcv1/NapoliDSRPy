{
 "cells": [
  {
   "cell_type": "markdown",
   "metadata": {
    "id": "Q5jTgArHFE6A"
   },
   "source": [
    "Questo modulo sarà importato da b\n",
    "\n",
    "---\n",
    "\n"
   ]
  },
  {
   "cell_type": "code",
   "execution_count": null,
   "metadata": {
    "id": "qPv9_RwXQhRE"
   },
   "outputs": [],
   "source": [
    "def stampa():\n",
    "  print(\"stampa del modulo c\")\n",
    "\n",
    "\n",
    "def stampac():\n",
    "  print(\"stampa solo per c\")"
   ]
  }
 ],
 "metadata": {
  "colab": {
   "collapsed_sections": [],
   "name": "c.ipynb",
   "provenance": []
  },
  "kernelspec": {
   "display_name": "Python 3",
   "name": "python3"
  },
  "language_info": {
   "name": "python"
  }
 },
 "nbformat": 4,
 "nbformat_minor": 0
}
