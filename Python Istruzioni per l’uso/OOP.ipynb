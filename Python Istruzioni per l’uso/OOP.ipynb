{
 "cells": [
  {
   "cell_type": "markdown",
   "metadata": {
    "id": "aq3EZWQtHXlp"
   },
   "source": [
    "# La programmazione a Oggetti"
   ]
  },
  {
   "cell_type": "markdown",
   "metadata": {
    "id": "nDgwHYbqHbW3"
   },
   "source": [
    "# Le Classi"
   ]
  },
  {
   "cell_type": "code",
   "execution_count": 1,
   "metadata": {
    "id": "FPWAOG05E2IC"
   },
   "outputs": [],
   "source": [
    "\n",
    "class nome_Classe:  #definizione della classe, con la parola chiave class seguita dal nome della classe e dai :\n",
    "\n",
    "#non c'è bisogno di dichiarare esplicitamente le variabili (ovvero gli attributi!) delle variabili\n",
    "\n",
    "#definizione dei metodi della Classe\n",
    "\n",
    "#questi metodi saranno a disposizione di tutti gli oggetti della classe\n",
    "  #modificatore set\n",
    "  def setData(self, valore): #il primo parametro è il riferimento all'oggetto stesso\n",
    "    #in questo metodo si definisce anche un attributo: data\n",
    "    #qesto metodo ci dice che la classe ha anche l'attributo data  \n",
    "    self.data= valore   #self è il riferimento all'oggetto stesso\n",
    "    #facciamo riferimento a data direttamente tramite l'operatore .\n",
    "    #direttamente dall'oggetto\n",
    "    #quindi abbiamo aassegnato un valore all'attributo data\n",
    "    #e come al solito in Python, all'atto dell'assegnazione abbiamo anche dichiarato l'attributo data\n",
    "\n",
    "  #selettore get\n",
    "  def getData(self):\n",
    "    return self.data #restituisce il valore dell'attributo data\n",
    "\n",
    "  #costruttore della classe\n",
    "  def __init__(self,valore):\n",
    "    return self.setDati(valore)\n"
   ]
  },
  {
   "cell_type": "markdown",
   "metadata": {
    "id": "gPp_oUANJXeg"
   },
   "source": [
    "# Esempio di Classe"
   ]
  },
  {
   "cell_type": "code",
   "execution_count": 2,
   "metadata": {
    "id": "ebPioh6NH30b"
   },
   "outputs": [],
   "source": [
    "class Studente:\n",
    "# nome, cognome, matricola, mediaEsamiStostenuti, ListaEsami\n",
    "#self.matricola = 0  \n",
    "#metodi set\n",
    " def setNome(self, valore): \n",
    "   self.nome= valore \n",
    " def setCognome(self, valore): \n",
    "   self.cognome= valore \n",
    " def setMatricola(self, valore): \n",
    "   self.matricola= valore \n",
    " def setMedia(self, valore): \n",
    "   self.mediaEsamiStostenuti= valore \n",
    " def setEsame(self,NomeEsame,Voto):\n",
    "   self.ListaEsami[NomeEsame]=Voto\n",
    "\n",
    "#metodi get\n",
    " def getNome(self): \n",
    "   return self.nome \n",
    " def getCognome(self): \n",
    "   return self.cognome \n",
    " def getMatricola(self): \n",
    "   return self.matricola \n",
    " def getMedia(self): \n",
    "   return self.mediaEsamiStostenuti \n",
    " def getEsame(self,NomeEsame):\n",
    "   return self.ListaEsami.get(NomeEsame,-1) \n",
    "\n",
    " def __init__(self,valore_nome,valore_cognome,valore_matricola):\n",
    "  self.setNome(valore_nome)\n",
    "  self.setCognome(valore_cognome)\n",
    "  self.setMatricola(valore_matricola)\n",
    "  self.ListaEsami={}\n",
    "\n",
    " def display(self,nome):\n",
    "  print(\"Nome : \",self.nome)\n",
    "  print(\"Cognome : \",self.cognome)\n",
    "  print(\"Matricola : \",self.matricola)\n",
    "  print(\"Media Esami : \",self.getMedia())\n",
    "\n"
   ]
  },
  {
   "cell_type": "code",
   "execution_count": 3,
   "metadata": {
    "id": "7bjgyqWWQin6"
   },
   "outputs": [],
   "source": [
    "#istanzio la classe: creo oggetti della classe studente\n",
    "alessandra=Studente(\"Alessandra\",\"Ama\",236)"
   ]
  },
  {
   "cell_type": "code",
   "execution_count": 4,
   "metadata": {
    "colab": {
     "base_uri": "https://localhost:8080/"
    },
    "id": "c_aKB6a8S30y",
    "outputId": "df95416e-b694-4c2d-ee02-9018ee685d9a"
   },
   "outputs": [
    {
     "name": "stdout",
     "output_type": "stream",
     "text": [
      "Nome :  Alessandra\n",
      "Cognome :  Ama\n",
      "Matricola :  236\n",
      "Media Esami :  30\n"
     ]
    }
   ],
   "source": [
    "alessandra.setMedia(30)\n",
    "alessandra.display(\"Alessandra\")\n"
   ]
  },
  {
   "cell_type": "code",
   "execution_count": 5,
   "metadata": {
    "colab": {
     "base_uri": "https://localhost:8080/",
     "height": 35
    },
    "id": "Jq5KdpL4Rjtg",
    "outputId": "995e88af-2058-4e12-a61a-db9f3a8c7625"
   },
   "outputs": [
    {
     "data": {
      "text/plain": [
       "'Ama'"
      ]
     },
     "execution_count": 5,
     "metadata": {},
     "output_type": "execute_result"
    }
   ],
   "source": [
    "alessandra.getCognome()"
   ]
  },
  {
   "cell_type": "code",
   "execution_count": 6,
   "metadata": {
    "colab": {
     "base_uri": "https://localhost:8080/"
    },
    "id": "hcXEVpzGRmCR",
    "outputId": "9b5c4fdf-982b-4207-bdce-3604c790b9fd"
   },
   "outputs": [
    {
     "data": {
      "text/plain": [
       "236"
      ]
     },
     "execution_count": 6,
     "metadata": {},
     "output_type": "execute_result"
    }
   ],
   "source": [
    "alessandra.getMatricola()"
   ]
  },
  {
   "cell_type": "code",
   "execution_count": 7,
   "metadata": {
    "colab": {
     "base_uri": "https://localhost:8080/"
    },
    "id": "OL9FcZbeV_Df",
    "outputId": "ddfb1b31-b4cf-47b2-b204-b133b8a80c31"
   },
   "outputs": [
    {
     "data": {
      "text/plain": [
       "-1"
      ]
     },
     "execution_count": 7,
     "metadata": {},
     "output_type": "execute_result"
    }
   ],
   "source": [
    "alessandra=Studente(\"Alessandra\",\"Scarano\",111)\n",
    "alessandra.setEsame(\"Matematica\",18 )\n",
    "alessandra.getEsame(\"Matematica\")\n",
    "alessandra.getEsame(\"Fisica\")\n"
   ]
  },
  {
   "cell_type": "markdown",
   "metadata": {
    "id": "85ki3JfcZckp"
   },
   "source": [
    "# Creiamo una nuova Classe \n",
    "Classe Corso di Studi che contiene le informazioni sugli studenti"
   ]
  },
  {
   "cell_type": "code",
   "execution_count": 8,
   "metadata": {
    "id": "hwl3m-UEZi3f"
   },
   "outputs": [],
   "source": [
    "class CorsoDiStudi:\n",
    "\n",
    " matricola=0\n",
    " def setNome(self, valore):\n",
    "   self.nome= valore \n",
    " def setNumeroAnni(self, valore): \n",
    "   self.numeroAnni= valore \n",
    " def setPrefissoMatricola(self, valore): \n",
    "   self.prefissoMatricola= valore \n",
    " \n",
    "\n",
    "\n",
    "#metodi get\n",
    " def getNome(self): \n",
    "   return self.nome \n",
    " def getNumeroAnni(self): \n",
    "   return self.numeroAnni \n",
    " def getPrefissoMatricola(self): \n",
    "   return self.prefissoMatricola \n",
    " def getListaStudenti(self):\n",
    "   for s in self.ListaStudenti:\n",
    "     print(s.getNome(),\"   \", s.getCognome(),\"   \", s.getMatricola())\n",
    " \n",
    "\n",
    " def __init__(self,valore_nome,valore_numeroAnni,valore_prefissoMatricola):\n",
    "  self.setNome(valore_nome)\n",
    "  self.setNumeroAnni(valore_numeroAnni)\n",
    "  self.setPrefissoMatricola(valore_prefissoMatricola)\n",
    "  self.ListaStudenti=[]\n",
    "\n",
    " #crea un ogetto studente in base ai dati e lo aggiunge al corso di studi\n",
    " def aggiungiStudente(self,valore_nome,valore_cognome):\n",
    "   self.matricola=self.matricola+1\n",
    "   #costruttore di studente\n",
    "   nuovo_studente=Studente(valore_nome,valore_cognome,self.matricola)\n",
    "   #aggiungi alla lista degli studenti\n",
    "   self.ListaStudenti.append(nuovo_studente)\n",
    "\n"
   ]
  },
  {
   "cell_type": "markdown",
   "metadata": {
    "id": "_lGydih7crJE"
   },
   "source": [
    "Usiamo la classe Corso di Studi"
   ]
  },
  {
   "cell_type": "code",
   "execution_count": 9,
   "metadata": {
    "id": "PY9eomGAcqCL"
   },
   "outputs": [],
   "source": [
    "Lettere=CorsoDiStudi(\"Lettere\",3,'M36')"
   ]
  },
  {
   "cell_type": "code",
   "execution_count": 10,
   "metadata": {
    "colab": {
     "base_uri": "https://localhost:8080/",
     "height": 35
    },
    "id": "gI2g8CDEdfap",
    "outputId": "e94f0abb-40cb-4a56-9982-afdf4e35d767"
   },
   "outputs": [
    {
     "data": {
      "text/plain": [
       "'Lettere'"
      ]
     },
     "execution_count": 10,
     "metadata": {},
     "output_type": "execute_result"
    }
   ],
   "source": [
    "Lettere.getNome()"
   ]
  },
  {
   "cell_type": "code",
   "execution_count": 11,
   "metadata": {
    "colab": {
     "base_uri": "https://localhost:8080/",
     "height": 35
    },
    "id": "HGsl2I0RdiI8",
    "outputId": "c45f974a-fbec-4a19-e60b-211bca1c83ad"
   },
   "outputs": [
    {
     "data": {
      "text/plain": [
       "'M36'"
      ]
     },
     "execution_count": 11,
     "metadata": {},
     "output_type": "execute_result"
    }
   ],
   "source": [
    "Lettere.getPrefissoMatricola()"
   ]
  },
  {
   "cell_type": "code",
   "execution_count": 12,
   "metadata": {
    "id": "XBWUaSDieCJy"
   },
   "outputs": [],
   "source": [
    "Lettere.aggiungiStudente(\"Filomena\",\"Marturano\")"
   ]
  },
  {
   "cell_type": "code",
   "execution_count": 13,
   "metadata": {
    "colab": {
     "base_uri": "https://localhost:8080/"
    },
    "id": "r3R2CEHHgewm",
    "outputId": "a20a851a-b857-4dde-927e-4b4b5c5e5623"
   },
   "outputs": [
    {
     "name": "stdout",
     "output_type": "stream",
     "text": [
      "Filomena     Marturano     1\n"
     ]
    }
   ],
   "source": [
    "Lettere.getListaStudenti()"
   ]
  },
  {
   "cell_type": "markdown",
   "metadata": {
    "id": "S86HX3e8lYJ2"
   },
   "source": [
    "# Ereditarietà"
   ]
  },
  {
   "cell_type": "markdown",
   "metadata": {
    "id": "o1DvyMRblgzD"
   },
   "source": [
    "Creiamo una Classe Ereditata da Corso di Lurea"
   ]
  },
  {
   "cell_type": "code",
   "execution_count": 16,
   "metadata": {
    "id": "I-VfLprUlazX"
   },
   "outputs": [],
   "source": [
    "# la classe CorsoDiStudiMagistrale eredita dalla classe CorsoDiStudi\n",
    "class CorsoDiStudiMagistrale(CorsoDiStudi):\n",
    "\n",
    "  def impostaCreditiAggiuntivi(debitiDaRisolvere):\n",
    "    self.crediti=debitiDaRisolvere"
   ]
  },
  {
   "cell_type": "code",
   "execution_count": 17,
   "metadata": {
    "id": "tcsQbw7TlfWX"
   },
   "outputs": [],
   "source": [
    "# la classe CorsoDiStudiTriennale eredita dalla classe CorsoDiStudi\n",
    "class CorsoDiStudiTriennale(CorsoDiStudi):\n",
    "\n",
    "  def impostaTitoliDiStudio(titoli_val):\n",
    "    self.titoli=titoli_val"
   ]
  },
  {
   "cell_type": "markdown",
   "metadata": {
    "id": "9LyDFEMnmQ4h"
   },
   "source": [
    "# Usiamo l'ereditarietà multipla"
   ]
  },
  {
   "cell_type": "markdown",
   "metadata": {
    "id": "wORIcF2Bmk-_"
   },
   "source": [
    "La classe Accademia eredita sia dalla Classe CorsoDiStudiTriennale che dalla Classe CorsoDiStudiMagistrale"
   ]
  },
  {
   "cell_type": "code",
   "execution_count": 18,
   "metadata": {
    "id": "e0Aet0AamVPL"
   },
   "outputs": [],
   "source": [
    "class Accademia(CorsoDiStudiTriennale, CorsoDiStudiMagistrale):\n",
    "  def studenti_in_comune(Lista_Studiamo): pass\n",
    "  #pass serve solo a dire che il metodo o la classe non ha definito alcun blocco di istruzioni\n"
   ]
  },
  {
   "cell_type": "markdown",
   "metadata": {
    "id": "hpLuNK3LrVIa"
   },
   "source": [
    "Come gestire conflitti di nomi nell'ereditarietà Multipla"
   ]
  },
  {
   "cell_type": "markdown",
   "metadata": {
    "id": "EjazMOA3mwk9"
   },
   "source": [
    "Supponiamo di dover ereditare da due classi e che ci sia un conflitto di nomi\n",
    "\n",
    "\n",
    "Ovvero supponiamo di avere due classi: Studente e Insegnante\n",
    "\n",
    "entrambe hanno un attributo \"nome\"\n",
    "\n",
    "supponaimo di avere una classe Tutor che eredita da entrambe\n",
    "\n",
    "nell'esempio si mostra come ottenere l'attributo nome dalla classe Tutor, specificando che essa deve essere ereditata dalla classe Insegnante"
   ]
  },
  {
   "cell_type": "code",
   "execution_count": 21,
   "metadata": {
    "colab": {
     "base_uri": "https://localhost:8080/"
    },
    "id": "Ep4r3eetrGBY",
    "outputId": "78e91cb9-c7eb-410d-a56b-706b8842626b"
   },
   "outputs": [
    {
     "name": "stdout",
     "output_type": "stream",
     "text": [
      "Nome studente = Flora\n",
      "Cognome studente = Amato\n",
      "Matricola studente = 666\n",
      "Media studente = 28\n",
      "Voto esame di Informatica = 30\n",
      "Il nome della persona è: Giulio\n"
     ]
    }
   ],
   "source": [
    "class Studente:\n",
    "    def setNome(self,valore):\n",
    "        self.nome = valore\n",
    "    def setCognome(self,valore):\n",
    "        self.cognome = valore\n",
    "    def setMatricola(self, valore):\n",
    "        self.matricola = valore\n",
    "    def setMedia(self, valore):\n",
    "        self.media = valore\n",
    "    def addEsame(self, NomeEsame, Voto):\n",
    "        self.ListEsami[NomeEsame]=Voto\n",
    "\n",
    "    def getNome(self):\n",
    "        return self.nome\n",
    "    def getCognome(self):\n",
    "        return self.cognome\n",
    "    def getMatricola(self):\n",
    "        return self.matricola\n",
    "    def getMedia(self):\n",
    "        return self.media\n",
    "    def getEsame(self, NomeEsame):\n",
    "        return self.ListEsami.get(NomeEsame, -1)\n",
    "\n",
    "    def __init__(self, valore_nome, valore_cognome, valore_matricola):\n",
    "        self.setNome(valore_nome)\n",
    "        self.setCognome(valore_cognome)\n",
    "        self.setMatricola(valore_matricola)\n",
    "        self.ListEsami={}\n",
    "\n",
    "    def stampa(self, NomeEsame):\n",
    "        print('Nome studente =', flora.getNome())\n",
    "        print('Cognome studente =', flora.getCognome())\n",
    "        print('Matricola studente =', flora.getMatricola())\n",
    "        print('Media studente =', flora.getMedia())\n",
    "        print('Voto esame di ' + NomeEsame + ' =', flora.getEsame(NomeEsame))\n",
    "\n",
    "\n",
    "class Insegnate:\n",
    "    def setNome(self, valore):\n",
    "        self.nome = valore + ' ' +valore\n",
    "\n",
    "    def getNome(self):\n",
    "        return self.nome\n",
    "\n",
    "    def __init__(self, valore_nome, valore_cognome, valore_matricola):\n",
    "        self.setNome(valore_nome)\n",
    "\n",
    "flora = Studente('Flora', 'Amato', '666')\n",
    "flora.setMedia(28)\n",
    "flora.addEsame('Informatica',30)\n",
    "flora.stampa('Informatica')\n",
    "\n",
    "class Tutor(Insegnate, Studente):\n",
    "    def setNome(self, valore):\n",
    "        return(super(Insegnate,self).setNome(valore))\n",
    "\n",
    "Giulio = Tutor('Giulio', 'Esposito', '999')\n",
    "\n",
    "print('Il nome della persona è:', Giulio.getNome())\n"
   ]
  },
  {
   "cell_type": "code",
   "execution_count": null,
   "metadata": {},
   "outputs": [],
   "source": []
  }
 ],
 "metadata": {
  "colab": {
   "collapsed_sections": [],
   "name": "OOP.ipynb",
   "provenance": []
  },
  "kernelspec": {
   "display_name": "Python 3",
   "language": "python",
   "name": "python3"
  },
  "language_info": {
   "codemirror_mode": {
    "name": "ipython",
    "version": 3
   },
   "file_extension": ".py",
   "mimetype": "text/x-python",
   "name": "python",
   "nbconvert_exporter": "python",
   "pygments_lexer": "ipython3",
   "version": "3.7.6"
  }
 },
 "nbformat": 4,
 "nbformat_minor": 1
}
