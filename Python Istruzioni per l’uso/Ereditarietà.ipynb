{
 "cells": [
  {
   "cell_type": "markdown",
   "metadata": {
    "id": "rExQ-R-L8jNl"
   },
   "source": [
    "# Gestione dei Conflitti nell' Ereditarietà \n",
    "\n",
    "\n",
    "Costruiamo un esempio con una gerarchia di Classi= Bisnonna, Nonna, Mamma, Nipote"
   ]
  },
  {
   "cell_type": "code",
   "execution_count": 22,
   "metadata": {
    "id": "Bg1a7PRWHDAW"
   },
   "outputs": [],
   "source": [
    "#Bisnonna eredita da object, la classe generale, da cui tutte ereditano\n",
    "class BisNonna(object):\n",
    "  def metodoBisNonna(self):\n",
    "    print('Stampa BisNonna')\n",
    "  def metodoConflitto(self):\n",
    "    print('Stampa BisNonna con conflitto')\n",
    "\n",
    "#Nonna eredita da Bisnonna\n",
    "class Nonna(BisNonna):\n",
    "  def metodoNonna(self):\n",
    "    print('Stampa Nonna')\n",
    "  def metodoConflitto(self):\n",
    "    print('Stampa Nonna con conflitto')\n",
    "\n",
    "#Mamma eredita da Nonna\n",
    "class Mamma(Nonna):\n",
    "  def metodoMamma(self):\n",
    "    print('Stampa Mamma')\n",
    "  def metodoConflitto(self):\n",
    "      print('Stampa Mamma con conflitto')\n",
    "\n",
    "#Nipote  eredita da Mamma\n",
    "class Nipote(Mamma):\n",
    "  def metodoNipote(self):\n",
    "    print('Stampa Nipote')\n",
    "  def metodoConflitto(self):\n",
    "    print('Stampa Nipote con conflitto')\n",
    "\n",
    "  def metodoSingoloSalto(self): #voglio forzare l'invocazione della mamma\n",
    "\n",
    "    # un 'salto' mediante l'utilizzo della funzione Super(), voglio forzare l'invocazione del metodoConflitto\n",
    "    # non definito nella classe corente, ma definito nella classe superiore, quella da cui eredita direttamente\n",
    "    # nel caso di Nipote sarebbe Mamma\n",
    "    super().metodoConflitto()      #   equivalente a    super(Nipote, self).metodoConflitto()\n",
    "    # super(Nipote, self).metodoConflitto()\n",
    "\n",
    "   ## due salti\n",
    "   ## voglio forzare l'invocazione del metodoConflitto\n",
    "   ## non definito nella classe corente, ma definito nella classe superiore Nonna \n",
    "    super(Mamma, self).metodoConflitto()\n",
    "\n",
    "    \n",
    "   ## tre salti\n",
    "   ## voglio forzare l'invocazione del metodoConflitto\n",
    "   ## non definito nella classe corente, ma definito nella classe superiore BisNonna \n",
    "    super(Nonna, self).metodoConflitto()\n"
   ]
  },
  {
   "cell_type": "code",
   "execution_count": 6,
   "metadata": {
    "id": "udvVZKdUHlKT"
   },
   "outputs": [],
   "source": [
    "#creo un oggetto Nipote\n",
    "a=Nipote()\n"
   ]
  },
  {
   "cell_type": "code",
   "execution_count": 7,
   "metadata": {
    "colab": {
     "base_uri": "https://localhost:8080/"
    },
    "id": "KxZP8PdfHru5",
    "outputId": "e54bf842-d492-4548-d76e-e465e2bc4c68"
   },
   "outputs": [
    {
     "name": "stdout",
     "output_type": "stream",
     "text": [
      "Stampa Nipote\n"
     ]
    }
   ],
   "source": [
    "#invoco metodoNipote \n",
    "a.metodoNipote()"
   ]
  },
  {
   "cell_type": "code",
   "execution_count": 8,
   "metadata": {
    "colab": {
     "base_uri": "https://localhost:8080/"
    },
    "id": "6x0_XdXELQa2",
    "outputId": "a1f04901-1a5e-40e3-f138-cc273b5aeff0"
   },
   "outputs": [
    {
     "name": "stdout",
     "output_type": "stream",
     "text": [
      "Stampa Mamma con conflitto\n",
      "Stampa Nonna con conflitto\n",
      "Stampa BisNonna con conflitto\n"
     ]
    }
   ],
   "source": [
    "a.metodoSingoloSalto()"
   ]
  },
  {
   "cell_type": "code",
   "execution_count": 9,
   "metadata": {
    "colab": {
     "base_uri": "https://localhost:8080/"
    },
    "id": "QTms9ssIJ4s6",
    "outputId": "b9e17537-b5c5-49ee-b37b-b70b29eee1ff"
   },
   "outputs": [
    {
     "name": "stdout",
     "output_type": "stream",
     "text": [
      "Stampa Nipote con conflitto\n"
     ]
    }
   ],
   "source": [
    "a.metodoConflitto()"
   ]
  },
  {
   "cell_type": "code",
   "execution_count": 11,
   "metadata": {
    "colab": {
     "base_uri": "https://localhost:8080/"
    },
    "id": "xJjrtDIBJueb",
    "outputId": "c30e2b17-d1d4-4322-d022-060060655313"
   },
   "outputs": [
    {
     "name": "stdout",
     "output_type": "stream",
     "text": [
      "(<class '__main__.Nipote'>, <class '__main__.Mamma'>, <class '__main__.Nonna'>, <class '__main__.BisNonna'>, <class 'object'>)\n"
     ]
    }
   ],
   "source": [
    "#con l'attributo __mro__ built-in per ogni classe Python riesco a visualizzare la gerarchia di classi da cui la classe eredita\n",
    "print(Nipote.__mro__)"
   ]
  },
  {
   "cell_type": "code",
   "execution_count": 15,
   "metadata": {
    "id": "yHpwsifdKua2"
   },
   "outputs": [],
   "source": [
    "#Creo un oggetto di tipo Mamma\n",
    "b=Mamma()"
   ]
  },
  {
   "cell_type": "code",
   "execution_count": 16,
   "metadata": {
    "colab": {
     "base_uri": "https://localhost:8080/"
    },
    "id": "q_jN1MysKwvr",
    "outputId": "367fa4a4-6541-4535-ddbb-9d668cea9c8f"
   },
   "outputs": [
    {
     "name": "stdout",
     "output_type": "stream",
     "text": [
      "Stampa Mamma con conflitto\n"
     ]
    }
   ],
   "source": [
    "#Invoco un metodo di Mamma\n",
    "b.metodoConflitto()"
   ]
  },
  {
   "cell_type": "code",
   "execution_count": 18,
   "metadata": {
    "colab": {
     "base_uri": "https://localhost:8080/",
     "height": 203
    },
    "id": "qtj8nzyzJugj",
    "outputId": "9a03bb17-f7a6-4e09-b560-a5da5ab8eea1"
   },
   "outputs": [
    {
     "ename": "NameError",
     "evalue": "ignored",
     "output_type": "error",
     "traceback": [
      "\u001b[0;31m---------------------------------------------------------------------------\u001b[0m",
      "\u001b[0;31mNameError\u001b[0m                                 Traceback (most recent call last)",
      "\u001b[0;32m<ipython-input-18-ba99b6fa9889>\u001b[0m in \u001b[0;36m<module>\u001b[0;34m()\u001b[0m\n\u001b[1;32m      1\u001b[0m \u001b[0;31m#Attenzione, questo comando da errore, in quando l'istanza nonnMaterna di Nonna, non ha il metodo metodoNipote,\u001b[0m\u001b[0;34m\u001b[0m\u001b[0;34m\u001b[0m\u001b[0;34m\u001b[0m\u001b[0m\n\u001b[1;32m      2\u001b[0m \u001b[0;31m#e neppure la classe Bisnonna, da cui nonna eredita, ha il metodo metodoNipote\u001b[0m\u001b[0;34m\u001b[0m\u001b[0;34m\u001b[0m\u001b[0;34m\u001b[0m\u001b[0m\n\u001b[0;32m----> 3\u001b[0;31m \u001b[0mnonnMaterna\u001b[0m\u001b[0;34m.\u001b[0m\u001b[0mmetodoNipote\u001b[0m\u001b[0;34m(\u001b[0m\u001b[0;34m)\u001b[0m\u001b[0;34m\u001b[0m\u001b[0;34m\u001b[0m\u001b[0m\n\u001b[0m",
      "\u001b[0;31mNameError\u001b[0m: name 'nonnMaterna' is not defined"
     ]
    }
   ],
   "source": [
    "#Attenzione, questo comando da errore, in quando l'istanza nonnMaterna di Nonna, non ha il metodo metodoNipote, \n",
    "#e neppure la classe Bisnonna, da cui nonna eredita, ha il metodo metodoNipote\n",
    "nonnMaterna.metodoNipote()"
   ]
  },
  {
   "cell_type": "code",
   "execution_count": 19,
   "metadata": {
    "colab": {
     "base_uri": "https://localhost:8080/"
    },
    "id": "GCwWfvIxH8m6",
    "outputId": "aa700fe0-f397-4bd5-8055-445eb5d2773c"
   },
   "outputs": [
    {
     "name": "stdout",
     "output_type": "stream",
     "text": [
      "Stampa Mamma\n"
     ]
    }
   ],
   "source": [
    "a.metodoMamma()"
   ]
  },
  {
   "cell_type": "code",
   "execution_count": 20,
   "metadata": {
    "colab": {
     "base_uri": "https://localhost:8080/"
    },
    "id": "VCL5s4tyH8rC",
    "outputId": "93def061-83f2-4349-ad4b-506506234d42"
   },
   "outputs": [
    {
     "name": "stdout",
     "output_type": "stream",
     "text": [
      "Stampa Nonna\n"
     ]
    }
   ],
   "source": [
    "a.metodoNonna()"
   ]
  },
  {
   "cell_type": "code",
   "execution_count": 21,
   "metadata": {
    "colab": {
     "base_uri": "https://localhost:8080/"
    },
    "id": "Cc31FIu-IGbh",
    "outputId": "111ddf18-e156-4110-e5e5-e239be008cf5"
   },
   "outputs": [
    {
     "name": "stdout",
     "output_type": "stream",
     "text": [
      "(<class '__main__.Nipote'>, <class '__main__.Mamma'>, <class '__main__.Nonna'>, <class '__main__.BisNonna'>, <class 'object'>)\n"
     ]
    }
   ],
   "source": [
    "print(Nipote.__mro__)"
   ]
  }
 ],
 "metadata": {
  "colab": {
   "collapsed_sections": [],
   "name": "Ereditarietà.ipynb",
   "provenance": []
  },
  "kernelspec": {
   "display_name": "Python 3",
   "language": "python",
   "name": "python3"
  },
  "language_info": {
   "codemirror_mode": {
    "name": "ipython",
    "version": 3
   },
   "file_extension": ".py",
   "mimetype": "text/x-python",
   "name": "python",
   "nbconvert_exporter": "python",
   "pygments_lexer": "ipython3",
   "version": "3.7.6"
  }
 },
 "nbformat": 4,
 "nbformat_minor": 1
}
