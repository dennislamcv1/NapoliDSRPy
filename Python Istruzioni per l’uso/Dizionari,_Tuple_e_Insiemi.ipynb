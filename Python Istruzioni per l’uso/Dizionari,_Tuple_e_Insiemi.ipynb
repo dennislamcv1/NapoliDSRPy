{
 "cells": [
  {
   "cell_type": "markdown",
   "metadata": {},
   "source": [
    "# Laboratorio su tipi di dato Built-in Dizionari, Tuple e Insiemi"
   ]
  },
  {
   "cell_type": "markdown",
   "metadata": {},
   "source": [
    "In questo laboratorio cominceremo con il tipo di dato Dizionario, proseguiremo con le tuple e infine con gli insiemi"
   ]
  },
  {
   "cell_type": "markdown",
   "metadata": {},
   "source": [
    "## Tipo di Dato Built-In: DIZIONARI"
   ]
  },
  {
   "cell_type": "markdown",
   "metadata": {
    "id": "XMVR_e4KYLDj"
   },
   "source": [
    "DIZIONARI\n",
    "\n",
    "Formati da coppie \n",
    "\n",
    "I dizionari sono insiemi di <chiave -  Valore>\n",
    "\n",
    "si può usare la chiave per accedere al valore ---- Valore[chiave]\n",
    "\n",
    "Ovviamente la chiave deve essere unica"
   ]
  },
  {
   "cell_type": "markdown",
   "metadata": {
    "id": "EMopWDXWZfyV"
   },
   "source": [
    "I dizionari sono definiti sintatticamente con le {}\n",
    "\n",
    "Gli elementi del dizionario sono separati da ,\n",
    "\n",
    "Ogni singolo elemento, formato dalla coppia chiave - valore  è composto usando i :\n",
    "\n",
    "\n",
    "\n",
    "\n"
   ]
  },
  {
   "cell_type": "code",
   "execution_count": 1,
   "metadata": {
    "id": "fj35Ir1GYIuc"
   },
   "outputs": [],
   "source": [
    "#Dizionario per i Gironi della Champions\n",
    "#Tutto il dizionario è racchiuso in {}\n",
    "#un elemento del dizionario è separato dall0altro da una virgola\n",
    "#il singolo elemento è formato a coppia - chiave:valore\n",
    "\n",
    "Dizionario_Gironi_Champions={'Inter':'Champions1', 'atalanta':'Champions2', 'Napoli':'Champions3'}\n",
    "\n",
    "#ho usato l '  solo perche erano di tipo stringa, non è obligatorio\n",
    "\n",
    "Dizionario_Posizioni_Classifica={'Inter':1, 'Atalanta':2, 'Napoli':3}\n"
   ]
  },
  {
   "cell_type": "code",
   "execution_count": 2,
   "metadata": {
    "colab": {
     "base_uri": "https://localhost:8080/"
    },
    "id": "z4UPylDwa9FE",
    "outputId": "9a775455-42d0-405e-d8d4-080c0e0015b7"
   },
   "outputs": [
    {
     "data": {
      "text/plain": [
       "{'Inter': 'Champions1', 'atalanta': 'Champions2', 'Napoli': 'Champions3'}"
      ]
     },
     "execution_count": 2,
     "metadata": {},
     "output_type": "execute_result"
    }
   ],
   "source": [
    "Dizionario_Gironi_Champions"
   ]
  },
  {
   "cell_type": "code",
   "execution_count": 3,
   "metadata": {
    "colab": {
     "base_uri": "https://localhost:8080/"
    },
    "id": "j4NL9mSdbEvj",
    "outputId": "342bae1b-8264-43d7-ba61-e9ddc971f123"
   },
   "outputs": [
    {
     "data": {
      "text/plain": [
       "{'Inter': 1, 'Atalanta': 2, 'Napoli': 3}"
      ]
     },
     "execution_count": 3,
     "metadata": {},
     "output_type": "execute_result"
    }
   ],
   "source": [
    "Dizionario_Posizioni_Classifica"
   ]
  },
  {
   "cell_type": "code",
   "execution_count": 4,
   "metadata": {
    "colab": {
     "base_uri": "https://localhost:8080/"
    },
    "id": "ynUUj4f7c0jL",
    "outputId": "e79d42a6-fcd6-4bc5-f131-fd37cb1f9fc4"
   },
   "outputs": [
    {
     "data": {
      "text/plain": [
       "dict"
      ]
     },
     "execution_count": 4,
     "metadata": {},
     "output_type": "execute_result"
    }
   ],
   "source": [
    "type(Dizionario_Posizioni_Classifica)"
   ]
  },
  {
   "cell_type": "code",
   "execution_count": 5,
   "metadata": {
    "id": "I40K_Cnec42s"
   },
   "outputs": [],
   "source": [
    "dizionario_vuoto={}"
   ]
  },
  {
   "cell_type": "markdown",
   "metadata": {
    "id": "3_2281QddM8S"
   },
   "source": [
    "come chiave possiamo usare diversi tipi, generalemnte si usano le stringhe.\n",
    "I tipi usati per la chiave devono essere immutabili\n",
    "\n",
    "Non c'è alcuna limitazione sui valori"
   ]
  },
  {
   "cell_type": "code",
   "execution_count": 6,
   "metadata": {
    "id": "S4wW1AICde5j"
   },
   "outputs": [],
   "source": [
    "#chiave intero\n",
    "#valore stringa\n",
    "diz1={10:\"flora\",20:'gennaro'}\n",
    "\n",
    "#chiave intero   28\n",
    "#valore lista   ['a','b','c']\n",
    "diz2={28:['a','b','c'],23:['d','f','g','h'], 24:[2323,234,243]}\n",
    "\n",
    "#chiave stringa   'a'\n",
    "#valore dizionario {1:'a',2:'b',3:'c'}\n",
    "diz3={'a':{1:'a',2:'b',3:'c'}, 'b':{'w':1,'q':2}}"
   ]
  },
  {
   "cell_type": "code",
   "execution_count": 7,
   "metadata": {
    "colab": {
     "base_uri": "https://localhost:8080/"
    },
    "id": "MwVulNTPedlO",
    "outputId": "7e869476-ab33-452c-ae06-ed0b2e49b11e"
   },
   "outputs": [
    {
     "data": {
      "text/plain": [
       "{10: 'flora', 20: 'gennaro'}"
      ]
     },
     "execution_count": 7,
     "metadata": {},
     "output_type": "execute_result"
    }
   ],
   "source": [
    "diz1\n"
   ]
  },
  {
   "cell_type": "code",
   "execution_count": 8,
   "metadata": {
    "colab": {
     "base_uri": "https://localhost:8080/"
    },
    "id": "IsNLrtb8eiyz",
    "outputId": "957f00c8-a3ba-4361-ffda-5d7179580195"
   },
   "outputs": [
    {
     "data": {
      "text/plain": [
       "{28: ['a', 'b', 'c'], 23: ['d', 'f', 'g', 'h'], 24: [2323, 234, 243]}"
      ]
     },
     "execution_count": 8,
     "metadata": {},
     "output_type": "execute_result"
    }
   ],
   "source": [
    "diz2"
   ]
  },
  {
   "cell_type": "code",
   "execution_count": 9,
   "metadata": {
    "colab": {
     "base_uri": "https://localhost:8080/"
    },
    "id": "kzMtCYdPel6d",
    "outputId": "c81a48c3-0203-4742-bfda-9a95238b6535"
   },
   "outputs": [
    {
     "data": {
      "text/plain": [
       "{'a': {1: 'a', 2: 'b', 3: 'c'}, 'b': {'w': 1, 'q': 2}}"
      ]
     },
     "execution_count": 9,
     "metadata": {},
     "output_type": "execute_result"
    }
   ],
   "source": [
    "diz3"
   ]
  },
  {
   "cell_type": "code",
   "execution_count": 10,
   "metadata": {
    "id": "cqAes4iEepr0"
   },
   "outputs": [],
   "source": [
    "diz4={1:\"lalla\", 'b':\"zione\"}"
   ]
  },
  {
   "cell_type": "code",
   "execution_count": null,
   "metadata": {
    "id": "MjPZD0B4e-Dq"
   },
   "outputs": [],
   "source": []
  },
  {
   "cell_type": "code",
   "execution_count": null,
   "metadata": {
    "id": "jhqc0sRWe8Fj"
   },
   "outputs": [],
   "source": []
  },
  {
   "cell_type": "code",
   "execution_count": null,
   "metadata": {
    "id": "NN-9Id6PfKNj"
   },
   "outputs": [],
   "source": []
  },
  {
   "cell_type": "code",
   "execution_count": 11,
   "metadata": {
    "colab": {
     "base_uri": "https://localhost:8080/"
    },
    "id": "k8aIRYSjewJy",
    "outputId": "54feb5e6-d11a-4946-de30-87be16e51719"
   },
   "outputs": [
    {
     "data": {
      "text/plain": [
       "{1: 'lalla', 'b': 'zione'}"
      ]
     },
     "execution_count": 11,
     "metadata": {},
     "output_type": "execute_result"
    }
   ],
   "source": [
    "diz4"
   ]
  },
  {
   "cell_type": "code",
   "execution_count": 12,
   "metadata": {
    "id": "tRDL66Vue8j6"
   },
   "outputs": [],
   "source": [
    "diz4={1:\"lalla\", 'bladlaldalda':\"zione\"}"
   ]
  },
  {
   "cell_type": "code",
   "execution_count": 13,
   "metadata": {
    "colab": {
     "base_uri": "https://localhost:8080/"
    },
    "id": "iZsS3Z2Te-Zq",
    "outputId": "a3caee92-436b-4eeb-d011-3efe730041b0"
   },
   "outputs": [
    {
     "data": {
      "text/plain": [
       "{1: 'lalla', 'bladlaldalda': 'zione'}"
      ]
     },
     "execution_count": 13,
     "metadata": {},
     "output_type": "execute_result"
    }
   ],
   "source": [
    "diz4"
   ]
  },
  {
   "cell_type": "code",
   "execution_count": 14,
   "metadata": {
    "colab": {
     "base_uri": "https://localhost:8080/"
    },
    "id": "Kdmzc15RfKuS",
    "outputId": "915859cb-ab0a-4706-fdb5-4341ad85b55c"
   },
   "outputs": [
    {
     "data": {
      "text/plain": [
       "True"
      ]
     },
     "execution_count": 14,
     "metadata": {},
     "output_type": "execute_result"
    }
   ],
   "source": [
    "\"ABCDEFGHILMNO\"==\"ABCDEFGHILMNO\""
   ]
  },
  {
   "cell_type": "code",
   "execution_count": 15,
   "metadata": {
    "colab": {
     "base_uri": "https://localhost:8080/"
    },
    "id": "FZ9qqkltfS_S",
    "outputId": "041d2354-9e55-41e6-fbe9-8b41e2740f89"
   },
   "outputs": [
    {
     "data": {
      "text/plain": [
       "True"
      ]
     },
     "execution_count": 15,
     "metadata": {},
     "output_type": "execute_result"
    }
   ],
   "source": [
    "\"ABCDEFGHILMno\"<\"ABCDEFGHIlMNO\""
   ]
  },
  {
   "cell_type": "code",
   "execution_count": 16,
   "metadata": {
    "colab": {
     "base_uri": "https://localhost:8080/",
     "height": 167
    },
    "id": "f5isaz7Rf14C",
    "outputId": "c5755eac-130f-46a2-b570-4cb541def369"
   },
   "outputs": [
    {
     "ename": "TypeError",
     "evalue": "unhashable type: 'list'",
     "output_type": "error",
     "traceback": [
      "\u001b[0;31m---------------------------------------------------------------------------\u001b[0m",
      "\u001b[0;31mTypeError\u001b[0m                                 Traceback (most recent call last)",
      "\u001b[0;32m<ipython-input-16-65134b08d43d>\u001b[0m in \u001b[0;36m<module>\u001b[0;34m\u001b[0m\n\u001b[0;32m----> 1\u001b[0;31m \u001b[0mdiz5\u001b[0m\u001b[0;34m=\u001b[0m\u001b[0;34m{\u001b[0m\u001b[0;34m[\u001b[0m\u001b[0;36m1\u001b[0m\u001b[0;34m,\u001b[0m\u001b[0;36m2\u001b[0m\u001b[0;34m]\u001b[0m\u001b[0;34m:\u001b[0m\u001b[0;34m\"flora\"\u001b[0m\u001b[0;34m,\u001b[0m\u001b[0;34m[\u001b[0m\u001b[0;36m3\u001b[0m\u001b[0;34m,\u001b[0m\u001b[0;36m4\u001b[0m\u001b[0;34m]\u001b[0m\u001b[0;34m:\u001b[0m\u001b[0;34m\"giuseppe\"\u001b[0m\u001b[0;34m}\u001b[0m\u001b[0;34m\u001b[0m\u001b[0;34m\u001b[0m\u001b[0m\n\u001b[0m",
      "\u001b[0;31mTypeError\u001b[0m: unhashable type: 'list'"
     ]
    }
   ],
   "source": [
    "diz5={[1,2]:\"flora\",[3,4]:\"giuseppe\"}"
   ]
  },
  {
   "cell_type": "code",
   "execution_count": null,
   "metadata": {
    "id": "83MQpH7_gFMj"
   },
   "outputs": [],
   "source": [
    "#alle tuple possiamo  associare chiavi del dizionario in quanto le tuple, a differenza delle liste, sono immutabili\n",
    "\n",
    "diz5={(1,2):\"flora\",(3,4):\"giuseppe\"}"
   ]
  },
  {
   "cell_type": "code",
   "execution_count": null,
   "metadata": {
    "colab": {
     "base_uri": "https://localhost:8080/"
    },
    "id": "OUPrHjj-gRjO",
    "outputId": "5b50789f-847f-41d8-c3a7-12d3f33e92f3"
   },
   "outputs": [],
   "source": [
    "diz5"
   ]
  },
  {
   "cell_type": "code",
   "execution_count": null,
   "metadata": {
    "id": "kUmNfNgKgbTn"
   },
   "outputs": [],
   "source": []
  },
  {
   "cell_type": "markdown",
   "metadata": {
    "id": "zl0SlvlpYKcc"
   },
   "source": [
    "Per accedere a un elemento del dizionario si usa la sintassi nome_dizionario[chiave]"
   ]
  },
  {
   "cell_type": "code",
   "execution_count": null,
   "metadata": {
    "colab": {
     "base_uri": "https://localhost:8080/",
     "height": 35
    },
    "id": "NBOWytviglmR",
    "outputId": "f42edb78-ba87-448c-f59f-c30b5fce8d89"
   },
   "outputs": [],
   "source": [
    "#chiave intero\n",
    "#valore stringa\n",
    "diz1={10:\"flora\",20:'gennaro'}\n",
    "\n",
    "diz1[10]\n",
    "\n",
    "\n"
   ]
  },
  {
   "cell_type": "code",
   "execution_count": null,
   "metadata": {
    "colab": {
     "base_uri": "https://localhost:8080/",
     "height": 35
    },
    "id": "OgEDC3Qogzqx",
    "outputId": "08c24b28-8f8f-4ffd-a675-a8952ce513db"
   },
   "outputs": [],
   "source": [
    "diz1[20]"
   ]
  },
  {
   "cell_type": "code",
   "execution_count": null,
   "metadata": {
    "id": "NjRaQ43pg1s0"
   },
   "outputs": [],
   "source": [
    "flora"
   ]
  },
  {
   "cell_type": "code",
   "execution_count": 17,
   "metadata": {
    "colab": {
     "base_uri": "https://localhost:8080/",
     "height": 35
    },
    "id": "RJ2mdUZbg4fz",
    "outputId": "9e9f5060-2e7f-478c-d8ec-77d829a4fa6d"
   },
   "outputs": [
    {
     "data": {
      "text/plain": [
       "'a'"
      ]
     },
     "execution_count": 17,
     "metadata": {},
     "output_type": "execute_result"
    }
   ],
   "source": [
    "#chiave stringa   'a'\n",
    "#valore dizionario {1:'a',2:'b',3:'c'}\n",
    "diz3={'a':{1:'a',2:'b',3:'c'}, 'b':{'w':1,'q':2}}\n",
    "\n",
    "diz3['a'][1]\n",
    "\n"
   ]
  },
  {
   "cell_type": "code",
   "execution_count": 18,
   "metadata": {
    "colab": {
     "base_uri": "https://localhost:8080/"
    },
    "id": "hhmg0iAeiNpN",
    "outputId": "e61f22f4-79df-4432-a33b-bebed5e9cce1"
   },
   "outputs": [
    {
     "data": {
      "text/plain": [
       "{1: 'a', 2: 'b', 3: 'c'}"
      ]
     },
     "execution_count": 18,
     "metadata": {},
     "output_type": "execute_result"
    }
   ],
   "source": [
    "variabile=diz3['a']\n",
    "variabile"
   ]
  },
  {
   "cell_type": "code",
   "execution_count": 19,
   "metadata": {
    "colab": {
     "base_uri": "https://localhost:8080/",
     "height": 35
    },
    "id": "Cbufn1RThRiU",
    "outputId": "1bd4ff24-8a52-4504-b59c-10c5da7a7815"
   },
   "outputs": [
    {
     "data": {
      "text/plain": [
       "'a'"
      ]
     },
     "execution_count": 19,
     "metadata": {},
     "output_type": "execute_result"
    }
   ],
   "source": [
    "variabile[1]"
   ]
  },
  {
   "cell_type": "code",
   "execution_count": 20,
   "metadata": {
    "colab": {
     "base_uri": "https://localhost:8080/",
     "height": 167
    },
    "id": "PVQ649aphdLG",
    "outputId": "768ba6e6-e8f4-4965-b19f-740b87114c25"
   },
   "outputs": [
    {
     "ename": "KeyError",
     "evalue": "123123123123",
     "output_type": "error",
     "traceback": [
      "\u001b[0;31m---------------------------------------------------------------------------\u001b[0m",
      "\u001b[0;31mKeyError\u001b[0m                                  Traceback (most recent call last)",
      "\u001b[0;32m<ipython-input-20-40ad6fb8b6e6>\u001b[0m in \u001b[0;36m<module>\u001b[0;34m\u001b[0m\n\u001b[0;32m----> 1\u001b[0;31m \u001b[0mvariabile\u001b[0m\u001b[0;34m[\u001b[0m\u001b[0;36m123123123123\u001b[0m\u001b[0;34m]\u001b[0m\u001b[0;34m\u001b[0m\u001b[0;34m\u001b[0m\u001b[0m\n\u001b[0m",
      "\u001b[0;31mKeyError\u001b[0m: 123123123123"
     ]
    }
   ],
   "source": [
    "variabile[123123123123]"
   ]
  },
  {
   "cell_type": "code",
   "execution_count": null,
   "metadata": {
    "colab": {
     "base_uri": "https://localhost:8080/"
    },
    "id": "Wlmokn5eicFT",
    "outputId": "1121de83-64af-4bfa-feb6-4113e8f5ad78"
   },
   "outputs": [],
   "source": [
    "#in\n",
    "#not in\n",
    "diz2"
   ]
  },
  {
   "cell_type": "code",
   "execution_count": null,
   "metadata": {
    "id": "Xn3T9KzZi17U"
   },
   "outputs": [],
   "source": []
  },
  {
   "cell_type": "code",
   "execution_count": null,
   "metadata": {
    "colab": {
     "base_uri": "https://localhost:8080/",
     "height": 167
    },
    "id": "MxIMf-LaiwU7",
    "outputId": "53903a89-a8ce-4165-a802-6d8c59832921"
   },
   "outputs": [],
   "source": [
    "diz2[3]"
   ]
  },
  {
   "cell_type": "code",
   "execution_count": 21,
   "metadata": {
    "colab": {
     "base_uri": "https://localhost:8080/"
    },
    "id": "CFh5vWIli2Xj",
    "outputId": "7bccc1be-8e52-4a4a-ffb6-5399f35bd6dd"
   },
   "outputs": [
    {
     "data": {
      "text/plain": [
       "False"
      ]
     },
     "execution_count": 21,
     "metadata": {},
     "output_type": "execute_result"
    }
   ],
   "source": [
    "3 in diz2"
   ]
  },
  {
   "cell_type": "code",
   "execution_count": 22,
   "metadata": {
    "colab": {
     "base_uri": "https://localhost:8080/"
    },
    "id": "kwwuC4rfi7tk",
    "outputId": "cd2aef54-fb41-4e25-dd9d-e09a5d72c914"
   },
   "outputs": [
    {
     "data": {
      "text/plain": [
       "False"
      ]
     },
     "execution_count": 22,
     "metadata": {},
     "output_type": "execute_result"
    }
   ],
   "source": [
    "2 in diz2"
   ]
  },
  {
   "cell_type": "code",
   "execution_count": 23,
   "metadata": {
    "colab": {
     "base_uri": "https://localhost:8080/"
    },
    "id": "Aa7iipsFi_sE",
    "outputId": "17a4b3e7-3890-4984-f065-9cca0faa5071"
   },
   "outputs": [
    {
     "data": {
      "text/plain": [
       "True"
      ]
     },
     "execution_count": 23,
     "metadata": {},
     "output_type": "execute_result"
    }
   ],
   "source": [
    "28 in diz2"
   ]
  },
  {
   "cell_type": "code",
   "execution_count": 24,
   "metadata": {
    "colab": {
     "base_uri": "https://localhost:8080/"
    },
    "id": "pI7yJGVRjM_H",
    "outputId": "0e267318-87fd-4354-a134-6bd8f2e7a851"
   },
   "outputs": [
    {
     "data": {
      "text/plain": [
       "{28: ['a', 'b', 'c'], 23: ['d', 'f', 'g', 'h'], 24: [2323, 234, 243]}"
      ]
     },
     "execution_count": 24,
     "metadata": {},
     "output_type": "execute_result"
    }
   ],
   "source": [
    "diz2"
   ]
  },
  {
   "cell_type": "code",
   "execution_count": 25,
   "metadata": {
    "colab": {
     "base_uri": "https://localhost:8080/"
    },
    "id": "SORdPZ4Oo-VH",
    "outputId": "8d4ebd79-52b1-4289-c0c3-9a9b0d79441a"
   },
   "outputs": [
    {
     "name": "stdout",
     "output_type": "stream",
     "text": [
      "23 : ['d', 'f', 'g', 'h']\n",
      "24 : [2323, 234, 243]\n",
      "28 : ['a', 'b', 'c']\n"
     ]
    }
   ],
   "source": [
    "diz={23: ['d', 'f', 'g', 'h'], 24: [2323, 234, 243], 28: ['a', 'b', 'c']}\n",
    "for x in diz:\n",
    "  print(x,\":\",diz[x])"
   ]
  },
  {
   "cell_type": "code",
   "execution_count": 26,
   "metadata": {
    "id": "vG3w6Y5FjOKV"
   },
   "outputs": [],
   "source": [
    "#modifico un elemento esistente\n",
    "\n",
    "diz2[28]=[1,2,3,5,6,7,8,9]"
   ]
  },
  {
   "cell_type": "code",
   "execution_count": 27,
   "metadata": {
    "colab": {
     "base_uri": "https://localhost:8080/"
    },
    "id": "87ZEjKBWjSmV",
    "outputId": "9c4defd2-28e7-4fd4-f0e9-0f7089ab705f"
   },
   "outputs": [
    {
     "data": {
      "text/plain": [
       "{28: [1, 2, 3, 5, 6, 7, 8, 9], 23: ['d', 'f', 'g', 'h'], 24: [2323, 234, 243]}"
      ]
     },
     "execution_count": 27,
     "metadata": {},
     "output_type": "execute_result"
    }
   ],
   "source": [
    "diz2"
   ]
  },
  {
   "cell_type": "code",
   "execution_count": 28,
   "metadata": {
    "id": "Jn7Bk3Leja-9"
   },
   "outputs": [],
   "source": [
    "#aggiungo un elemento nuovo\n",
    "#inserendo una nuova chiave non presente prima\n",
    "\n",
    "diz2[33]=[1,2,3]"
   ]
  },
  {
   "cell_type": "code",
   "execution_count": 29,
   "metadata": {
    "colab": {
     "base_uri": "https://localhost:8080/"
    },
    "id": "qCQGSq77jmwj",
    "outputId": "904e6943-481e-4f5f-a48a-f98fe59aa797"
   },
   "outputs": [
    {
     "data": {
      "text/plain": [
       "{28: [1, 2, 3, 5, 6, 7, 8, 9],\n",
       " 23: ['d', 'f', 'g', 'h'],\n",
       " 24: [2323, 234, 243],\n",
       " 33: [1, 2, 3]}"
      ]
     },
     "execution_count": 29,
     "metadata": {},
     "output_type": "execute_result"
    }
   ],
   "source": [
    "diz2"
   ]
  },
  {
   "cell_type": "code",
   "execution_count": 30,
   "metadata": {
    "id": "EGnMNc0qjq2-"
   },
   "outputs": [],
   "source": [
    "#eliminare un elemento nel dizionario\n",
    "\n",
    "del diz2[33]"
   ]
  },
  {
   "cell_type": "code",
   "execution_count": 31,
   "metadata": {
    "colab": {
     "base_uri": "https://localhost:8080/"
    },
    "id": "vaxsoBwTjwpU",
    "outputId": "8a4a760f-a253-4175-da16-d968a2c3a947"
   },
   "outputs": [
    {
     "data": {
      "text/plain": [
       "{28: [1, 2, 3, 5, 6, 7, 8, 9], 23: ['d', 'f', 'g', 'h'], 24: [2323, 234, 243]}"
      ]
     },
     "execution_count": 31,
     "metadata": {},
     "output_type": "execute_result"
    }
   ],
   "source": [
    "diz2"
   ]
  },
  {
   "cell_type": "markdown",
   "metadata": {},
   "source": [
    "## Tipo di Dato Built-In: TUPLE"
   ]
  },
  {
   "cell_type": "markdown",
   "metadata": {
    "id": "lM9pBvfIj3Wo"
   },
   "source": [
    "TUPLE\n",
    "\n",
    "Le tuple sono collezioni di oggetti\n",
    "\n",
    "Le tuple sono tipi di dato IMMUTABILI \n",
    "non è possibile cambiare il loro valore, aggiungere...\n",
    "\n",
    "le tuple utilizzano il costrutto sintattico delle ()\n",
    "\n",
    "essendo immutabili non è possibile modificarne i valori\n",
    "\n",
    "a dfferenza delle liste, che usano il construttro sintattico delle[] e possono essere modificate\n",
    "\n",
    "\n",
    "Gli elementi delle tuple sono accessibili tramite indice, numerico\n",
    "\n",
    "partendo da 0\n"
   ]
  },
  {
   "cell_type": "code",
   "execution_count": 32,
   "metadata": {
    "id": "nFq2L6nqkaPH"
   },
   "outputs": [],
   "source": [
    "tupla1=('Flora', 'Michele', \"Christian\",33,123,123123123123,343434,34343)"
   ]
  },
  {
   "cell_type": "code",
   "execution_count": 33,
   "metadata": {
    "id": "LrgtLTH8ko6b"
   },
   "outputs": [],
   "source": [
    "tupla_vuota=()\n"
   ]
  },
  {
   "cell_type": "code",
   "execution_count": 34,
   "metadata": {
    "colab": {
     "base_uri": "https://localhost:8080/"
    },
    "id": "kIqrWgO2kxeh",
    "outputId": "081beb11-c9c9-4154-dbde-e3527c628c38"
   },
   "outputs": [
    {
     "name": "stdout",
     "output_type": "stream",
     "text": [
      "(1,)\n"
     ]
    }
   ],
   "source": [
    "#è possibile definire tuple di un solo valore, singleton, ma dobbiamo fare attenzione in quanto \n",
    "#le ( ) sono usate anche in altre occasioni (es casting)  e quindi si usa la , alla fine\n",
    "tupla_singleton=(1,)\n",
    "print(tupla_singleton)"
   ]
  },
  {
   "cell_type": "code",
   "execution_count": 35,
   "metadata": {
    "colab": {
     "base_uri": "https://localhost:8080/"
    },
    "id": "uXUjVd_slRbt",
    "outputId": "3fb32de9-f0be-412e-a674-991baa0eba0d"
   },
   "outputs": [
    {
     "data": {
      "text/plain": [
       "('Flora', 'Michele', 'Christian', 33, 123, 123123123123, 343434, 34343)"
      ]
     },
     "execution_count": 35,
     "metadata": {},
     "output_type": "execute_result"
    }
   ],
   "source": [
    "tupla1"
   ]
  },
  {
   "cell_type": "code",
   "execution_count": 36,
   "metadata": {
    "colab": {
     "base_uri": "https://localhost:8080/"
    },
    "id": "qEsTOidzlTPB",
    "outputId": "8f9629db-726e-4ac9-bb73-e371d5aa3367"
   },
   "outputs": [
    {
     "data": {
      "text/plain": [
       "123"
      ]
     },
     "execution_count": 36,
     "metadata": {},
     "output_type": "execute_result"
    }
   ],
   "source": [
    "#per accedere ad un elemento di una tupla utilizziamo le []\n",
    "tupla1[4]"
   ]
  },
  {
   "cell_type": "code",
   "execution_count": 37,
   "metadata": {
    "colab": {
     "base_uri": "https://localhost:8080/"
    },
    "id": "Mok2DBX_leMj",
    "outputId": "b0e99f55-ee0e-46ed-cfd8-626a2396bb38"
   },
   "outputs": [
    {
     "data": {
      "text/plain": [
       "('Christian', 33, 123)"
      ]
     },
     "execution_count": 37,
     "metadata": {},
     "output_type": "execute_result"
    }
   ],
   "source": [
    "#per accedere ad intervalli si utilizza a:b che consente di selezionare dall'elemento di posto a fino all'elemento di posto b-1\n",
    "tupla1[2:5]"
   ]
  },
  {
   "cell_type": "code",
   "execution_count": 38,
   "metadata": {
    "colab": {
     "base_uri": "https://localhost:8080/"
    },
    "id": "gRUV2MM5lupD",
    "outputId": "485e953f-b530-448c-cff3-468ee46958ca"
   },
   "outputs": [
    {
     "data": {
      "text/plain": [
       "('Flora', 'Michele', 'Christian', 33)"
      ]
     },
     "execution_count": 38,
     "metadata": {},
     "output_type": "execute_result"
    }
   ],
   "source": [
    "tupla1[:4]"
   ]
  },
  {
   "cell_type": "code",
   "execution_count": 39,
   "metadata": {
    "colab": {
     "base_uri": "https://localhost:8080/"
    },
    "id": "SRW9lMPJlxJO",
    "outputId": "459f0c5a-0585-47c2-d04d-acfb610bfd03"
   },
   "outputs": [
    {
     "data": {
      "text/plain": [
       "(123, 123123123123, 343434, 34343)"
      ]
     },
     "execution_count": 39,
     "metadata": {},
     "output_type": "execute_result"
    }
   ],
   "source": [
    "#omettiamo il secondo estremo, quello superiore, in questo caso otteniamo tutti i valori fino all'ultimo\n",
    "tupla1[4:] "
   ]
  },
  {
   "cell_type": "code",
   "execution_count": 40,
   "metadata": {
    "colab": {
     "base_uri": "https://localhost:8080/"
    },
    "id": "ZmVc7IGEl8z-",
    "outputId": "451d000f-ee27-48b2-89ed-2f7912800428"
   },
   "outputs": [
    {
     "data": {
      "text/plain": [
       "34343"
      ]
     },
     "execution_count": 40,
     "metadata": {},
     "output_type": "execute_result"
    }
   ],
   "source": [
    "# -1 è utilizzato per selezionare l'ultimo elememento (per convenzione)\n",
    "tupla1[-1]"
   ]
  },
  {
   "cell_type": "code",
   "execution_count": 41,
   "metadata": {
    "colab": {
     "base_uri": "https://localhost:8080/"
    },
    "id": "M1M0IhPBl0jO",
    "outputId": "3c330f0b-e245-4b78-d5a3-78b51dce92d6"
   },
   "outputs": [
    {
     "data": {
      "text/plain": [
       "(123, 123123123123, 343434)"
      ]
     },
     "execution_count": 41,
     "metadata": {},
     "output_type": "execute_result"
    }
   ],
   "source": [
    "#seleziono intervallo tra 4 e l'ultimo valore, poichè ho indicato l'ultimo valore come estremo superiore e questi non viene selezioanto in genere\n",
    "#allora abbiamo in uscita fino al penultimo valore\n",
    "tupla1[4:-1] "
   ]
  },
  {
   "cell_type": "markdown",
   "metadata": {
    "id": "m-dXxqMpmY6l"
   },
   "source": [
    "\n",
    "\n",
    "TIPO IMMUTABILE, NON POSSIAMO MODIFICARE I SINGOLI VALORI MA..\n",
    "Possiamo usare le tuple come operatori delle operazioni di\n",
    "concatenazione\n",
    "eliminazione DELLA TUPLA INTERA NON CERTO DEI SUOI SINGOLI ELEMENTI!\n",
    "ripetizione TUPLA*4\n",
    "vedere quanti elementi ci sono nella tupla  : len\n",
    "controllare se un elementno è presente nella tupla"
   ]
  },
  {
   "cell_type": "code",
   "execution_count": 42,
   "metadata": {
    "colab": {
     "base_uri": "https://localhost:8080/"
    },
    "id": "2PtDhzxBmRPR",
    "outputId": "179a8e00-4fb6-4d08-809a-8858c60941c2"
   },
   "outputs": [
    {
     "data": {
      "text/plain": [
       "('Flora',\n",
       " 'Michele',\n",
       " 'Christian',\n",
       " 33,\n",
       " 123,\n",
       " 123123123123,\n",
       " 343434,\n",
       " 34343,\n",
       " 'ieri',\n",
       " 'oggi',\n",
       " 'domani')"
      ]
     },
     "execution_count": 42,
     "metadata": {},
     "output_type": "execute_result"
    }
   ],
   "source": [
    "tupla2=('ieri','oggi','domani')\n",
    "\n",
    "tupla3=tupla1+tupla2\n",
    "tupla3"
   ]
  },
  {
   "cell_type": "code",
   "execution_count": 43,
   "metadata": {
    "id": "9BsGUKwUmxH9"
   },
   "outputs": [],
   "source": [
    "del tupla2"
   ]
  },
  {
   "cell_type": "code",
   "execution_count": 44,
   "metadata": {
    "colab": {
     "base_uri": "https://localhost:8080/",
     "height": 167
    },
    "id": "fOVw_CYymzTm",
    "outputId": "b26f2a14-0f68-4ab5-919c-be5229f5dde6"
   },
   "outputs": [
    {
     "ename": "NameError",
     "evalue": "name 'tupla2' is not defined",
     "output_type": "error",
     "traceback": [
      "\u001b[0;31m---------------------------------------------------------------------------\u001b[0m",
      "\u001b[0;31mNameError\u001b[0m                                 Traceback (most recent call last)",
      "\u001b[0;32m<ipython-input-44-35b70972e591>\u001b[0m in \u001b[0;36m<module>\u001b[0;34m\u001b[0m\n\u001b[0;32m----> 1\u001b[0;31m \u001b[0mtupla2\u001b[0m\u001b[0;34m\u001b[0m\u001b[0;34m\u001b[0m\u001b[0m\n\u001b[0m",
      "\u001b[0;31mNameError\u001b[0m: name 'tupla2' is not defined"
     ]
    }
   ],
   "source": [
    "tupla2\n"
   ]
  },
  {
   "cell_type": "code",
   "execution_count": null,
   "metadata": {
    "colab": {
     "base_uri": "https://localhost:8080/"
    },
    "id": "ODvDSntKm3mq",
    "outputId": "6c2a6fb6-3ce3-434e-b2f0-b287cd192400"
   },
   "outputs": [],
   "source": [
    "tupla1*4"
   ]
  },
  {
   "cell_type": "code",
   "execution_count": null,
   "metadata": {
    "colab": {
     "base_uri": "https://localhost:8080/"
    },
    "id": "xbq2W2TQnbMs",
    "outputId": "8ca3fd76-b09f-4b1e-c7ca-98c9408bc830"
   },
   "outputs": [],
   "source": [
    "'Flora' in tupla1"
   ]
  },
  {
   "cell_type": "code",
   "execution_count": null,
   "metadata": {
    "colab": {
     "base_uri": "https://localhost:8080/"
    },
    "id": "oVVwMRc8ntgV",
    "outputId": "1f4d8403-0120-4be6-e134-d5b6f0e6f8c8"
   },
   "outputs": [],
   "source": [
    "for x in tupla1:\n",
    "  print(x)"
   ]
  },
  {
   "cell_type": "code",
   "execution_count": null,
   "metadata": {
    "colab": {
     "base_uri": "https://localhost:8080/"
    },
    "id": "vvLLDbcLpQBe",
    "outputId": "c8c6e019-508e-4223-8a92-dc0b641c6778"
   },
   "outputs": [],
   "source": [
    "len(tupla1)"
   ]
  },
  {
   "cell_type": "code",
   "execution_count": null,
   "metadata": {
    "colab": {
     "base_uri": "https://localhost:8080/"
    },
    "id": "5CPwA3rMpUO3",
    "outputId": "21e841d1-6b28-492a-ee25-498d8c8d116b"
   },
   "outputs": [],
   "source": [
    "min(tupla1,tupla3)"
   ]
  },
  {
   "cell_type": "code",
   "execution_count": 45,
   "metadata": {
    "colab": {
     "base_uri": "https://localhost:8080/"
    },
    "id": "xY9EQbXPpi4m",
    "outputId": "dc814159-7a86-49c1-c51f-f7ac47dccdc6"
   },
   "outputs": [
    {
     "data": {
      "text/plain": [
       "('Flora',\n",
       " 'Michele',\n",
       " 'Christian',\n",
       " 33,\n",
       " 123,\n",
       " 123123123123,\n",
       " 343434,\n",
       " 34343,\n",
       " 'ieri',\n",
       " 'oggi',\n",
       " 'domani')"
      ]
     },
     "execution_count": 45,
     "metadata": {},
     "output_type": "execute_result"
    }
   ],
   "source": [
    "max(tupla1,tupla3)"
   ]
  },
  {
   "cell_type": "code",
   "execution_count": 46,
   "metadata": {
    "id": "WveCQurYpnKt"
   },
   "outputs": [],
   "source": [
    "L=list(tupla1)"
   ]
  },
  {
   "cell_type": "code",
   "execution_count": 47,
   "metadata": {
    "colab": {
     "base_uri": "https://localhost:8080/"
    },
    "id": "37bbKXyZpxfG",
    "outputId": "11c9417c-62b1-4bb5-d3b7-e4c60cea1904"
   },
   "outputs": [
    {
     "data": {
      "text/plain": [
       "['Flora', 'Michele', 'Christian', 33, 123, 123123123123, 343434, 34343]"
      ]
     },
     "execution_count": 47,
     "metadata": {},
     "output_type": "execute_result"
    }
   ],
   "source": [
    "L"
   ]
  },
  {
   "cell_type": "code",
   "execution_count": 48,
   "metadata": {
    "colab": {
     "base_uri": "https://localhost:8080/"
    },
    "id": "PV17SYtQp0i0",
    "outputId": "f423fce1-83e8-4816-eab1-8db742621e97"
   },
   "outputs": [
    {
     "data": {
      "text/plain": [
       "('Flora', 'Michele', 'Christian', 33, 123, 123123123123, 343434, 34343)"
      ]
     },
     "execution_count": 48,
     "metadata": {},
     "output_type": "execute_result"
    }
   ],
   "source": [
    "tuple(L)"
   ]
  },
  {
   "cell_type": "markdown",
   "metadata": {},
   "source": [
    "## Tipo di Dato Built-In: INSIEMI"
   ]
  },
  {
   "cell_type": "markdown",
   "metadata": {
    "id": "o2ftGrjwv2gT"
   },
   "source": [
    "#SET\n",
    "Sintaticcamente si utilizzano le {}\n",
    "Collezione di elementi non ordinati \n",
    "non ammette duplicati \n",
    "\n",
    "Set sono strutture datu MUTABILI è possibile modificarli\n",
    "sono NON ORDINATE, gli elementi del set non hanno un indice\n",
    "\n",
    "Non possiamo accedere ad elementi del set utilizzando gli indici\n",
    "\n",
    "permete di utilizzare funzioni insiemistiche unione itnersezone\n",
    "\n",
    "Gli elementi possono essere eterogenei (non necessariamente dello stesso tipo)\n",
    "\n",
    "\n",
    "non possiamo definire un set di elementi mutabili come le liste o i dizionari "
   ]
  },
  {
   "cell_type": "code",
   "execution_count": 49,
   "metadata": {
    "id": "pJrdLCYIwogW"
   },
   "outputs": [],
   "source": [
    "insieme={1,23}"
   ]
  },
  {
   "cell_type": "code",
   "execution_count": 50,
   "metadata": {
    "colab": {
     "base_uri": "https://localhost:8080/"
    },
    "id": "WkJ8XaK0w-m0",
    "outputId": "aa430eb0-2464-42c1-855a-76369e71a625"
   },
   "outputs": [
    {
     "data": {
      "text/plain": [
       "{1, 23}"
      ]
     },
     "execution_count": 50,
     "metadata": {},
     "output_type": "execute_result"
    }
   ],
   "source": [
    "insieme"
   ]
  },
  {
   "cell_type": "code",
   "execution_count": 51,
   "metadata": {
    "colab": {
     "base_uri": "https://localhost:8080/"
    },
    "id": "98dtzVMIxAoW",
    "outputId": "f89cd33e-e688-4813-9f67-0f3bbca5cc6a"
   },
   "outputs": [
    {
     "data": {
      "text/plain": [
       "{(1, 2, 3), 1, 1.234234324, 'Ciao Ciao'}"
      ]
     },
     "execution_count": 51,
     "metadata": {},
     "output_type": "execute_result"
    }
   ],
   "source": [
    "insiemeb={1.234234324,1,\"Ciao Ciao\", (1,2,3)}\n",
    "insiemeb"
   ]
  },
  {
   "cell_type": "code",
   "execution_count": 52,
   "metadata": {
    "colab": {
     "base_uri": "https://localhost:8080/",
     "height": 167
    },
    "id": "B6ceD2SzxKTj",
    "outputId": "404fcb39-c7a3-43a0-8884-7987e5d3dec1"
   },
   "outputs": [
    {
     "ename": "TypeError",
     "evalue": "unhashable type: 'list'",
     "output_type": "error",
     "traceback": [
      "\u001b[0;31m---------------------------------------------------------------------------\u001b[0m",
      "\u001b[0;31mTypeError\u001b[0m                                 Traceback (most recent call last)",
      "\u001b[0;32m<ipython-input-52-d3324b3455af>\u001b[0m in \u001b[0;36m<module>\u001b[0;34m\u001b[0m\n\u001b[0;32m----> 1\u001b[0;31m \u001b[0minsiemec\u001b[0m\u001b[0;34m=\u001b[0m\u001b[0;34m{\u001b[0m\u001b[0;36m1.234234324\u001b[0m\u001b[0;34m,\u001b[0m\u001b[0;36m1\u001b[0m\u001b[0;34m,\u001b[0m\u001b[0;34m\"Ciao Ciao\"\u001b[0m\u001b[0;34m,\u001b[0m \u001b[0;34m(\u001b[0m\u001b[0;36m1\u001b[0m\u001b[0;34m,\u001b[0m\u001b[0;36m2\u001b[0m\u001b[0;34m,\u001b[0m\u001b[0;36m3\u001b[0m\u001b[0;34m)\u001b[0m\u001b[0;34m,\u001b[0m\u001b[0;34m[\u001b[0m\u001b[0;36m123\u001b[0m\u001b[0;34m,\u001b[0m\u001b[0;36m123\u001b[0m\u001b[0;34m,\u001b[0m\u001b[0;36m111\u001b[0m\u001b[0;34m,\u001b[0m\u001b[0;36m123\u001b[0m\u001b[0;34m,\u001b[0m\u001b[0;36m4\u001b[0m\u001b[0;34m,\u001b[0m\u001b[0;36m5\u001b[0m\u001b[0;34m,\u001b[0m\u001b[0;36m6\u001b[0m\u001b[0;34m]\u001b[0m\u001b[0;34m}\u001b[0m\u001b[0;34m\u001b[0m\u001b[0;34m\u001b[0m\u001b[0m\n\u001b[0m",
      "\u001b[0;31mTypeError\u001b[0m: unhashable type: 'list'"
     ]
    }
   ],
   "source": [
    "insiemec={1.234234324,1,\"Ciao Ciao\", (1,2,3),[123,123,111,123,4,5,6]}"
   ]
  },
  {
   "cell_type": "code",
   "execution_count": null,
   "metadata": {
    "colab": {
     "base_uri": "https://localhost:8080/",
     "height": 167
    },
    "id": "WMHKqxZyxgsq",
    "outputId": "7ded6f94-36e8-4c4f-f77c-59df3c8d2929"
   },
   "outputs": [],
   "source": [
    "insiemed={1.234234324,1,\"Ciao Ciao\", (1,2,3),set([123,123,111,123,4,5,6])}"
   ]
  },
  {
   "cell_type": "code",
   "execution_count": null,
   "metadata": {
    "id": "wLeNVuWixuRD"
   },
   "outputs": [],
   "source": [
    "#possiamo costruire un insieme a partire dagli elementi di una struttura dati mutabile, facendo un cast\n",
    "insiemef=set([123,123,111,123,4,5,6])"
   ]
  },
  {
   "cell_type": "code",
   "execution_count": null,
   "metadata": {
    "colab": {
     "base_uri": "https://localhost:8080/"
    },
    "id": "zMeoAbJexy-D",
    "outputId": "f285ed6c-507e-4403-bbd8-d7d270044c97"
   },
   "outputs": [],
   "source": [
    "insiemef"
   ]
  },
  {
   "cell_type": "code",
   "execution_count": null,
   "metadata": {
    "id": "Nej5ptsOyCOE"
   },
   "outputs": [],
   "source": [
    "insieme_vuoto={}"
   ]
  },
  {
   "cell_type": "code",
   "execution_count": null,
   "metadata": {
    "colab": {
     "base_uri": "https://localhost:8080/"
    },
    "id": "OVZj9b0myLne",
    "outputId": "428c0f3c-14a0-4600-e0a1-006cdb164f6c"
   },
   "outputs": [],
   "source": [
    "type(insieme_vuoto)"
   ]
  },
  {
   "cell_type": "code",
   "execution_count": null,
   "metadata": {
    "id": "G-YgezA_yTf-"
   },
   "outputs": [],
   "source": [
    "a=set()"
   ]
  },
  {
   "cell_type": "code",
   "execution_count": null,
   "metadata": {
    "colab": {
     "base_uri": "https://localhost:8080/"
    },
    "id": "d0lFhC81yX6m",
    "outputId": "55246ce7-5e44-4d90-a82f-aebd3c3c98df"
   },
   "outputs": [],
   "source": [
    "type(a)"
   ]
  },
  {
   "cell_type": "code",
   "execution_count": null,
   "metadata": {
    "colab": {
     "base_uri": "https://localhost:8080/"
    },
    "id": "KX7FV2CYyc5X",
    "outputId": "9b4a8cb8-b2a7-4732-d0c8-a00a9d7edcfc"
   },
   "outputs": [],
   "source": [
    "a"
   ]
  },
  {
   "cell_type": "code",
   "execution_count": null,
   "metadata": {
    "id": "TZPed-sdyxWx"
   },
   "outputs": [],
   "source": [
    "#per inserire un elemento nel set utilizzaiamo le funzioni che applichiamo all'oggetto set (vedremo meglio dopo la lez sul paradigma di programmazione ad oggetti)"
   ]
  },
  {
   "cell_type": "code",
   "execution_count": null,
   "metadata": {
    "colab": {
     "base_uri": "https://localhost:8080/"
    },
    "id": "fF4HQP4Zy873",
    "outputId": "f3c0e712-9180-453d-db42-f599076a16b4"
   },
   "outputs": [],
   "source": [
    "insiemef.add(2)\n",
    "insiemef"
   ]
  },
  {
   "cell_type": "code",
   "execution_count": null,
   "metadata": {
    "colab": {
     "base_uri": "https://localhost:8080/",
     "height": 184
    },
    "id": "UscuXpXGzLt-",
    "outputId": "debf3443-1241-4113-ff3e-d8e52fbda554"
   },
   "outputs": [],
   "source": [
    "insiemef.update({2})\n",
    "insiemef"
   ]
  },
  {
   "cell_type": "code",
   "execution_count": null,
   "metadata": {
    "colab": {
     "base_uri": "https://localhost:8080/"
    },
    "id": "B2h362Y8zl4Q",
    "outputId": "55df98d2-ebe4-4e07-d7ff-9b516e32c3be"
   },
   "outputs": [],
   "source": [
    "insiemef.update({2,40,50,60})\n",
    "insiemef"
   ]
  },
  {
   "cell_type": "code",
   "execution_count": 53,
   "metadata": {
    "colab": {
     "base_uri": "https://localhost:8080/"
    },
    "id": "2BiDQS6CzsiN",
    "outputId": "a29d217b-03b5-4530-ee59-c6e0def47763"
   },
   "outputs": [
    {
     "ename": "NameError",
     "evalue": "name 'insiemef' is not defined",
     "output_type": "error",
     "traceback": [
      "\u001b[0;31m---------------------------------------------------------------------------\u001b[0m",
      "\u001b[0;31mNameError\u001b[0m                                 Traceback (most recent call last)",
      "\u001b[0;32m<ipython-input-53-78d947d1d7ca>\u001b[0m in \u001b[0;36m<module>\u001b[0;34m\u001b[0m\n\u001b[0;32m----> 1\u001b[0;31m \u001b[0minsiemef\u001b[0m\u001b[0;34m.\u001b[0m\u001b[0mupdate\u001b[0m\u001b[0;34m(\u001b[0m\u001b[0;34m[\u001b[0m\u001b[0;36m100\u001b[0m\u001b[0;34m,\u001b[0m\u001b[0;36m200\u001b[0m\u001b[0;34m,\u001b[0m\u001b[0;36m300\u001b[0m\u001b[0;34m,\u001b[0m\u001b[0;36m4000\u001b[0m\u001b[0;34m]\u001b[0m\u001b[0;34m)\u001b[0m\u001b[0;34m\u001b[0m\u001b[0;34m\u001b[0m\u001b[0m\n\u001b[0m\u001b[1;32m      2\u001b[0m \u001b[0minsiemef\u001b[0m\u001b[0;34m\u001b[0m\u001b[0;34m\u001b[0m\u001b[0m\n",
      "\u001b[0;31mNameError\u001b[0m: name 'insiemef' is not defined"
     ]
    }
   ],
   "source": [
    "insiemef.update([100,200,300,4000])\n",
    "insiemef"
   ]
  },
  {
   "cell_type": "code",
   "execution_count": null,
   "metadata": {
    "colab": {
     "base_uri": "https://localhost:8080/",
     "height": 184
    },
    "id": "cSoG257qz790",
    "outputId": "764a57de-d156-4dd5-9970-f6dd35dd48c8"
   },
   "outputs": [],
   "source": [
    "insiemef.remove(6)\n"
   ]
  },
  {
   "cell_type": "code",
   "execution_count": null,
   "metadata": {
    "colab": {
     "base_uri": "https://localhost:8080/"
    },
    "id": "Zn0MYlnq0Cmy",
    "outputId": "205ea7aa-04b0-4336-bbec-988b854e3b24"
   },
   "outputs": [],
   "source": [
    "insiemef"
   ]
  },
  {
   "cell_type": "code",
   "execution_count": null,
   "metadata": {
    "colab": {
     "base_uri": "https://localhost:8080/",
     "height": 167
    },
    "id": "6y2obtjY0FM0",
    "outputId": "70ef0bc0-19ff-4e24-d0a7-8a64a9d0b60a"
   },
   "outputs": [],
   "source": [
    "insiemef.remove(50)"
   ]
  },
  {
   "cell_type": "code",
   "execution_count": null,
   "metadata": {
    "colab": {
     "base_uri": "https://localhost:8080/"
    },
    "id": "h04yHaAZ0IRM",
    "outputId": "3e0403bb-1555-4c6b-ed5f-e11f8d711072"
   },
   "outputs": [],
   "source": [
    "insiemef"
   ]
  },
  {
   "cell_type": "code",
   "execution_count": null,
   "metadata": {
    "id": "0rk4uGDX0xzy"
   },
   "outputs": [],
   "source": [
    "insiemef"
   ]
  },
  {
   "cell_type": "code",
   "execution_count": null,
   "metadata": {
    "id": "2nwaNHHc0Tmd"
   },
   "outputs": [],
   "source": [
    "insiemef.discard(60)"
   ]
  },
  {
   "cell_type": "code",
   "execution_count": null,
   "metadata": {
    "colab": {
     "base_uri": "https://localhost:8080/"
    },
    "id": "I14oViBe0YLz",
    "outputId": "07466b89-6cef-4348-b03c-9eed13b86d84"
   },
   "outputs": [],
   "source": [
    "insiemef"
   ]
  },
  {
   "cell_type": "code",
   "execution_count": null,
   "metadata": {
    "id": "ye0OthNR0gj2"
   },
   "outputs": [],
   "source": [
    "variabile=insiemef.pop()"
   ]
  },
  {
   "cell_type": "code",
   "execution_count": null,
   "metadata": {
    "colab": {
     "base_uri": "https://localhost:8080/"
    },
    "id": "JZ_e8TDF0t5j",
    "outputId": "7d9a0f0c-6d61-472c-9d2c-b66d7446f67d"
   },
   "outputs": [],
   "source": [
    "variabile"
   ]
  },
  {
   "cell_type": "markdown",
   "metadata": {
    "id": "rYXDjC7w1LBc"
   },
   "source": [
    "##Operazioni Insiemistiche"
   ]
  },
  {
   "cell_type": "code",
   "execution_count": null,
   "metadata": {
    "colab": {
     "base_uri": "https://localhost:8080/"
    },
    "id": "IvC7UsNZ0yvE",
    "outputId": "1833cdb6-ebf5-406d-8e8b-3d379066e258"
   },
   "outputs": [],
   "source": [
    "insiemef"
   ]
  },
  {
   "cell_type": "code",
   "execution_count": null,
   "metadata": {
    "id": "fcR9It3L00Ah"
   },
   "outputs": [],
   "source": [
    "insiemeg={0,1,2,3,4}"
   ]
  },
  {
   "cell_type": "markdown",
   "metadata": {
    "id": "xHmQw6vy1Pql"
   },
   "source": [
    "###Unione"
   ]
  },
  {
   "cell_type": "code",
   "execution_count": null,
   "metadata": {
    "id": "USpwMuZm0_AS"
   },
   "outputs": [],
   "source": [
    "insiemeRisultato=insiemef|insiemeg"
   ]
  },
  {
   "cell_type": "code",
   "execution_count": null,
   "metadata": {
    "colab": {
     "base_uri": "https://localhost:8080/"
    },
    "id": "vbrlWgeX1Gvj",
    "outputId": "a6cea127-7982-4c61-eb0c-2ce1656abd85"
   },
   "outputs": [],
   "source": [
    "insiemeRisultato"
   ]
  },
  {
   "cell_type": "markdown",
   "metadata": {
    "id": "VNiiEOfh1Reb"
   },
   "source": [
    "### Intersezione"
   ]
  },
  {
   "cell_type": "code",
   "execution_count": null,
   "metadata": {
    "id": "8xxBABDY1TF-"
   },
   "outputs": [],
   "source": [
    "insiemeRisultato=insiemef&insiemeg"
   ]
  },
  {
   "cell_type": "code",
   "execution_count": 54,
   "metadata": {
    "colab": {
     "base_uri": "https://localhost:8080/"
    },
    "id": "xebtAFcn1XNz",
    "outputId": "bd0dda37-1c14-4e7c-906f-e5494412b936"
   },
   "outputs": [
    {
     "ename": "NameError",
     "evalue": "name 'insiemeRisultato' is not defined",
     "output_type": "error",
     "traceback": [
      "\u001b[0;31m---------------------------------------------------------------------------\u001b[0m",
      "\u001b[0;31mNameError\u001b[0m                                 Traceback (most recent call last)",
      "\u001b[0;32m<ipython-input-54-672a47244d3e>\u001b[0m in \u001b[0;36m<module>\u001b[0;34m\u001b[0m\n\u001b[0;32m----> 1\u001b[0;31m \u001b[0minsiemeRisultato\u001b[0m\u001b[0;34m\u001b[0m\u001b[0;34m\u001b[0m\u001b[0m\n\u001b[0m",
      "\u001b[0;31mNameError\u001b[0m: name 'insiemeRisultato' is not defined"
     ]
    }
   ],
   "source": [
    "insiemeRisultato"
   ]
  },
  {
   "cell_type": "markdown",
   "metadata": {
    "id": "_NJeqpRr1awU"
   },
   "source": [
    "###Differenza\n",
    "Elimina dal primo operando tutti gli elementi che compaiono nel secondo operando\n",
    "\n",
    "attenzione non restituisce gli elementi non in comune tra i due, quindi non restituisce il complemento dell'intersezione\n",
    "bensì restituisce gli elementi del primo a cui sono stati sottratti tutti gli elementi dell secondo"
   ]
  },
  {
   "cell_type": "code",
   "execution_count": null,
   "metadata": {
    "id": "bk29N0I61c5d"
   },
   "outputs": [],
   "source": [
    "insiemeRisultato=insiemef-insiemeg"
   ]
  },
  {
   "cell_type": "code",
   "execution_count": null,
   "metadata": {
    "colab": {
     "base_uri": "https://localhost:8080/"
    },
    "id": "2qhjo2xf1fqk",
    "outputId": "6577b391-0544-4d1d-9926-1752e7069065"
   },
   "outputs": [],
   "source": [
    "insiemeRisultato"
   ]
  },
  {
   "cell_type": "markdown",
   "metadata": {
    "id": "ezxWZzkh19n4"
   },
   "source": [
    "### Xor tra insiemi, ovvero Complemento dell'intersezione\n",
    "Restituisce tutti e soli gli elementi, presi una sola volta, che non sono in comune tra i due insiemi operando"
   ]
  },
  {
   "cell_type": "code",
   "execution_count": null,
   "metadata": {
    "colab": {
     "base_uri": "https://localhost:8080/"
    },
    "id": "gjBjK5A419JM",
    "outputId": "73a21623-300a-40d3-9c7f-b1b9d5c62c58"
   },
   "outputs": [],
   "source": [
    "insiemeRisultato=insiemef^insiemeg\n",
    "insiemeRisultato"
   ]
  }
 ],
 "metadata": {
  "colab": {
   "collapsed_sections": [],
   "name": "Dizionari, Tuple e Insiemi.ipynb",
   "provenance": []
  },
  "kernelspec": {
   "display_name": "Python 3",
   "language": "python",
   "name": "python3"
  },
  "language_info": {
   "codemirror_mode": {
    "name": "ipython",
    "version": 3
   },
   "file_extension": ".py",
   "mimetype": "text/x-python",
   "name": "python",
   "nbconvert_exporter": "python",
   "pygments_lexer": "ipython3",
   "version": "3.7.6"
  }
 },
 "nbformat": 4,
 "nbformat_minor": 1
}
