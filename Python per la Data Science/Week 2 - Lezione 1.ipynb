{
 "cells": [
  {
   "cell_type": "markdown",
   "metadata": {
    "id": "6hQ7xoDpT3PV"
   },
   "source": [
    "# Cos'è scikit-learn?\n",
    "\n",
    "Scikit-learn (acronimo costruito a partire dalle parole **sci**entific tool**kit**) è uno dei package Python più famosi per la realizzazione di script basati su algoritmi di machine learning. Le principali ragioni legate alla sua diffisione sono nella sua elevata compatibilità con NumPy e Pandas, e alla sua facilità d'uso.\n",
    "\n",
    "Sebbene scikit-learn metta a disposizione differenti algoritmi di machine learning, in questa lezione ci focalizzeremo solo sulle Reti Neurali Artificiali FeedForward e sugli strumenti messi a disposizione per valutarne le prestazioni.\n",
    "\n",
    "Scikit-learn non ha prerequisiti, se non Python stesso. Tutti i laboratori presenti nel corso avranno già una versione di Scikit-learn installata. La guida ufficiale completa è reperibile sul [sito ufficiale](https://scikit-learn.org/stable/). Si noti inoltre che le funzionalità e la sintassi dei comandi possono variare tra le varie release. Questo documento fa riferimento alla versione `0.22.2`."
   ]
  },
  {
   "cell_type": "markdown",
   "metadata": {
    "id": "dPQzGaOfVF3o"
   },
   "source": [
    "# Come usare scikit-learn"
   ]
  },
  {
   "cell_type": "code",
   "execution_count": 1,
   "metadata": {
    "colab": {
     "base_uri": "https://localhost:8080/",
     "height": 35
    },
    "executionInfo": {
     "elapsed": 851,
     "status": "ok",
     "timestamp": 1609363735566,
     "user": {
      "displayName": "Stefano Marrone",
      "photoUrl": "https://lh3.googleusercontent.com/a-/AOh14Gj7UYQUq4o1dqiJKQAfAybDDzcHqi0EhyshODI0Bg=s64",
      "userId": "07649195604695653363"
     },
     "user_tz": -60
    },
    "id": "6fdCrLDmFVO3",
    "outputId": "8145aea5-60bf-485a-d0c8-cb536e30642e"
   },
   "outputs": [
    {
     "data": {
      "text/plain": [
       "'0.22.2.post1'"
      ]
     },
     "execution_count": 1,
     "metadata": {},
     "output_type": "execute_result"
    }
   ],
   "source": [
    "import sklearn          #sklearn è il namespace usato da scikit-learn\n",
    "sklearn.__version__     "
   ]
  },
  {
   "cell_type": "markdown",
   "metadata": {
    "id": "2DgoDhPyVgBD"
   },
   "source": [
    "Noterete che, a differenza di quanto fatto nelle altre lezioni, questa volta non associamo nessun alias all'import di scikit-learn. La motivazione risiede nel fatto che il namespace base funge da contenitore per tutti i metodi necessari, raggruppati per funzionalità."
   ]
  },
  {
   "cell_type": "markdown",
   "metadata": {
    "id": "KH_fWcYdVoqb"
   },
   "source": [
    "# Importare e manipolare i dati\n",
    "\n",
    "Come detto all'inizio della lezione, scikit-learn è pensato per operare con NumPy e Pandas. Nel caso delle reti neurali artificiali feed-forward, probabilmente il modo più intuitivo per importare i dati è tramite l'uso dei Dataframe di Pandas. Difatti, la struttura tabellare ben si presta allo scopo, con le righe utilizzate per memorizzare le diverse istanze e le colonne le diverse features.\n"
   ]
  },
  {
   "cell_type": "code",
   "execution_count": 2,
   "metadata": {
    "colab": {
     "base_uri": "https://localhost:8080/",
     "height": 203
    },
    "executionInfo": {
     "elapsed": 1558,
     "status": "ok",
     "timestamp": 1609363736280,
     "user": {
      "displayName": "Stefano Marrone",
      "photoUrl": "https://lh3.googleusercontent.com/a-/AOh14Gj7UYQUq4o1dqiJKQAfAybDDzcHqi0EhyshODI0Bg=s64",
      "userId": "07649195604695653363"
     },
     "user_tz": -60
    },
    "id": "Jv-n0-ASG9nG",
    "outputId": "f49a7ff7-6952-417f-c47b-32471365bb65"
   },
   "outputs": [
    {
     "data": {
      "text/html": [
       "<div>\n",
       "<style scoped>\n",
       "    .dataframe tbody tr th:only-of-type {\n",
       "        vertical-align: middle;\n",
       "    }\n",
       "\n",
       "    .dataframe tbody tr th {\n",
       "        vertical-align: top;\n",
       "    }\n",
       "\n",
       "    .dataframe thead th {\n",
       "        text-align: right;\n",
       "    }\n",
       "</style>\n",
       "<table border=\"1\" class=\"dataframe\">\n",
       "  <thead>\n",
       "    <tr style=\"text-align: right;\">\n",
       "      <th></th>\n",
       "      <th>Lunghezza Sepalo</th>\n",
       "      <th>Larghezza Sepalo</th>\n",
       "      <th>Lunghezza Petalo</th>\n",
       "      <th>Larghezza Petalo</th>\n",
       "      <th>Specie</th>\n",
       "    </tr>\n",
       "  </thead>\n",
       "  <tbody>\n",
       "    <tr>\n",
       "      <th>0</th>\n",
       "      <td>5.1</td>\n",
       "      <td>3.5</td>\n",
       "      <td>1.4</td>\n",
       "      <td>0.2</td>\n",
       "      <td>Iris-setosa</td>\n",
       "    </tr>\n",
       "    <tr>\n",
       "      <th>1</th>\n",
       "      <td>4.9</td>\n",
       "      <td>3.0</td>\n",
       "      <td>1.4</td>\n",
       "      <td>0.2</td>\n",
       "      <td>Iris-setosa</td>\n",
       "    </tr>\n",
       "    <tr>\n",
       "      <th>2</th>\n",
       "      <td>4.7</td>\n",
       "      <td>3.2</td>\n",
       "      <td>1.3</td>\n",
       "      <td>0.2</td>\n",
       "      <td>Iris-setosa</td>\n",
       "    </tr>\n",
       "    <tr>\n",
       "      <th>3</th>\n",
       "      <td>4.6</td>\n",
       "      <td>3.1</td>\n",
       "      <td>1.5</td>\n",
       "      <td>0.2</td>\n",
       "      <td>Iris-setosa</td>\n",
       "    </tr>\n",
       "    <tr>\n",
       "      <th>4</th>\n",
       "      <td>5.0</td>\n",
       "      <td>3.6</td>\n",
       "      <td>1.4</td>\n",
       "      <td>0.2</td>\n",
       "      <td>Iris-setosa</td>\n",
       "    </tr>\n",
       "  </tbody>\n",
       "</table>\n",
       "</div>"
      ],
      "text/plain": [
       "   Lunghezza Sepalo  Larghezza Sepalo  Lunghezza Petalo  Larghezza Petalo  \\\n",
       "0               5.1               3.5               1.4               0.2   \n",
       "1               4.9               3.0               1.4               0.2   \n",
       "2               4.7               3.2               1.3               0.2   \n",
       "3               4.6               3.1               1.5               0.2   \n",
       "4               5.0               3.6               1.4               0.2   \n",
       "\n",
       "        Specie  \n",
       "0  Iris-setosa  \n",
       "1  Iris-setosa  \n",
       "2  Iris-setosa  \n",
       "3  Iris-setosa  \n",
       "4  Iris-setosa  "
      ]
     },
     "execution_count": 2,
     "metadata": {},
     "output_type": "execute_result"
    }
   ],
   "source": [
    "import pandas as pd\n",
    "\n",
    "#Url del file csv da caricare\n",
    "url = \"https://archive.ics.uci.edu/ml/machine-learning-databases/iris/iris.data\"    #\"UC Irvine Machine Learning Repository\" è una famosa collezione di dataset pubblici per il machine learning\n",
    "\n",
    "#Lettura del dataset\n",
    "irisPandas = pd.read_csv(url, names=['Lunghezza Sepalo', 'Larghezza Sepalo', 'Lunghezza Petalo', 'Larghezza Petalo', 'Specie'])\n",
    "irisPandas.head()"
   ]
  },
  {
   "cell_type": "markdown",
   "metadata": {
    "id": "7gyKEn1K6pCp"
   },
   "source": [
    "Nell'esempio abbiamo caricato un dataset in formato `.csv` scaricandolo direttamente da una repository internet. \n",
    "\n",
    "Tuttavia, scikit-learn prevede una serie di dataset già pronti all'uso, facilmente importabili dal namespace `sklearn.datasets`"
   ]
  },
  {
   "cell_type": "code",
   "execution_count": 3,
   "metadata": {
    "colab": {
     "base_uri": "https://localhost:8080/"
    },
    "executionInfo": {
     "elapsed": 1553,
     "status": "ok",
     "timestamp": 1609363736281,
     "user": {
      "displayName": "Stefano Marrone",
      "photoUrl": "https://lh3.googleusercontent.com/a-/AOh14Gj7UYQUq4o1dqiJKQAfAybDDzcHqi0EhyshODI0Bg=s64",
      "userId": "07649195604695653363"
     },
     "user_tz": -60
    },
    "id": "-ygK_cC18Dja",
    "outputId": "9e695ec0-a693-4e3b-ead7-560d2a556c76"
   },
   "outputs": [
    {
     "name": "stdout",
     "output_type": "stream",
     "text": [
      "dict_keys(['data', 'target', 'target_names', 'DESCR', 'feature_names', 'filename'])\n",
      "[[5.1 3.5 1.4 0.2]\n",
      " [4.9 3.  1.4 0.2]\n",
      " [4.7 3.2 1.3 0.2]\n",
      " [4.6 3.1 1.5 0.2]\n",
      " [5.  3.6 1.4 0.2]\n",
      " [5.4 3.9 1.7 0.4]\n",
      " [4.6 3.4 1.4 0.3]\n",
      " [5.  3.4 1.5 0.2]\n",
      " [4.4 2.9 1.4 0.2]\n",
      " [4.9 3.1 1.5 0.1]\n",
      " [5.4 3.7 1.5 0.2]\n",
      " [4.8 3.4 1.6 0.2]\n",
      " [4.8 3.  1.4 0.1]\n",
      " [4.3 3.  1.1 0.1]\n",
      " [5.8 4.  1.2 0.2]\n",
      " [5.7 4.4 1.5 0.4]\n",
      " [5.4 3.9 1.3 0.4]\n",
      " [5.1 3.5 1.4 0.3]\n",
      " [5.7 3.8 1.7 0.3]\n",
      " [5.1 3.8 1.5 0.3]\n",
      " [5.4 3.4 1.7 0.2]\n",
      " [5.1 3.7 1.5 0.4]\n",
      " [4.6 3.6 1.  0.2]\n",
      " [5.1 3.3 1.7 0.5]\n",
      " [4.8 3.4 1.9 0.2]\n",
      " [5.  3.  1.6 0.2]\n",
      " [5.  3.4 1.6 0.4]\n",
      " [5.2 3.5 1.5 0.2]\n",
      " [5.2 3.4 1.4 0.2]\n",
      " [4.7 3.2 1.6 0.2]\n",
      " [4.8 3.1 1.6 0.2]\n",
      " [5.4 3.4 1.5 0.4]\n",
      " [5.2 4.1 1.5 0.1]\n",
      " [5.5 4.2 1.4 0.2]\n",
      " [4.9 3.1 1.5 0.2]\n",
      " [5.  3.2 1.2 0.2]\n",
      " [5.5 3.5 1.3 0.2]\n",
      " [4.9 3.6 1.4 0.1]\n",
      " [4.4 3.  1.3 0.2]\n",
      " [5.1 3.4 1.5 0.2]\n",
      " [5.  3.5 1.3 0.3]\n",
      " [4.5 2.3 1.3 0.3]\n",
      " [4.4 3.2 1.3 0.2]\n",
      " [5.  3.5 1.6 0.6]\n",
      " [5.1 3.8 1.9 0.4]\n",
      " [4.8 3.  1.4 0.3]\n",
      " [5.1 3.8 1.6 0.2]\n",
      " [4.6 3.2 1.4 0.2]\n",
      " [5.3 3.7 1.5 0.2]\n",
      " [5.  3.3 1.4 0.2]\n",
      " [7.  3.2 4.7 1.4]\n",
      " [6.4 3.2 4.5 1.5]\n",
      " [6.9 3.1 4.9 1.5]\n",
      " [5.5 2.3 4.  1.3]\n",
      " [6.5 2.8 4.6 1.5]\n",
      " [5.7 2.8 4.5 1.3]\n",
      " [6.3 3.3 4.7 1.6]\n",
      " [4.9 2.4 3.3 1. ]\n",
      " [6.6 2.9 4.6 1.3]\n",
      " [5.2 2.7 3.9 1.4]\n",
      " [5.  2.  3.5 1. ]\n",
      " [5.9 3.  4.2 1.5]\n",
      " [6.  2.2 4.  1. ]\n",
      " [6.1 2.9 4.7 1.4]\n",
      " [5.6 2.9 3.6 1.3]\n",
      " [6.7 3.1 4.4 1.4]\n",
      " [5.6 3.  4.5 1.5]\n",
      " [5.8 2.7 4.1 1. ]\n",
      " [6.2 2.2 4.5 1.5]\n",
      " [5.6 2.5 3.9 1.1]\n",
      " [5.9 3.2 4.8 1.8]\n",
      " [6.1 2.8 4.  1.3]\n",
      " [6.3 2.5 4.9 1.5]\n",
      " [6.1 2.8 4.7 1.2]\n",
      " [6.4 2.9 4.3 1.3]\n",
      " [6.6 3.  4.4 1.4]\n",
      " [6.8 2.8 4.8 1.4]\n",
      " [6.7 3.  5.  1.7]\n",
      " [6.  2.9 4.5 1.5]\n",
      " [5.7 2.6 3.5 1. ]\n",
      " [5.5 2.4 3.8 1.1]\n",
      " [5.5 2.4 3.7 1. ]\n",
      " [5.8 2.7 3.9 1.2]\n",
      " [6.  2.7 5.1 1.6]\n",
      " [5.4 3.  4.5 1.5]\n",
      " [6.  3.4 4.5 1.6]\n",
      " [6.7 3.1 4.7 1.5]\n",
      " [6.3 2.3 4.4 1.3]\n",
      " [5.6 3.  4.1 1.3]\n",
      " [5.5 2.5 4.  1.3]\n",
      " [5.5 2.6 4.4 1.2]\n",
      " [6.1 3.  4.6 1.4]\n",
      " [5.8 2.6 4.  1.2]\n",
      " [5.  2.3 3.3 1. ]\n",
      " [5.6 2.7 4.2 1.3]\n",
      " [5.7 3.  4.2 1.2]\n",
      " [5.7 2.9 4.2 1.3]\n",
      " [6.2 2.9 4.3 1.3]\n",
      " [5.1 2.5 3.  1.1]\n",
      " [5.7 2.8 4.1 1.3]\n",
      " [6.3 3.3 6.  2.5]\n",
      " [5.8 2.7 5.1 1.9]\n",
      " [7.1 3.  5.9 2.1]\n",
      " [6.3 2.9 5.6 1.8]\n",
      " [6.5 3.  5.8 2.2]\n",
      " [7.6 3.  6.6 2.1]\n",
      " [4.9 2.5 4.5 1.7]\n",
      " [7.3 2.9 6.3 1.8]\n",
      " [6.7 2.5 5.8 1.8]\n",
      " [7.2 3.6 6.1 2.5]\n",
      " [6.5 3.2 5.1 2. ]\n",
      " [6.4 2.7 5.3 1.9]\n",
      " [6.8 3.  5.5 2.1]\n",
      " [5.7 2.5 5.  2. ]\n",
      " [5.8 2.8 5.1 2.4]\n",
      " [6.4 3.2 5.3 2.3]\n",
      " [6.5 3.  5.5 1.8]\n",
      " [7.7 3.8 6.7 2.2]\n",
      " [7.7 2.6 6.9 2.3]\n",
      " [6.  2.2 5.  1.5]\n",
      " [6.9 3.2 5.7 2.3]\n",
      " [5.6 2.8 4.9 2. ]\n",
      " [7.7 2.8 6.7 2. ]\n",
      " [6.3 2.7 4.9 1.8]\n",
      " [6.7 3.3 5.7 2.1]\n",
      " [7.2 3.2 6.  1.8]\n",
      " [6.2 2.8 4.8 1.8]\n",
      " [6.1 3.  4.9 1.8]\n",
      " [6.4 2.8 5.6 2.1]\n",
      " [7.2 3.  5.8 1.6]\n",
      " [7.4 2.8 6.1 1.9]\n",
      " [7.9 3.8 6.4 2. ]\n",
      " [6.4 2.8 5.6 2.2]\n",
      " [6.3 2.8 5.1 1.5]\n",
      " [6.1 2.6 5.6 1.4]\n",
      " [7.7 3.  6.1 2.3]\n",
      " [6.3 3.4 5.6 2.4]\n",
      " [6.4 3.1 5.5 1.8]\n",
      " [6.  3.  4.8 1.8]\n",
      " [6.9 3.1 5.4 2.1]\n",
      " [6.7 3.1 5.6 2.4]\n",
      " [6.9 3.1 5.1 2.3]\n",
      " [5.8 2.7 5.1 1.9]\n",
      " [6.8 3.2 5.9 2.3]\n",
      " [6.7 3.3 5.7 2.5]\n",
      " [6.7 3.  5.2 2.3]\n",
      " [6.3 2.5 5.  1.9]\n",
      " [6.5 3.  5.2 2. ]\n",
      " [6.2 3.4 5.4 2.3]\n",
      " [5.9 3.  5.1 1.8]]\n",
      "[0 0 0 0 0 0 0 0 0 0 0 0 0 0 0 0 0 0 0 0 0 0 0 0 0 0 0 0 0 0 0 0 0 0 0 0 0\n",
      " 0 0 0 0 0 0 0 0 0 0 0 0 0 1 1 1 1 1 1 1 1 1 1 1 1 1 1 1 1 1 1 1 1 1 1 1 1\n",
      " 1 1 1 1 1 1 1 1 1 1 1 1 1 1 1 1 1 1 1 1 1 1 1 1 1 1 2 2 2 2 2 2 2 2 2 2 2\n",
      " 2 2 2 2 2 2 2 2 2 2 2 2 2 2 2 2 2 2 2 2 2 2 2 2 2 2 2 2 2 2 2 2 2 2 2 2 2\n",
      " 2 2]\n",
      "['sepal length (cm)', 'sepal width (cm)', 'petal length (cm)', 'petal width (cm)']\n",
      "['setosa' 'versicolor' 'virginica']\n"
     ]
    }
   ],
   "source": [
    "from sklearn.datasets import load_iris\n",
    "\n",
    "irisScikit = load_iris()   \n",
    "print(irisScikit.keys())\n",
    "\n",
    "print(irisScikit.data)\n",
    "print(irisScikit['target'])\n",
    "print(irisScikit.feature_names)\n",
    "print(irisScikit.target_names)"
   ]
  },
  {
   "cell_type": "markdown",
   "metadata": {
    "id": "V0U9m90LXg1p"
   },
   "source": [
    "In questo caso, il metodo `load_iris()` restituisce un oggetto di `tipo sklearn.utilis.bunch`, un contenitore i cui elementi sono accessibili sia tramite dot notation sia tramite riferimento esplicito (con `['nome campo']`). L'elenco dei campi disponibili si può ottenere tramite il metodo `keys()`.\n",
    "\n",
    "Esistono anche altri modi per importare i dati, come ad esempi usare NDarrays o il package [seaborn](https://seaborn.pydata.org/). \n"
   ]
  },
  {
   "cell_type": "markdown",
   "metadata": {
    "id": "zFmUcepXZF7f"
   },
   "source": [
    "## Manipolazione dei dati\n",
    "\n",
    "Tra i numerosi modelli di machine learning disponibili, in questa lezione ci focalizzeremo sulle Reti Neurali Artificiali (ANN, dall'inglese Artificial Neural Networks) di tipo feedforward. \n",
    "\n",
    "Le ANN sono molto versatili. Tuttavia, il loro corretto funzionamento richiede che i dati siano in una \"forma\" adatta. Per questo motivo, è spesso necessario manipolare i dati prima di procedere con l'addestramento di una ANN.\n"
   ]
  },
  {
   "cell_type": "markdown",
   "metadata": {
    "id": "1xT9GgskDYF4"
   },
   "source": [
    "### Trasformare la classe\n",
    "\n",
    "Avrete notato che una delle differenze esistenti tra il dataset caricato con Pandas (`irisPandas`) e quello caricato usando le funzionalità di scikit-learn (`irisScikit`) è che il primo presenta le classi in forma \"enumerativa\" (o categorica), mentre il secondo in forma numerica, formato che meglio si presta all'uso con ANN.\n",
    "\n",
    "Dato che, tranne per scopi didattici, la maggior parte delle volte i dati sono caricati usando packages esterni (come Pandas), scikit-learn mette a disposizione delle funzionalità per la conversione dei valori della colonna associata alla classe. "
   ]
  },
  {
   "cell_type": "code",
   "execution_count": 4,
   "metadata": {
    "colab": {
     "base_uri": "https://localhost:8080/"
    },
    "executionInfo": {
     "elapsed": 1548,
     "status": "ok",
     "timestamp": 1609363736282,
     "user": {
      "displayName": "Stefano Marrone",
      "photoUrl": "https://lh3.googleusercontent.com/a-/AOh14Gj7UYQUq4o1dqiJKQAfAybDDzcHqi0EhyshODI0Bg=s64",
      "userId": "07649195604695653363"
     },
     "user_tz": -60
    },
    "id": "rU41MRqGIESq",
    "outputId": "8886116d-45af-45f4-9a8e-a8aa42310453"
   },
   "outputs": [
    {
     "name": "stdout",
     "output_type": "stream",
     "text": [
      "['Iris-setosa' 'Iris-versicolor' 'Iris-virginica']\n",
      "[0 1 2]\n"
     ]
    }
   ],
   "source": [
    "from sklearn import preprocessing\n",
    "labEnc = preprocessing.LabelEncoder()\n",
    "\n",
    "irisPandasTrasformato = irisPandas.apply(labEnc.fit_transform)\n",
    "\n",
    "#Visualizzazione delle classi presenti prima e dopo la trasformazione\n",
    "print(irisPandas.Specie.unique())\n",
    "print(irisPandasTrasformato.Specie.unique())"
   ]
  },
  {
   "cell_type": "markdown",
   "metadata": {
    "id": "O0YdPl9CI5Zr"
   },
   "source": [
    "Dopo l'uso dell'encoder, le tre classi categoriche sono state trasformate in altrettanti valori numerici. Si noti che il *label encoder* è solo uno dei vari modi in cui è possibile trasformare la colonna della classe. "
   ]
  },
  {
   "cell_type": "markdown",
   "metadata": {
    "id": "CxDTSJZjJSZs"
   },
   "source": [
    "### Divisione in Train, Validation, Test\n",
    "\n",
    "Gli algoritmi appartenenti alla famiglia dell'*apprendimento supervisionato* prevedono l'uso di dati su cui addestrare i modelli di classificazione e regressione. Dato che quello a cui si è interessati è generare modelli che si comportino bene su dati reali (e non sui dati di usati per l'addestramento) è buona norma dividere il dataset di partenza in tre gruppi:\n",
    "\n",
    "*   **Training Set**, usato per addestrare il modello\n",
    "*   **Validation Set**, usato per il tuning dei parametri del modello\n",
    "*   **Test Set**, usato per calcolare una stima dell'*errore di generalizzazione*\n",
    "\n",
    "Scikit-learn mette a disposizione dei metodi per eseguire questa divisione all'interno del namespace `model_selection`. Supponendo di voler dividere il dataset iniziale in tre sotto dataset, con proporzioni rispettivamenete del 60%, 20% e 20%, è possibile procedere come segue"
   ]
  },
  {
   "cell_type": "code",
   "execution_count": 5,
   "metadata": {
    "executionInfo": {
     "elapsed": 1544,
     "status": "ok",
     "timestamp": 1609363736283,
     "user": {
      "displayName": "Stefano Marrone",
      "photoUrl": "https://lh3.googleusercontent.com/a-/AOh14Gj7UYQUq4o1dqiJKQAfAybDDzcHqi0EhyshODI0Bg=s64",
      "userId": "07649195604695653363"
     },
     "user_tz": -60
    },
    "id": "IJLi1-QCyJLl"
   },
   "outputs": [],
   "source": [
    "from sklearn.model_selection import train_test_split\n",
    "\n",
    "dati = irisPandasTrasformato.drop('Specie',axis=1)\n",
    "classi = irisPandasTrasformato['Specie']\n",
    "\n",
    "dataTrain, dataTest, classiTrain, classiTest = train_test_split(dati, classi, test_size = 0.20)\n",
    "dataTrain, dataValidation, classiTrain, classiValidation = train_test_split(dataTrain, classiTrain, test_size = 0.25)"
   ]
  },
  {
   "cell_type": "markdown",
   "metadata": {
    "id": "_DRUaT4NyJXK"
   },
   "source": [
    "La procedura mostrata prende il nome di hold-out. Si noti che il metodo `train_test_split` permette la divisione solo in due parti (la prima nota come train e la seconda come test), e accetta come parametro la dimensione percentuale che dovrà avere il secondo dataset. Dato che noi vogliamo una divisione in tre porzioni, dobbiamo ripetere l'operazione sul primo dataset, ottenendo cosi anche il validation set. In particolare, dato che il dataset usato come input in questa seconda operazione contiene l'80% dei campioni del dataset di partenza, volendo noi ottenere un validation avente il 20% dei campioni originali, dobbiamo usare come valore di split 0.25 (infatti 80% * 0.25 = 20%). \n",
    "\n",
    "Una tecnica più avanzata è la cross-validation. Anche in questo caso, scikit-learn mette a disposizione delle funzionalità per lo scopo."
   ]
  },
  {
   "cell_type": "markdown",
   "metadata": {
    "id": "T1XKwQesKAfM"
   },
   "source": [
    "### Scaling delle features\n",
    "\n",
    "Il processo di apprendimento delle ANN si basa sul calcolo dei gradienti e sul loro uso per la modifica dei pesi dei neuroni. Il calcolo dei gradienti è influenzato dal range di valori nei quali ogni feature è rappresentato. Per tale ragione, è opportuno effettuare una normalizzazione o uno scaling dei dati prima di procedere all'addestramento.\n",
    "\n",
    "I metodi messi a disposizione a tal scopo da scikit-learn sono contenuti nel namespace `preprocessing`"
   ]
  },
  {
   "cell_type": "code",
   "execution_count": 6,
   "metadata": {
    "executionInfo": {
     "elapsed": 1541,
     "status": "ok",
     "timestamp": 1609363736284,
     "user": {
      "displayName": "Stefano Marrone",
      "photoUrl": "https://lh3.googleusercontent.com/a-/AOh14Gj7UYQUq4o1dqiJKQAfAybDDzcHqi0EhyshODI0Bg=s64",
      "userId": "07649195604695653363"
     },
     "user_tz": -60
    },
    "id": "QRsCflo7I8IV"
   },
   "outputs": [],
   "source": [
    "from sklearn.preprocessing import StandardScaler\n",
    "scaler = StandardScaler()\n",
    "scaler.fit(dataTrain)\n",
    "\n",
    "dataTrainScalato = scaler.transform(dataTrain)\n",
    "dataTestScalato = scaler.transform(dataTest)\n",
    "dataValidationScalato = scaler.transform(dataValidation)"
   ]
  },
  {
   "cell_type": "markdown",
   "metadata": {
    "id": "lZnO9zCeJSK0"
   },
   "source": [
    "Lo scaler utilizzato deve calcolare i valori di riferimento (media e varianza nel caso dello StandardScaler) con cui effettuare la trasformazione. Come detto in precedenza, quello che si desidera è avere un modello che si comporti bene sui dati reali (qui rappresentati dal dataset di test). Per tale ragione, è importante calcolare tali valori **SOLO** sul dataset di train (con la funzione `fit`) per poi applicarli (tramite la funzione `transform`) su tutti e tre i datasets."
   ]
  },
  {
   "cell_type": "code",
   "execution_count": 7,
   "metadata": {
    "executionInfo": {
     "elapsed": 1539,
     "status": "ok",
     "timestamp": 1609363736285,
     "user": {
      "displayName": "Stefano Marrone",
      "photoUrl": "https://lh3.googleusercontent.com/a-/AOh14Gj7UYQUq4o1dqiJKQAfAybDDzcHqi0EhyshODI0Bg=s64",
      "userId": "07649195604695653363"
     },
     "user_tz": -60
    },
    "id": "apAyRQ1LJSO1"
   },
   "outputs": [],
   "source": [
    "#TASK: Visualizza i valori scalati in questo modo e quelli che otterresti effettuando\n",
    "# il fit dello scaler sull'intero dataset (la variabile dati) e non solo sulla porzione di training. \n",
    "#Che differenze ci sono? Perchè?\n"
   ]
  },
  {
   "cell_type": "markdown",
   "metadata": {
    "id": "hRuhBETPBOa_"
   },
   "source": [
    "## Definizione e addestramento di una ANN\n",
    "\n",
    "Il modello più noto e utilizzato di ANN di tipo feedforward è il MultiLayer Perceptron (MLP). Anche scikit-learn usa questo acronimo, all'interno del namespace `neural_network`"
   ]
  },
  {
   "cell_type": "code",
   "execution_count": 8,
   "metadata": {
    "colab": {
     "base_uri": "https://localhost:8080/"
    },
    "executionInfo": {
     "elapsed": 1870,
     "status": "ok",
     "timestamp": 1609363736622,
     "user": {
      "displayName": "Stefano Marrone",
      "photoUrl": "https://lh3.googleusercontent.com/a-/AOh14Gj7UYQUq4o1dqiJKQAfAybDDzcHqi0EhyshODI0Bg=s64",
      "userId": "07649195604695653363"
     },
     "user_tz": -60
    },
    "id": "o6uaeURZOTAu",
    "outputId": "9db6a982-39ae-471a-b158-145c048de178"
   },
   "outputs": [
    {
     "data": {
      "text/plain": [
       "MLPClassifier(activation='relu', alpha=0.0001, batch_size='auto', beta_1=0.9,\n",
       "              beta_2=0.999, early_stopping=False, epsilon=1e-08,\n",
       "              hidden_layer_sizes=(3, 4), learning_rate='constant',\n",
       "              learning_rate_init=0.001, max_fun=15000, max_iter=100,\n",
       "              momentum=0.9, n_iter_no_change=10, nesterovs_momentum=True,\n",
       "              power_t=0.5, random_state=None, shuffle=True, solver='adam',\n",
       "              tol=0.0001, validation_fraction=0.1, verbose=False,\n",
       "              warm_start=False)"
      ]
     },
     "execution_count": 8,
     "metadata": {},
     "output_type": "execute_result"
    }
   ],
   "source": [
    "from sklearn.neural_network import MLPClassifier\n",
    "\n",
    "mlp = MLPClassifier(hidden_layer_sizes=(3,4), max_iter=100)\n",
    "mlp.fit(dataTrainScalato, classiTrain)"
   ]
  },
  {
   "cell_type": "markdown",
   "metadata": {
    "id": "Clmaq9khOmpW"
   },
   "source": [
    "Analizziamo nel dettaglio le due funzioni utilizzate. \n",
    "\n",
    "`MLPClassifier` è il metodo che permette l'inizializzazione di un MLP a fini di classificazione. Prevede differenti opzioni (si rimanda alla documentazione ufficiale per maggiori dettagli), tra cui le due più importanti sono riportate nell'esempio:\n",
    "\n",
    "*   `hidden_layer_sizes` definisce il numero di livelli nello strato nascosto (hidden layers) e il numero di neuroni per ognuno di essi. Si noti che l'unica informazione esplicitamente dichiarata è il numero di neuroni per ogni livello (un array di due elementi nell'esempio, con 3 per il primo livello e 4 per il secondo). Il numero di livelli nascosti è implicitamente determinato dal numero di elementi di tale vettore (due nell'esempio)\n",
    "*   `max_iter` definisce il numero di epoche. Si noti che in questo caso viene impropriamente usato il termine *iter* (per iterazioni) per indicare un'epoca\n",
    "\n",
    "`fit` è il metodo che avvia l'addestramento vero e proprio. \n",
    "\n",
    "Si noti come l'output di tale operazione è la lista di tutti i parametri usati per l'addestramento.\n",
    "\n"
   ]
  },
  {
   "cell_type": "markdown",
   "metadata": {
    "id": "YUUICKvAKEWD"
   },
   "source": [
    "### Valutazione delle performance\n",
    "\n",
    "A termine delle istruzioni precedenti, la variabile `mlp` contiene una ANN (con le caratteristiche definite precedentemente) addestrata sui dati contenuti nell'array `dataTrainScalato`. A questo punto, è possibile usare il metodo `predict` per ottenere l'output generato dal modello addestrato su dati mai visti (come ad esempio il test set se si vuole valutare l'errore di generalizzazione o dati nuovi quando il modello sarà rilasciato per funzionare nel mondo reale). \n",
    "\n",
    "Per valutare le performance ottenute, scikit-learn prevede numerose possibilità, tutte raggruppate nel package `metrics`. Per avere una rapida panoramica delle performance, è possibile usare i metodi `confusion_matrix` e `classification_report`."
   ]
  },
  {
   "cell_type": "code",
   "execution_count": 9,
   "metadata": {
    "colab": {
     "base_uri": "https://localhost:8080/"
    },
    "executionInfo": {
     "elapsed": 1866,
     "status": "ok",
     "timestamp": 1609363736623,
     "user": {
      "displayName": "Stefano Marrone",
      "photoUrl": "https://lh3.googleusercontent.com/a-/AOh14Gj7UYQUq4o1dqiJKQAfAybDDzcHqi0EhyshODI0Bg=s64",
      "userId": "07649195604695653363"
     },
     "user_tz": -60
    },
    "id": "bK7LWm6JOneI",
    "outputId": "a235cc12-cdf3-4885-d7bb-d4bc6f3ddfd3"
   },
   "outputs": [
    {
     "name": "stdout",
     "output_type": "stream",
     "text": [
      "[[ 0  4  8]\n",
      " [ 0 10  1]\n",
      " [ 0  0  7]]\n",
      "              precision    recall  f1-score   support\n",
      "\n",
      "           0       0.00      0.00      0.00        12\n",
      "           1       0.71      0.91      0.80        11\n",
      "           2       0.44      1.00      0.61         7\n",
      "\n",
      "    accuracy                           0.57        30\n",
      "   macro avg       0.38      0.64      0.47        30\n",
      "weighted avg       0.36      0.57      0.44        30\n",
      "\n"
     ]
    }
   ],
   "source": [
    "predictions = mlp.predict(dataTestScalato)\n",
    "\n",
    "from sklearn.metrics import classification_report, confusion_matrix\n",
    "print(confusion_matrix(classiTest,predictions))\n",
    "print(classification_report(classiTest,predictions))"
   ]
  },
  {
   "cell_type": "code",
   "execution_count": 10,
   "metadata": {
    "executionInfo": {
     "elapsed": 1861,
     "status": "ok",
     "timestamp": 1609363736623,
     "user": {
      "displayName": "Stefano Marrone",
      "photoUrl": "https://lh3.googleusercontent.com/a-/AOh14Gj7UYQUq4o1dqiJKQAfAybDDzcHqi0EhyshODI0Bg=s64",
      "userId": "07649195604695653363"
     },
     "user_tz": -60
    },
    "id": "SzGP3ynyw1V_"
   },
   "outputs": [],
   "source": [
    "#TASK: Che succede se addestriamo la rete su dati non normalizzati? Che performance abbiamo?\n"
   ]
  },
  {
   "cell_type": "markdown",
   "metadata": {
    "id": "OC7ONXmivm60"
   },
   "source": [
    "### Tuning dei parametri\n",
    "\n",
    "Le performance ottenute nell'esercizio precedente non sono particolarmente entusiasmanti. Per migliorarle, è possibile agire sul numero di livelli hidden, sul numero di neuroni al loro interno, sul massimo numero di epoche (iterazioni) e sugli altri parametri disponibili per `MLPClassifier`, valutando come queste modifiche impattino sulle performance.\n",
    "\n",
    "Questa procedura è detta ottimizzazione dei parametri. Dalla teoria sappiamo però che questa operazione NON deve essere effettuata utilizzando i dati del test set. Infatti, quest'ultimo deve non deve essere usato per addestrare (nè esplicitamente nè implicitamente) il classificatore, se si vuole avere una stima realistica dell'errore di generalizzazione. \n",
    "\n",
    "Ed è a questo punto che entra in gioco il validation set, finora inutilizzato. Il procedimento è quindi il seguente: \n",
    "\n",
    "*   Si sceglie una serie di valori per i parametri che si vogliono modificare, appuntandoli (ad esempio in una tabella)\n",
    "*   Si esegue l'addestramento sul training set\n",
    "*   Si valutano le performance sul validation set, appuntando i risultati ottenuti a margine del set di parametri usati\n",
    "\n",
    "Il procedimento è ripetuto in maniera iterativa fino a quando non si determina un *buon* set di parametri (ossia che permetta di avere performance soddisfacenti sul validation set). Solo a questo punto, il miglior modello ottenuto viene usato per valutare le performance sul test set: se l'errore di generalizzazione cosi ottenuto è \"simile\" a quello che si commetteva sul validation set, c'è la ragionevole sicurezza che il modello si comporterà in maniera simile anche su nuovi dati, mai visti.\n"
   ]
  },
  {
   "cell_type": "code",
   "execution_count": 11,
   "metadata": {
    "colab": {
     "base_uri": "https://localhost:8080/"
    },
    "executionInfo": {
     "elapsed": 1857,
     "status": "ok",
     "timestamp": 1609363736624,
     "user": {
      "displayName": "Stefano Marrone",
      "photoUrl": "https://lh3.googleusercontent.com/a-/AOh14Gj7UYQUq4o1dqiJKQAfAybDDzcHqi0EhyshODI0Bg=s64",
      "userId": "07649195604695653363"
     },
     "user_tz": -60
    },
    "id": "fTvOftSW3d6e",
    "outputId": "421a12ff-5567-4121-b69d-2ec53532a058"
   },
   "outputs": [
    {
     "name": "stdout",
     "output_type": "stream",
     "text": [
      "[[ 9  1  0]\n",
      " [ 2  7  0]\n",
      " [ 1 10  0]]\n",
      "              precision    recall  f1-score   support\n",
      "\n",
      "           0       0.75      0.90      0.82        10\n",
      "           1       0.39      0.78      0.52         9\n",
      "           2       0.00      0.00      0.00        11\n",
      "\n",
      "    accuracy                           0.53        30\n",
      "   macro avg       0.38      0.56      0.45        30\n",
      "weighted avg       0.37      0.53      0.43        30\n",
      "\n",
      "[[12  0  0]\n",
      " [ 2  9  0]\n",
      " [ 2  5  0]]\n",
      "              precision    recall  f1-score   support\n",
      "\n",
      "           0       0.75      1.00      0.86        12\n",
      "           1       0.64      0.82      0.72        11\n",
      "           2       0.00      0.00      0.00         7\n",
      "\n",
      "    accuracy                           0.70        30\n",
      "   macro avg       0.46      0.61      0.53        30\n",
      "weighted avg       0.54      0.70      0.61        30\n",
      "\n"
     ]
    }
   ],
   "source": [
    "#Addestramento sul training set, con parametri differenti\n",
    "mlp = MLPClassifier(hidden_layer_sizes=(1,2), max_iter=150)\n",
    "mlp.fit(dataTrainScalato, classiTrain)\n",
    "\n",
    "#Valutazione delle performance sul validation \n",
    "predictionsValidation = mlp.predict(dataValidationScalato)\n",
    "print(confusion_matrix(classiValidation,predictionsValidation))\n",
    "print(classification_report(classiValidation,predictionsValidation))\n",
    "\n",
    "####################################################################################\n",
    "#                                                                                  #\n",
    "# Le righe di cui sopra vanno iterate fino a quando si è soddisfatti dei risultati #\n",
    "#                                                                                  #\n",
    "####################################################################################\n",
    "\n",
    "#Valutazione dell'errore di generalizzazione\n",
    "predictionsTest = mlp.predict(dataTestScalato)\n",
    "print(confusion_matrix(classiTest,predictionsTest))\n",
    "print(classification_report(classiTest,predictionsTest))"
   ]
  },
  {
   "cell_type": "markdown",
   "metadata": {
    "id": "fl_fbru_d3OK"
   },
   "source": [
    "Settare il numero di epoche di addestramento richiede la valutazione delle performance del modello per differenti valori del parametro `max_iter`. Scikit-learn mette a disposizione un metodo per automatizzare questa procedura iterativa tramite il metodo `validation_curve` del package `model_selection`"
   ]
  },
  {
   "cell_type": "code",
   "execution_count": 12,
   "metadata": {
    "colab": {
     "base_uri": "https://localhost:8080/",
     "height": 297
    },
    "executionInfo": {
     "elapsed": 6689,
     "status": "ok",
     "timestamp": 1609363956479,
     "user": {
      "displayName": "Stefano Marrone",
      "photoUrl": "https://lh3.googleusercontent.com/a-/AOh14Gj7UYQUq4o1dqiJKQAfAybDDzcHqi0EhyshODI0Bg=s64",
      "userId": "07649195604695653363"
     },
     "user_tz": -60
    },
    "id": "lcayHUlaf3AV",
    "outputId": "eebf7f40-8a6e-41c5-ea59-371bcb57226b"
   },
   "outputs": [
    {
     "data": {
      "image/png": "[encoded data removed]",
      "text/plain": [
       "<Figure size 432x288 with 1 Axes>"
      ]
     },
     "metadata": {
      "needs_background": "light"
     },
     "output_type": "display_data"
    }
   ],
   "source": [
    "import matplotlib.pyplot as plt\n",
    "import numpy as np\n",
    "from sklearn.model_selection import validation_curve\n",
    "\n",
    "#Range nel quale si vuole far variare il parametro\n",
    "epochRange = np.arange(1, 100, 2)\n",
    "\n",
    "#Addestramento e test sul validation set (calcolato automaticamente) per ognuno dei valori in epochRange\n",
    "trainScores, validationScores = validation_curve(MLPClassifier(hidden_layer_sizes=(5,5)), \n",
    "                                             dataTrainScalato, \n",
    "                                             classiTrain, \n",
    "                                             param_name=\"max_iter\", \n",
    "                                             param_range=epochRange,\n",
    "                                             cv=3,                      #Numero di cross-validation da effettuare\n",
    "                                             scoring=\"accuracy\", \n",
    "                                             n_jobs=-1)\n",
    "\n",
    "#Calcolo della media e della varianza dei risultati sul training set\n",
    "trainMean = np.mean(trainScores, axis=1)\n",
    "trainStd = np.std(trainScores, axis=1)\n",
    "\n",
    "#Calcolo della media e della varianza dei risultati sul validation set\n",
    "valMean = np.mean(validationScores, axis=1)\n",
    "valStd = np.std(validationScores, axis=1)\n",
    "\n",
    "#Visualizzazione delle accuracy medie\n",
    "plt.plot(epochRange, trainMean, label=\"Training Accuracy\", color=\"black\")\n",
    "plt.plot(epochRange, valMean, label=\"Cross-validation Accuracy\", color=\"dimgrey\")\n",
    "\n",
    "#Visualizzazione degli intervalli di variazione\n",
    "plt.fill_between(epochRange, trainMean - trainStd, trainMean + trainStd, color=\"gray\")\n",
    "plt.fill_between(epochRange, valMean - valStd, valMean + valStd, color=\"gainsboro\")\n",
    "\n",
    "plt.title(\"Curve di addestramento\")\n",
    "plt.xlabel(\"Epoche\")\n",
    "plt.ylabel(\"Accuracy\")\n",
    "plt.tight_layout()\n",
    "plt.legend(loc=\"best\")\n",
    "plt.show()"
   ]
  },
  {
   "cell_type": "markdown",
   "metadata": {
    "id": "y3egntmwhqK1"
   },
   "source": [
    "Si noti che `validation_curve` effettua automaticamente lo split del dataset in ingresso in training e validation. Quindi, se si intende usare `validation_curve` per il tuning dei parametri, non è necessario effettuare esplicitamente lo split in training, validation e test set, ma sarà sufficiente dividere solamente in training e test set."
   ]
  },
  {
   "cell_type": "code",
   "execution_count": 13,
   "metadata": {
    "executionInfo": {
     "elapsed": 1848,
     "status": "aborted",
     "timestamp": 1609363736625,
     "user": {
      "displayName": "Stefano Marrone",
      "photoUrl": "https://lh3.googleusercontent.com/a-/AOh14Gj7UYQUq4o1dqiJKQAfAybDDzcHqi0EhyshODI0Bg=s64",
      "userId": "07649195604695653363"
     },
     "user_tz": -60
    },
    "id": "wOsG3vnR3HzG"
   },
   "outputs": [],
   "source": [
    "#TASK: eseguire la procedura riportata fino ad ottenere performance migliori\n"
   ]
  },
  {
   "cell_type": "markdown",
   "metadata": {
    "id": "wWxO-qqq4zV6"
   },
   "source": [
    "# Esercizio\n",
    "\n",
    "Si utlizzino i concetti appresi per addestrare una ANN al riconoscimento di cifre scritte a mano. Il dataset da utilizzarsi è MNIST (Modified National Institute of Standards and Technology), scaricabile dal [sito ufficiale](http://yann.lecun.com/exdb/mnist/) o importabile da scikit-learn tramite il metodo `load_digits` del package `datasets`.\n",
    "\n",
    "Si noti che, a differenza di quanto visto negli esercizi, in questo caso il dataset non è già rappresentato sottoforma di features (dato che ogni campione è una matrice di pixel). Si usi il valore stesso dei pixel come feature vector, linearizzando l'immagine.\n",
    "\n",
    "Si visualizzino anche alcuni campioni del dataset tramite l'uso di Matplotlib."
   ]
  },
  {
   "cell_type": "markdown",
   "metadata": {
    "id": "tkhjjgxv8nsc"
   },
   "source": [
    "# Soluzione Esercizio"
   ]
  },
  {
   "cell_type": "code",
   "execution_count": 14,
   "metadata": {
    "executionInfo": {
     "elapsed": 1844,
     "status": "aborted",
     "timestamp": 1609363736626,
     "user": {
      "displayName": "Stefano Marrone",
      "photoUrl": "https://lh3.googleusercontent.com/a-/AOh14Gj7UYQUq4o1dqiJKQAfAybDDzcHqi0EhyshODI0Bg=s64",
      "userId": "07649195604695653363"
     },
     "user_tz": -60
    },
    "id": "9qmeaNnY6J7-",
    "scrolled": true
   },
   "outputs": [
    {
     "name": "stdout",
     "output_type": "stream",
     "text": [
      "(1797, 8, 8)\n",
      "[[33  0  0  0  1  0  1  0  0  0]\n",
      " [ 0 40  2  0  1  0  0  0  1  0]\n",
      " [ 0  1 34  1  0  0  0  0  0  1]\n",
      " [ 1  0  0 30  0  0  1  0  2  2]\n",
      " [ 0  1  0  0 39  0  0  0  0  0]\n",
      " [ 0  0  0  1  3 35  0  0  0  0]\n",
      " [ 0  1  0  0  0  0 31  0  0  0]\n",
      " [ 0  0  0  1  0  0  0 21  0  0]\n",
      " [ 0  1  0  0  1  0  0  0 32  4]\n",
      " [ 0  0  2  0  0  0  0  1  1 33]]\n",
      "              precision    recall  f1-score   support\n",
      "\n",
      "           0       0.97      0.94      0.96        35\n",
      "           1       0.91      0.91      0.91        44\n",
      "           2       0.89      0.92      0.91        37\n",
      "           3       0.91      0.83      0.87        36\n",
      "           4       0.87      0.97      0.92        40\n",
      "           5       1.00      0.90      0.95        39\n",
      "           6       0.94      0.97      0.95        32\n",
      "           7       0.95      0.95      0.95        22\n",
      "           8       0.89      0.84      0.86        38\n",
      "           9       0.82      0.89      0.86        37\n",
      "\n",
      "    accuracy                           0.91       360\n",
      "   macro avg       0.92      0.91      0.91       360\n",
      "weighted avg       0.91      0.91      0.91       360\n",
      "\n",
      "[[38  0  1  0  1  0  0  0  0  0]\n",
      " [ 0 33  2  0  1  0  0  0  2  0]\n",
      " [ 0  1 33  1  0  0  0  0  0  0]\n",
      " [ 0  0  2 41  0  0  0  1  1  0]\n",
      " [ 0  0  0  0 30  0  1  0  0  0]\n",
      " [ 0  0  1  0  1 28  0  0  0  2]\n",
      " [ 0  1  0  0  0  0 34  0  0  0]\n",
      " [ 0  0  0  0  1  0  0 31  0  1]\n",
      " [ 0  3  0  0  0  1  0  1 28  0]\n",
      " [ 0  0  1  1  0  2  0  0  1 33]]\n",
      "              precision    recall  f1-score   support\n",
      "\n",
      "           0       1.00      0.95      0.97        40\n",
      "           1       0.87      0.87      0.87        38\n",
      "           2       0.82      0.94      0.88        35\n",
      "           3       0.95      0.91      0.93        45\n",
      "           4       0.88      0.97      0.92        31\n",
      "           5       0.90      0.88      0.89        32\n",
      "           6       0.97      0.97      0.97        35\n",
      "           7       0.94      0.94      0.94        33\n",
      "           8       0.88      0.85      0.86        33\n",
      "           9       0.92      0.87      0.89        38\n",
      "\n",
      "    accuracy                           0.91       360\n",
      "   macro avg       0.91      0.91      0.91       360\n",
      "weighted avg       0.92      0.91      0.91       360\n",
      "\n"
     ]
    },
    {
     "data": {
      "image/png": "[encoded data removed]",
      "text/plain": [
       "<Figure size 576x576 with 100 Axes>"
      ]
     },
     "metadata": {},
     "output_type": "display_data"
    }
   ],
   "source": [
    "from sklearn.datasets import load_digits\n",
    "import matplotlib.pyplot as plt\n",
    "from sklearn.preprocessing import StandardScaler\n",
    "from sklearn.model_selection import train_test_split\n",
    "from sklearn.metrics import classification_report, confusion_matrix\n",
    "from sklearn.neural_network import MLPClassifier\n",
    "\n",
    "#Caricamento dei dati\n",
    "digits = load_digits()\n",
    "print(digits.images.shape)\n",
    "\n",
    "#Visualizzazione di alcuni campioni\n",
    "fig, axes = plt.subplots(10, 10, figsize=(8, 8),\n",
    "                         subplot_kw={'xticks':[], 'yticks':[]},\n",
    "                         gridspec_kw=dict(hspace=0.1, wspace=0.1))\n",
    "\n",
    "for i, ax in enumerate(axes.flat):\n",
    "    ax.imshow(digits.images[i], cmap='binary', interpolation='nearest')\n",
    "    ax.text(0.05, 0.05, str(digits.target[i]),\n",
    "            transform=ax.transAxes, color='green')\n",
    "\n",
    "#Preparazione del dataset\n",
    "dati = digits.data           \n",
    "classi = digits.target\n",
    "\n",
    "dataTrain, dataTest, classiTrain, classiTest = train_test_split(dati, classi, test_size = 0.20)\n",
    "dataTrain, dataValidation, classiTrain, classiValidation = train_test_split(dataTrain, classiTrain, test_size = 0.25)\n",
    "\n",
    "scaler = StandardScaler()\n",
    "scaler.fit(dataTrain)\n",
    "\n",
    "dataTrainScalato = scaler.transform(dataTrain)\n",
    "dataTestScalato = scaler.transform(dataTest)\n",
    "dataValidationScalato = scaler.transform(dataValidation)\n",
    "\n",
    "#Addestramento e tuning dei parametri\n",
    "mlp = MLPClassifier(hidden_layer_sizes=(10,50,10), max_iter=1500)\n",
    "mlp.fit(dataTrainScalato, classiTrain)\n",
    "\n",
    "#Valutazione delle performance sul validation \n",
    "predictionsValidation = mlp.predict(dataValidationScalato)\n",
    "print(confusion_matrix(classiValidation,predictionsValidation))\n",
    "print(classification_report(classiValidation,predictionsValidation))\n",
    "\n",
    "#Valutazione dell'errore di generalizzazione\n",
    "predictionsTest = mlp.predict(dataTestScalato)\n",
    "print(confusion_matrix(classiTest,predictionsTest))\n",
    "print(classification_report(classiTest,predictionsTest))"
   ]
  }
 ],
 "metadata": {
  "colab": {
   "authorship_tag": "ABX9TyOGw5NxbWf9zZCoYLp/BeoE",
   "collapsed_sections": [],
   "name": "Federica - W2-L1.ipynb",
   "provenance": []
  },
  "kernelspec": {
   "display_name": "Python 3",
   "language": "python",
   "name": "python3"
  },
  "language_info": {
   "codemirror_mode": {
    "name": "ipython",
    "version": 3
   },
   "file_extension": ".py",
   "mimetype": "text/x-python",
   "name": "python",
   "nbconvert_exporter": "python",
   "pygments_lexer": "ipython3",
   "version": "3.7.6"
  }
 },
 "nbformat": 4,
 "nbformat_minor": 1
}
