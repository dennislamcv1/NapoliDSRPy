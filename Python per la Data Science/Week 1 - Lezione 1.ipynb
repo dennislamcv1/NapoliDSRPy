{
 "cells": [
  {
   "cell_type": "markdown",
   "metadata": {
    "id": "6hQ7xoDpT3PV"
   },
   "source": [
    "# Cos'è NumPy?\n",
    "\n",
    "NumPy (\"Numerical Python\", pronunciato all'inglese con \"num\" come in \"number\" e \"Py\" come $\\pi$) è un progetto open-source nato per estendere Python con una serie di funzionalità essenziali per il calcolo numerico e scientifico, tra cui:\n",
    "\n",
    "*   Supporto agli array multidimensionali (tensori);\n",
    "*   Supporto nativo alle operazioni tensoriali (e.g. ordinamento, operazioni algebriche, I/O, trasformazioni, etc.).\n",
    "\n",
    "NumPy non ha prerequisiti, se non Python stesso. Tutti i laboratori presenti nel corso avranno già una versione di NumPy installata. In questa lezione vedremo i concetti e i comandi fondamentali nell'utilizzo di NumPy per la Data Science. La guida ufficiale completa è reperibile sul [sito ufficiale](https://numpy.org/doc/stable/). Si noti inoltre che le funzionalità e la sintassi dei comandi possono variare tra le varie release. Questo documento fa riferimento alla versione `1.18.4`."
   ]
  },
  {
   "cell_type": "markdown",
   "metadata": {
    "id": "dPQzGaOfVF3o"
   },
   "source": [
    "# Come usare NumPy\n",
    "\n",
    "Come tutte le librerie Python, per poter utilizzare NumPy è necessario prima importare la libreria tramite il comando `import`"
   ]
  },
  {
   "cell_type": "code",
   "execution_count": 1,
   "metadata": {
    "colab": {
     "base_uri": "https://localhost:8080/",
     "height": 35
    },
    "executionInfo": {
     "elapsed": 861,
     "status": "ok",
     "timestamp": 1607502740198,
     "user": {
      "displayName": "Stefano Marrone",
      "photoUrl": "https://lh3.googleusercontent.com/a-/AOh14Gj7UYQUq4o1dqiJKQAfAybDDzcHqi0EhyshODI0Bg=s64",
      "userId": "07649195604695653363"
     },
     "user_tz": -60
    },
    "id": "6fdCrLDmFVO3",
    "outputId": "61aed512-8a9c-4bb5-fd6c-9e6821796319"
   },
   "outputs": [
    {
     "data": {
      "text/plain": [
       "'1.18.4'"
      ]
     },
     "execution_count": 1,
     "metadata": {},
     "output_type": "execute_result"
    }
   ],
   "source": [
    "#Import\n",
    "import numpy as np\n",
    "np.version.version     #Questo comando permette la visualizzazione della versione di NumPy importato alla riga precedente"
   ]
  },
  {
   "cell_type": "markdown",
   "metadata": {
    "id": "2DgoDhPyVgBD"
   },
   "source": [
    "Da questo momento in poi, tutte le funzionalità di NumPy saranno accessibili utilizzando la keyword `np` e la dot notation. Si noti che sebbene NumPy possa essere associato a qualsiasi keywork, è buona norma utilizzare `np` per questioni di conformità."
   ]
  },
  {
   "cell_type": "markdown",
   "metadata": {
    "id": "KH_fWcYdVoqb"
   },
   "source": [
    "# NumPy array\n",
    "\n",
    "Spesso conosciuti anche come *NDArray* (N-Dimensional Array) sono un efficiente (in termini di memoria e complessità computazionale) formalizzazione del concetto di tensore (i.e. array multi-dimensionale). Possono contenere al loro interno qualsiasi tipo di dato, purché avente la stessa dimensione e tipo (non sono ammessi array eterogenei). Sono supportate un gran numero di operazioni aritmetiche vettoriali.\n",
    "\n",
    "## Creazione di un array\n",
    "\n",
    "Il comando `array` permette di creare un array NumPy:\n"
   ]
  },
  {
   "cell_type": "code",
   "execution_count": 2,
   "metadata": {
    "executionInfo": {
     "elapsed": 805,
     "status": "ok",
     "timestamp": 1607502743864,
     "user": {
      "displayName": "Stefano Marrone",
      "photoUrl": "https://lh3.googleusercontent.com/a-/AOh14Gj7UYQUq4o1dqiJKQAfAybDDzcHqi0EhyshODI0Bg=s64",
      "userId": "07649195604695653363"
     },
     "user_tz": -60
    },
    "id": "Jv-n0-ASG9nG"
   },
   "outputs": [],
   "source": [
    "#Array 1D\n",
    "a = np.array([1,2,3])\n",
    "\n",
    "#Array 2D\n",
    "b = np.array([(1.5,2),(3,4)])\n",
    "\n",
    "#Array 3D\n",
    "c = np.array([[(1,2),(3,4)], [(5,6),(7,8)]])"
   ]
  },
  {
   "cell_type": "markdown",
   "metadata": {
    "id": "101Fwd8toBgZ"
   },
   "source": [
    "Gli NDArray ereditano la stessa sintassi di accesso ai dati usata per liste e matrici in Python\n",
    "\n"
   ]
  },
  {
   "cell_type": "code",
   "execution_count": 3,
   "metadata": {
    "colab": {
     "base_uri": "https://localhost:8080/"
    },
    "executionInfo": {
     "elapsed": 699,
     "status": "ok",
     "timestamp": 1607502748708,
     "user": {
      "displayName": "Stefano Marrone",
      "photoUrl": "https://lh3.googleusercontent.com/a-/AOh14Gj7UYQUq4o1dqiJKQAfAybDDzcHqi0EhyshODI0Bg=s64",
      "userId": "07649195604695653363"
     },
     "user_tz": -60
    },
    "id": "lrEQUcC-oA89",
    "outputId": "655dc749-6f74-40e6-c7c8-7d1e30a589f6"
   },
   "outputs": [
    {
     "name": "stdout",
     "output_type": "stream",
     "text": [
      "1\n",
      "3\n"
     ]
    }
   ],
   "source": [
    "#Visualizzazione del primo elemento dell'NDArray a\n",
    "print(a[0])\n",
    "\n",
    "#Visualizzazione dell'ultimo elemento dell'NDArray a\n",
    "print(a[-1])\n",
    "\n",
    "#Estrazione dei primi 2 elementi dell'NDArray a\n",
    "d = a[:2]  \n",
    "\n",
    "#Estrazione degli elementi dell'NDArray c > 3 \n",
    "e = c[c>3]"
   ]
  },
  {
   "cell_type": "code",
   "execution_count": 4,
   "metadata": {
    "id": "QZSkW2cWBUUc"
   },
   "outputs": [],
   "source": [
    "#Task: scrivi il codice per visualizzare (print) la sottomatrice dei primi elementi di ogni dimensione dell'NDArray c\n",
    "\n"
   ]
  },
  {
   "cell_type": "markdown",
   "metadata": {
    "id": "-zCUeebsWout"
   },
   "source": [
    "Se non espressamente dichiarato, di default NumPy determina il tipo sulla base del contenuto dell'array e sull'architettura della macchina sulla quale sta eseguendo. Ad esempio, su un processore a 64bit, `a` e `c` saranno di tipo `int64`, mentre `b` sarà di tipo `float64` in quanto almeno un elemento (nell'esempio il primo) non è intero e i NumPy array devono essere omogenei nel tipo. Per forzare il tipo, è possibile usare un secondo parametro durante la chiamata. Ad esempio, il comando \n",
    "\n",
    "```\n",
    "d = np.array([1,2,3],dtype='int8')\n",
    "```\n",
    "\n",
    "genererà un array monodimensionale i cui elementi sono obbligati nel range $[-128, 127]$. \n",
    "\n",
    "L'ordine degli assi è definito come segue:\n",
    "\n",
    "![ndarray.png](data:image/png;base64,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)\n"
   ]
  },
  {
   "cell_type": "code",
   "execution_count": 5,
   "metadata": {
    "executionInfo": {
     "elapsed": 1396,
     "status": "ok",
     "timestamp": 1607426580044,
     "user": {
      "displayName": "Stefano Marrone",
      "photoUrl": "https://lh3.googleusercontent.com/a-/AOh14Gj7UYQUq4o1dqiJKQAfAybDDzcHqi0EhyshODI0Bg=s64",
      "userId": "07649195604695653363"
     },
     "user_tz": -60
    },
    "id": "si-4E5mWWnNu"
   },
   "outputs": [],
   "source": [
    "#TASK: crea un array 'mioArray' contenente i numeri da 8 a 10 in formato intero senza segno, su 16 bit (uint16)\n",
    "\n"
   ]
  },
  {
   "cell_type": "markdown",
   "metadata": {
    "id": "E342L02HYG4N"
   },
   "source": [
    "## Inizializzare un NDArray\n",
    "\n",
    "Negli esempi precedenti gli NDArray sono stati creati e inizializzati elencando esplicitamente gli elementi al loro interno. NumPy prevede una serie di comandi per l'inizializzazione rapida di array, tra cui:"
   ]
  },
  {
   "cell_type": "code",
   "execution_count": 6,
   "metadata": {
    "executionInfo": {
     "elapsed": 1342,
     "status": "ok",
     "timestamp": 1607426325201,
     "user": {
      "displayName": "Stefano Marrone",
      "photoUrl": "https://lh3.googleusercontent.com/a-/AOh14Gj7UYQUq4o1dqiJKQAfAybDDzcHqi0EhyshODI0Bg=s64",
      "userId": "07649195604695653363"
     },
     "user_tz": -60
    },
    "id": "UNWe7POAHPc7"
   },
   "outputs": [],
   "source": [
    "#NDArray 1D con 3 zero\n",
    "a = np.zeros(3) \n",
    "\n",
    "#NDArray 2D (2x5) con tutti uno\n",
    "b = np.ones((2,5))\n",
    "\n",
    "#NDArray 3D (5x7x2) con tutti 8\n",
    "c = np.full((5,7,2),8)\n",
    "\n",
    "#NDArray 2D (3x5) di numeri randomici tra [0-1]\n",
    "d = np.random.rand(3,5)\n",
    "\n",
    "#NDArray 2D (5x5) con tutti 1 sulla diagonale\n",
    "e = np.eye(5)\n",
    "\n",
    "#NDArray 3D (2x8x3) non inizializzato\n",
    "f = np.empty((2,3,8))\n",
    "\n",
    "#NDArray 1D con 4 elementi da 10 a 25, passo 5\n",
    "g = np.arange(10,25,5)\n",
    "\n",
    "#NDArray 1D con 11 elementi equispaziati tra 0 e 3\n",
    "h = np.linspace(0,3,11)"
   ]
  },
  {
   "cell_type": "code",
   "execution_count": 7,
   "metadata": {
    "id": "-MJmafP4Egzs"
   },
   "outputs": [],
   "source": [
    "#TASK: cosa succede agli NDArray dichiarati nelle celle precedenti con gli stessi nomi?\n",
    "\n"
   ]
  },
  {
   "cell_type": "markdown",
   "metadata": {
    "id": "IrrzX0OmYMkb"
   },
   "source": [
    "## Proprietà degli NDArray\n",
    "\n",
    "NumPy mette a disposizione dell'utente una serie di comandi per accedere alle \"proprietà di un NDArray\", ossia informazioni circa la sua natura, numero di elementi, dimensione, etc. Partiamo dall'NDArray `mioArray` definito in un task precedente"
   ]
  },
  {
   "cell_type": "code",
   "execution_count": 8,
   "metadata": {
    "id": "o2S3sGVjIRKP"
   },
   "outputs": [
    {
     "ename": "NameError",
     "evalue": "name 'mioArray' is not defined",
     "output_type": "error",
     "traceback": [
      "\u001b[0;31m---------------------------------------------------------------------------\u001b[0m",
      "\u001b[0;31mNameError\u001b[0m                                 Traceback (most recent call last)",
      "\u001b[0;32m<ipython-input-8-dd510da27bb8>\u001b[0m in \u001b[0;36m<module>\u001b[0;34m\u001b[0m\n\u001b[1;32m      2\u001b[0m \u001b[0;34m\u001b[0m\u001b[0m\n\u001b[1;32m      3\u001b[0m \u001b[0;31m#Numero di dimensioni dell'NDArray\u001b[0m\u001b[0;34m\u001b[0m\u001b[0;34m\u001b[0m\u001b[0;34m\u001b[0m\u001b[0m\n\u001b[0;32m----> 4\u001b[0;31m \u001b[0mnumdim\u001b[0m \u001b[0;34m=\u001b[0m \u001b[0mmioArray\u001b[0m\u001b[0;34m.\u001b[0m\u001b[0mndim\u001b[0m\u001b[0;34m\u001b[0m\u001b[0;34m\u001b[0m\u001b[0m\n\u001b[0m\u001b[1;32m      5\u001b[0m \u001b[0;34m\u001b[0m\u001b[0m\n\u001b[1;32m      6\u001b[0m \u001b[0;31m#Ampiezza di ogni dimensione\u001b[0m\u001b[0;34m\u001b[0m\u001b[0;34m\u001b[0m\u001b[0;34m\u001b[0m\u001b[0m\n",
      "\u001b[0;31mNameError\u001b[0m: name 'mioArray' is not defined"
     ]
    }
   ],
   "source": [
    "#l'NDArray `mioArray` è definito in un task precedente\n",
    "\n",
    "#Numero di dimensioni dell'NDArray\n",
    "numdim = mioArray.ndim\n",
    "\n",
    "#Ampiezza di ogni dimensione\n",
    "dim1 = mioArray.shape\n",
    "\n",
    "#Tipo\n",
    "tipo = mioArray.dtype\n",
    "\n",
    "#Lunghezza della prima dimensione\n",
    "lung = len(mioArray)\n",
    "\n",
    "#Numero totale di elementi presenti\n",
    "num = mioArray.size"
   ]
  },
  {
   "cell_type": "markdown",
   "metadata": {
    "id": "jzlh9WKGYdox"
   },
   "source": [
    "## Manipolazione degli NDArray\n",
    "\n",
    "NumPy dà la possibilità di manipolare gli NDArray, ad esempio per aggiungere\\eliminare elementi, cambiare *shape* etc. Dati due NDArray `a` e `b` aventi la stessa dimensione"
   ]
  },
  {
   "cell_type": "code",
   "execution_count": 9,
   "metadata": {
    "id": "A8pAXEUCIaAm"
   },
   "outputs": [
    {
     "name": "stdout",
     "output_type": "stream",
     "text": [
      "[[1 0 0 0 0 0 0 0 2 0 0 0 0 0 0 0]\n",
      " [3 0 0 0 0 0 0 0 4 0 0 0 0 0 0 0]\n",
      " [5 0 0 0 0 0 0 0 6 0 0 0 0 0 0 0]\n",
      " [7 0 0 0 0 0 0 0 8 0 0 0 0 0 0 0]]\n"
     ]
    }
   ],
   "source": [
    "a = np.array([(1,2,3,4),(5,6,7,8)])\n",
    "b = np.array([(-1,-2,-3,-4),(-5,-6,-7,-8)])\n",
    "\n",
    "#Trasposta\n",
    "a1 = a.transpose() \n",
    "a2 = a.T\n",
    "a3 = a.swapaxes(0, 1)     #ATTENZIONE: funziona solo se ndim=2\n",
    "\n",
    "#Inserimento del valore 8 in posizione 2 \n",
    "c = np.insert(a, 2, 8)\n",
    "\n",
    "#Eliminazione dell'elemento in posizione 3\n",
    "d = np.delete(a,3)\n",
    "\n",
    "#Accodamento di due array\n",
    "e = np.append(a,b);\n",
    "\n",
    "#Concatenazione di due array\n",
    "f = np.concatenate((a,b), axis=0)\n",
    "\n",
    "#Impilamento di due array\n",
    "g = np.vstack((a,b))     #Verticale\n",
    "h = np.hstack((a,b))     #Orizzontale\n",
    "\n",
    "#Cambiamento shape\n",
    "i = a.reshape(4,2)\n",
    "a.resize(4,2)            #Non genera output, cambia direttamente l'array \"a\"\n",
    "\n",
    "#Flattening (linearizzazione)\n",
    "l = a.ravel()            #Può essere usato per una view\n",
    "m = a.flatten()          \n",
    "\n",
    "#Splitting Verticale\\Orizzontale dall'indice 2\n",
    "n = np.vsplit(a,2)    \n",
    "o = np.hsplit(a,2)    \n",
    "\n",
    "#Divisione dell'array in 2 parti uguali\n",
    "p = np.split(a,2)\n",
    "\n",
    "#Ordinamento crescente rispetto ad un asse\n",
    "q = np.sort(a,axis=1)    #Può essere unsato \"inplace\"\n",
    "\n",
    "#Crea una vista di 'int8'\n",
    "print(a.view('int8'))\n",
    "\n",
    "#Copia un array (due alternative)\n",
    "r = np.copy(a)\n",
    "s = a.copy()\n",
    "\n",
    "#Casting esplicito a \"int32\"\n",
    "t = a.astype(np.int32)"
   ]
  },
  {
   "cell_type": "markdown",
   "metadata": {
    "id": "voVavRnZZMMJ"
   },
   "source": [
    "## Operazioni matematiche\n",
    "\n",
    "NumPy prevede la possibilità di effettuare operazioni matematiche sugli NDArray usando gli stessi operatori e la stessa logica applicata ai numeri scalari. È tuttavia importante prestare attenzione alle entità in gioco (e.g, vettore\\scalare, vettore\\vettore, etc.) al fine di ottenere il risultato desiderato. NumPy offre anche primitive per il calcolo di funzioni aggregate (e.g somma di tutti gli elementi di un vettore), operazioni statistiche (e.g. media, moda, etc.) e altro. "
   ]
  },
  {
   "cell_type": "markdown",
   "metadata": {
    "id": "V8XwMaG8ZRwe"
   },
   "source": [
    "## Operazioni su singolo vettore\n",
    "\n",
    "In questa categoria ricadono tutte le operazioni eseguite su un singolo vettore (i.e. sui suoi elementi). Dato un NDArray `a`"
   ]
  },
  {
   "cell_type": "code",
   "execution_count": 10,
   "metadata": {
    "executionInfo": {
     "elapsed": 972,
     "status": "ok",
     "timestamp": 1607436449884,
     "user": {
      "displayName": "Stefano Marrone",
      "photoUrl": "https://lh3.googleusercontent.com/a-/AOh14Gj7UYQUq4o1dqiJKQAfAybDDzcHqi0EhyshODI0Bg=s64",
      "userId": "07649195604695653363"
     },
     "user_tz": -60
    },
    "id": "TySKSouTSvI2"
   },
   "outputs": [],
   "source": [
    "a = np.array([1,2,3])\n",
    "\n",
    "#Radice quadrata di ogni elemento di a\n",
    "b = np.sqrt(a)\n",
    "\n",
    "#Esponenziazione di ogni elemento di a\n",
    "c = np.exp(a)\n",
    "\n",
    "#Logaritmo naturale di ogni elemento di a\n",
    "d = np.log(a)  #oppure log2(a), log10(a)\n",
    "\n",
    "#Operazioni trigonometriche su ogni elemento di a\n",
    "e = np.sin(a)  #oppure, cos(a), tan(a), etc."
   ]
  },
  {
   "cell_type": "markdown",
   "metadata": {
    "id": "SabwN3khrcV3"
   },
   "source": [
    "## Operazioni vettore-scalare e vettore-vettore\n",
    "\n",
    "In questa categoria ricadono tutte le operazioni eseguite tra un vettore (i.e. sui suoi elementi) ed uno scalare. Dato un NDArray `a` e uno scalare `b`\n"
   ]
  },
  {
   "cell_type": "code",
   "execution_count": 11,
   "metadata": {
    "id": "TCGQIy-IrNAg"
   },
   "outputs": [],
   "source": [
    "a = np.array([1,2,3])\n",
    "b = 5\n",
    "\n",
    "#Somma di b ad ogni elemento di a\n",
    "c = np.add(a,b)       #oppure a + b\n",
    "\n",
    "#Sottrazione di b da ogni elemento di a\n",
    "d = np.subtract(a,b)  #oppure a - b\n",
    "\n",
    "#Moltiplicazione di ogni elemento di a per b\n",
    "e = np.multiply(a,b)  #oppure a * b\n",
    "\n",
    "#Divisione di ogni elemento di a per b\n",
    "f = np.divide(a,b)    #oppure a / b\n",
    "\n",
    "#Elevamento alla potenza b di ogni elemento di a\n",
    "g = np.power(a,b)"
   ]
  },
  {
   "cell_type": "code",
   "execution_count": 12,
   "metadata": {
    "id": "g2r2QTIoyuQr"
   },
   "outputs": [],
   "source": [
    "#TASK: cosa succede se b è un altro NDArray di pari dimensionalità?\n"
   ]
  },
  {
   "cell_type": "code",
   "execution_count": 13,
   "metadata": {
    "id": "30BT06kAyyB2"
   },
   "outputs": [],
   "source": [
    "#TASK: cosa succede se b è un altro NDArray di dimesioni diverse da a? Perchè?\n"
   ]
  },
  {
   "cell_type": "markdown",
   "metadata": {
    "id": "GdTp6UUL_DA_"
   },
   "source": [
    "## Salvataggio e caricamento\n",
    "\n",
    "NumPy prevede anche delle primitive per salvare gli NDArray sul disco, cosi da poterli caricare in un momento successivo. Ipotizzando di voler salvare su disco l'NDArray `mioArray` definito qualche cella fa nel file `mioArray.csv`, è possibile procedere come segue"
   ]
  },
  {
   "cell_type": "code",
   "execution_count": 14,
   "metadata": {
    "id": "8WwP0oUx3U5Y"
   },
   "outputs": [
    {
     "ename": "NameError",
     "evalue": "name 'mioArray' is not defined",
     "output_type": "error",
     "traceback": [
      "\u001b[0;31m---------------------------------------------------------------------------\u001b[0m",
      "\u001b[0;31mNameError\u001b[0m                                 Traceback (most recent call last)",
      "\u001b[0;32m<ipython-input-14-9671387ecb6d>\u001b[0m in \u001b[0;36m<module>\u001b[0;34m\u001b[0m\n\u001b[1;32m      1\u001b[0m \u001b[0;32mfrom\u001b[0m \u001b[0mnumpy\u001b[0m \u001b[0;32mimport\u001b[0m \u001b[0msavetxt\u001b[0m\u001b[0;34m\u001b[0m\u001b[0;34m\u001b[0m\u001b[0m\n\u001b[1;32m      2\u001b[0m \u001b[0;34m\u001b[0m\u001b[0m\n\u001b[0;32m----> 3\u001b[0;31m \u001b[0msavetxt\u001b[0m\u001b[0;34m(\u001b[0m\u001b[0;34m'mioArray.csv'\u001b[0m\u001b[0;34m,\u001b[0m \u001b[0mmioArray\u001b[0m\u001b[0;34m,\u001b[0m \u001b[0mdelimiter\u001b[0m\u001b[0;34m=\u001b[0m\u001b[0;34m','\u001b[0m\u001b[0;34m)\u001b[0m\u001b[0;34m\u001b[0m\u001b[0;34m\u001b[0m\u001b[0m\n\u001b[0m",
      "\u001b[0;31mNameError\u001b[0m: name 'mioArray' is not defined"
     ]
    }
   ],
   "source": [
    "from numpy import savetxt\n",
    "\n",
    "savetxt('mioArray.csv', mioArray, delimiter=',')"
   ]
  },
  {
   "cell_type": "markdown",
   "metadata": {
    "id": "ZGvKiXko4b_9"
   },
   "source": [
    "In maniera simile, per caricare in `mioArrayCaricato` l'array precedentemente salvato nel file `mioArray.csv`, si può procedere come segue"
   ]
  },
  {
   "cell_type": "code",
   "execution_count": 15,
   "metadata": {
    "colab": {
     "base_uri": "https://localhost:8080/"
    },
    "executionInfo": {
     "elapsed": 1084,
     "status": "ok",
     "timestamp": 1607439825387,
     "user": {
      "displayName": "Stefano Marrone",
      "photoUrl": "https://lh3.googleusercontent.com/a-/AOh14Gj7UYQUq4o1dqiJKQAfAybDDzcHqi0EhyshODI0Bg=s64",
      "userId": "07649195604695653363"
     },
     "user_tz": -60
    },
    "id": "iS-o1ltm3itN",
    "outputId": "cace31b7-f1f2-4b8e-86fb-240031ff77a3"
   },
   "outputs": [
    {
     "ename": "OSError",
     "evalue": "mioArray.csv not found.",
     "output_type": "error",
     "traceback": [
      "\u001b[0;31m---------------------------------------------------------------------------\u001b[0m",
      "\u001b[0;31mOSError\u001b[0m                                   Traceback (most recent call last)",
      "\u001b[0;32m<ipython-input-15-64b74b09958a>\u001b[0m in \u001b[0;36m<module>\u001b[0;34m\u001b[0m\n\u001b[1;32m      1\u001b[0m \u001b[0;32mfrom\u001b[0m \u001b[0mnumpy\u001b[0m \u001b[0;32mimport\u001b[0m \u001b[0mloadtxt\u001b[0m\u001b[0;34m\u001b[0m\u001b[0;34m\u001b[0m\u001b[0m\n\u001b[1;32m      2\u001b[0m \u001b[0;34m\u001b[0m\u001b[0m\n\u001b[0;32m----> 3\u001b[0;31m \u001b[0mmioArrayCaricato\u001b[0m \u001b[0;34m=\u001b[0m \u001b[0mloadtxt\u001b[0m\u001b[0;34m(\u001b[0m\u001b[0;34m'mioArray.csv'\u001b[0m\u001b[0;34m,\u001b[0m \u001b[0mdelimiter\u001b[0m\u001b[0;34m=\u001b[0m\u001b[0;34m','\u001b[0m\u001b[0;34m)\u001b[0m\u001b[0;34m\u001b[0m\u001b[0;34m\u001b[0m\u001b[0m\n\u001b[0m\u001b[1;32m      4\u001b[0m \u001b[0mprint\u001b[0m\u001b[0;34m(\u001b[0m\u001b[0mmioArrayCaricato\u001b[0m\u001b[0;34m)\u001b[0m\u001b[0;34m\u001b[0m\u001b[0;34m\u001b[0m\u001b[0m\n",
      "\u001b[0;32m/opt/conda/lib/python3.7/site-packages/numpy/lib/npyio.py\u001b[0m in \u001b[0;36mloadtxt\u001b[0;34m(fname, dtype, comments, delimiter, converters, skiprows, usecols, unpack, ndmin, encoding, max_rows)\u001b[0m\n\u001b[1;32m    979\u001b[0m             \u001b[0mfname\u001b[0m \u001b[0;34m=\u001b[0m \u001b[0mos_fspath\u001b[0m\u001b[0;34m(\u001b[0m\u001b[0mfname\u001b[0m\u001b[0;34m)\u001b[0m\u001b[0;34m\u001b[0m\u001b[0;34m\u001b[0m\u001b[0m\n\u001b[1;32m    980\u001b[0m         \u001b[0;32mif\u001b[0m \u001b[0m_is_string_like\u001b[0m\u001b[0;34m(\u001b[0m\u001b[0mfname\u001b[0m\u001b[0;34m)\u001b[0m\u001b[0;34m:\u001b[0m\u001b[0;34m\u001b[0m\u001b[0;34m\u001b[0m\u001b[0m\n\u001b[0;32m--> 981\u001b[0;31m             \u001b[0mfh\u001b[0m \u001b[0;34m=\u001b[0m \u001b[0mnp\u001b[0m\u001b[0;34m.\u001b[0m\u001b[0mlib\u001b[0m\u001b[0;34m.\u001b[0m\u001b[0m_datasource\u001b[0m\u001b[0;34m.\u001b[0m\u001b[0mopen\u001b[0m\u001b[0;34m(\u001b[0m\u001b[0mfname\u001b[0m\u001b[0;34m,\u001b[0m \u001b[0;34m'rt'\u001b[0m\u001b[0;34m,\u001b[0m \u001b[0mencoding\u001b[0m\u001b[0;34m=\u001b[0m\u001b[0mencoding\u001b[0m\u001b[0;34m)\u001b[0m\u001b[0;34m\u001b[0m\u001b[0;34m\u001b[0m\u001b[0m\n\u001b[0m\u001b[1;32m    982\u001b[0m             \u001b[0mfencoding\u001b[0m \u001b[0;34m=\u001b[0m \u001b[0mgetattr\u001b[0m\u001b[0;34m(\u001b[0m\u001b[0mfh\u001b[0m\u001b[0;34m,\u001b[0m \u001b[0;34m'encoding'\u001b[0m\u001b[0;34m,\u001b[0m \u001b[0;34m'latin1'\u001b[0m\u001b[0;34m)\u001b[0m\u001b[0;34m\u001b[0m\u001b[0;34m\u001b[0m\u001b[0m\n\u001b[1;32m    983\u001b[0m             \u001b[0mfh\u001b[0m \u001b[0;34m=\u001b[0m \u001b[0miter\u001b[0m\u001b[0;34m(\u001b[0m\u001b[0mfh\u001b[0m\u001b[0;34m)\u001b[0m\u001b[0;34m\u001b[0m\u001b[0;34m\u001b[0m\u001b[0m\n",
      "\u001b[0;32m/opt/conda/lib/python3.7/site-packages/numpy/lib/_datasource.py\u001b[0m in \u001b[0;36mopen\u001b[0;34m(path, mode, destpath, encoding, newline)\u001b[0m\n\u001b[1;32m    267\u001b[0m \u001b[0;34m\u001b[0m\u001b[0m\n\u001b[1;32m    268\u001b[0m     \u001b[0mds\u001b[0m \u001b[0;34m=\u001b[0m \u001b[0mDataSource\u001b[0m\u001b[0;34m(\u001b[0m\u001b[0mdestpath\u001b[0m\u001b[0;34m)\u001b[0m\u001b[0;34m\u001b[0m\u001b[0;34m\u001b[0m\u001b[0m\n\u001b[0;32m--> 269\u001b[0;31m     \u001b[0;32mreturn\u001b[0m \u001b[0mds\u001b[0m\u001b[0;34m.\u001b[0m\u001b[0mopen\u001b[0m\u001b[0;34m(\u001b[0m\u001b[0mpath\u001b[0m\u001b[0;34m,\u001b[0m \u001b[0mmode\u001b[0m\u001b[0;34m,\u001b[0m \u001b[0mencoding\u001b[0m\u001b[0;34m=\u001b[0m\u001b[0mencoding\u001b[0m\u001b[0;34m,\u001b[0m \u001b[0mnewline\u001b[0m\u001b[0;34m=\u001b[0m\u001b[0mnewline\u001b[0m\u001b[0;34m)\u001b[0m\u001b[0;34m\u001b[0m\u001b[0;34m\u001b[0m\u001b[0m\n\u001b[0m\u001b[1;32m    270\u001b[0m \u001b[0;34m\u001b[0m\u001b[0m\n\u001b[1;32m    271\u001b[0m \u001b[0;34m\u001b[0m\u001b[0m\n",
      "\u001b[0;32m/opt/conda/lib/python3.7/site-packages/numpy/lib/_datasource.py\u001b[0m in \u001b[0;36mopen\u001b[0;34m(self, path, mode, encoding, newline)\u001b[0m\n\u001b[1;32m    621\u001b[0m                                       encoding=encoding, newline=newline)\n\u001b[1;32m    622\u001b[0m         \u001b[0;32melse\u001b[0m\u001b[0;34m:\u001b[0m\u001b[0;34m\u001b[0m\u001b[0;34m\u001b[0m\u001b[0m\n\u001b[0;32m--> 623\u001b[0;31m             \u001b[0;32mraise\u001b[0m \u001b[0mIOError\u001b[0m\u001b[0;34m(\u001b[0m\u001b[0;34m\"%s not found.\"\u001b[0m \u001b[0;34m%\u001b[0m \u001b[0mpath\u001b[0m\u001b[0;34m)\u001b[0m\u001b[0;34m\u001b[0m\u001b[0;34m\u001b[0m\u001b[0m\n\u001b[0m\u001b[1;32m    624\u001b[0m \u001b[0;34m\u001b[0m\u001b[0m\n\u001b[1;32m    625\u001b[0m \u001b[0;34m\u001b[0m\u001b[0m\n",
      "\u001b[0;31mOSError\u001b[0m: mioArray.csv not found."
     ]
    }
   ],
   "source": [
    "from numpy import loadtxt\n",
    "\n",
    "mioArrayCaricato = loadtxt('mioArray.csv', delimiter=',')\n",
    "print(mioArrayCaricato)"
   ]
  },
  {
   "cell_type": "code",
   "execution_count": 16,
   "metadata": {
    "id": "NTzIGjuW4sa7"
   },
   "outputs": [],
   "source": [
    "#TASK: il tipo dell'array caricato è uguale a quello salvato? Perchè?\n"
   ]
  },
  {
   "cell_type": "markdown",
   "metadata": {
    "id": "wWxO-qqq4zV6"
   },
   "source": [
    "# Esercizio\n",
    "\n",
    "Dati due NDArray salvati nei file `array1.csv` e `array2.csv`, scrivere il codice per effettuare il prodotto scalare tra i due vettori e salvare il risultato, dopo averlo visualizzato a schermo, nel file `dotProduct.csv`"
   ]
  },
  {
   "cell_type": "markdown",
   "metadata": {
    "id": "tkhjjgxv8nsc"
   },
   "source": [
    "# Soluzione Esercizio"
   ]
  },
  {
   "cell_type": "code",
   "execution_count": 17,
   "metadata": {
    "colab": {
     "base_uri": "https://localhost:8080/"
    },
    "executionInfo": {
     "elapsed": 1526,
     "status": "ok",
     "timestamp": 1607443011909,
     "user": {
      "displayName": "Stefano Marrone",
      "photoUrl": "https://lh3.googleusercontent.com/a-/AOh14Gj7UYQUq4o1dqiJKQAfAybDDzcHqi0EhyshODI0Bg=s64",
      "userId": "07649195604695653363"
     },
     "user_tz": -60
    },
    "id": "9qmeaNnY6J7-",
    "outputId": "c10fc555-8d0a-4d17-8939-78b55621119e"
   },
   "outputs": [
    {
     "name": "stdout",
     "output_type": "stream",
     "text": [
      "-30.0\n"
     ]
    }
   ],
   "source": [
    "from numpy import savetxt\n",
    "from numpy import loadtxt\n",
    "from numpy import asarray\n",
    "\n",
    "#Caricamento\n",
    "array1 = loadtxt('array1.csv', delimiter=',')\n",
    "array2 = loadtxt('array2.csv', delimiter=',')\n",
    "\n",
    "#Calcolo del prodotto scalare\n",
    "index = range(len(array1))           #dimensione dell'array\n",
    "temp = np.zeros(len(array1))         #vettore di supporto (inizializzato a 0) \n",
    "for i in index:                      #ciclo per effettuare il prodotto elemento per elemento\n",
    "  temp[i] = array1[i]*array2[i]\n",
    "dotProduct = np.sum(temp)            #somma dei prodotti\n",
    "\n",
    "#Visualizzazione\n",
    "print(dotProduct)\n",
    "\n",
    "#Salvataggio\n",
    "savetxt('dotProduct.csv', [dotProduct], delimiter=',')   #Ricordiamo che dotProduct è uno scalare, e savetxt si aspetta un NDArray"
   ]
  },
  {
   "cell_type": "markdown",
   "metadata": {
    "id": "8vNUJJ7eCmo3"
   },
   "source": [
    "È possibile realizzare la stessa operazione in maniera più *pythoniana*?\n",
    "\n",
    "Certo! \n",
    "\n",
    "`print(sum( [array1[i]*array2[i] for i in range(len(array1))] ))`\n",
    "\n",
    "Esistono altre soluzioni possibili basate sulle funzionalità viste, oltre che soluzioni ad-hoc."
   ]
  },
  {
   "cell_type": "code",
   "execution_count": null,
   "metadata": {},
   "outputs": [],
   "source": []
  }
 ],
 "metadata": {
  "colab": {
   "authorship_tag": "ABX9TyM8GXqE70aaEpF4vpElgy9v",
   "collapsed_sections": [
    "dPQzGaOfVF3o"
   ],
   "name": "Federica - W1-L1.ipynb",
   "provenance": []
  },
  "kernelspec": {
   "display_name": "Python 3",
   "language": "python",
   "name": "python3"
  },
  "language_info": {
   "codemirror_mode": {
    "name": "ipython",
    "version": 3
   },
   "file_extension": ".py",
   "mimetype": "text/x-python",
   "name": "python",
   "nbconvert_exporter": "python",
   "pygments_lexer": "ipython3",
   "version": "3.7.6"
  }
 },
 "nbformat": 4,
 "nbformat_minor": 1
}
