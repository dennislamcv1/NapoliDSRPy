{
 "cells": [
  {
   "cell_type": "markdown",
   "metadata": {},
   "source": [
    "Utilizzando il dataset PASCAL VOC come sorgente di dati, realizzare un sistema che:\n",
    "\n",
    "Per ogni immagine determini se contiene almeno un animale. Per ogni immagine classificata come contenente un animale, riportare il numero di animali presenti. Visualizzare graficamente informazioni sulla distribuzione delle immagini (es. quante immagini contengono almeno un animale rispetto al numero totale delle immagini)\n",
    "\n",
    "Svolgere l'esercizio utilizzando tutti gli strumenti messi a disposizione dal corso, tutti i dati forniti dal dataset, visualizzando anche graficamente i risultati prodotti. La soluzione deve fare uso di (una o più) reti usate durante il corso (AlexNet, VGG16, ResNet18, ResNetUNet, SSD300).\n",
    "\n",
    "Spunti di soluzione: La traccia può essere svolta sia realizzando un sistema che opera in più fasi (ossia prima classificazione e poi detection), sia tramite un sistema unico. È possibile estrarre feature di terze parti da utilizzarsi con ANN, così come fare ricorso a CNN pre-addestrate. È possibile effettuare la classificazione analizzando informazioni accessorie (ad es. analizzando le parole contenute nella caption o in altre parti delle annotation). È possibile visualizzare la distribuzione degli animali tramite grafici a torta o a barre (quest'ultimo particolarmente utile nel caso in cui si vogliano mostrare grafici al variare del numero di animali presenti nella scena)."
   ]
  },
  {
   "cell_type": "code",
   "execution_count": null,
   "metadata": {},
   "outputs": [],
   "source": []
  }
 ],
 "metadata": {
  "kernelspec": {
   "display_name": "Python 3",
   "language": "python",
   "name": "python3"
  },
  "language_info": {
   "codemirror_mode": {
    "name": "ipython",
    "version": 3
   },
   "file_extension": ".py",
   "mimetype": "text/x-python",
   "name": "python",
   "nbconvert_exporter": "python",
   "pygments_lexer": "ipython3",
   "version": "3.7.6"
  }
 },
 "nbformat": 4,
 "nbformat_minor": 4
}
